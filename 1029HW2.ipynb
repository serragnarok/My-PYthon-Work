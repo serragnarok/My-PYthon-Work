{
 "cells": [
  {
   "cell_type": "code",
   "execution_count": 1,
   "metadata": {},
   "outputs": [],
   "source": [
    "import ipywidgets as widgets\n",
    "from IPython.display import display\n",
    "import getpass  \n",
    "ac = {}"
   ]
  },
  {
   "cell_type": "code",
   "execution_count": 4,
   "metadata": {},
   "outputs": [
    {
     "name": "stdout",
     "output_type": "stream",
     "text": [
      "請輸入您的帳號ele\n",
      "請輸入您的密碼········\n"
     ]
    },
    {
     "data": {
      "application/vnd.jupyter.widget-view+json": {
       "model_id": "540f474be5a54a8b808005ddc7f6ae6e",
       "version_major": 2,
       "version_minor": 0
      },
      "text/html": [
       "<p>Failed to display Jupyter Widget of type <code>HBox</code>.</p>\n",
       "<p>\n",
       "  If you're reading this message in the Jupyter Notebook or JupyterLab Notebook, it may mean\n",
       "  that the widgets JavaScript is still loading. If this message persists, it\n",
       "  likely means that the widgets JavaScript library is either not installed or\n",
       "  not enabled. See the <a href=\"https://ipywidgets.readthedocs.io/en/stable/user_install.html\">Jupyter\n",
       "  Widgets Documentation</a> for setup instructions.\n",
       "</p>\n",
       "<p>\n",
       "  If you're reading this message in another frontend (for example, a static\n",
       "  rendering on GitHub or <a href=\"https://nbviewer.jupyter.org/\">NBViewer</a>),\n",
       "  it may mean that your frontend doesn't currently support widgets.\n",
       "</p>\n"
      ],
      "text/plain": [
       "HBox(children=(Button(description='註冊', style=ButtonStyle()), Button(description='登入', style=ButtonStyle()), Output()))"
      ]
     },
     "metadata": {},
     "output_type": "display_data"
    }
   ],
   "source": [
    "\n",
    "\n",
    "reg = widgets.Button(description = '註冊')\n",
    "login = widgets.Button(description = '登入')\n",
    "\n",
    "output = widgets.Output()\n",
    "\n",
    "\n",
    "def regist_button_clicked(x):\n",
    "    with output:\n",
    "        if user in ac:\n",
    "            print('使用者已存在')\n",
    "        else:\n",
    "            ac[user] = psd\n",
    "            print(\"使用者成功註冊！\")\n",
    "        \n",
    "def login_button_clicked(x):\n",
    "    with output:\n",
    "        if user in ac:\n",
    "            if ac[user] == psd:\n",
    "                print('使用者成功登入！')\n",
    "            else:\n",
    "                print('使用者密碼錯誤。')\n",
    "        else:\n",
    "            print(\"使用者不存在！請先註冊。\")\n",
    "\n",
    "reg.on_click(regist_button_clicked)\n",
    "login.on_click(login_button_clicked)\n",
    "\n",
    "user = input('請輸入您的帳號')\n",
    "psd = getpass.getpass('請輸入您的密碼')\n",
    "\n",
    "\n",
    "\n",
    "\n",
    "display(widgets.HBox((reg, login, output)))"
   ]
  },
  {
   "cell_type": "code",
   "execution_count": 5,
   "metadata": {},
   "outputs": [
    {
     "data": {
      "text/plain": [
       "{'ele': '1234'}"
      ]
     },
     "execution_count": 5,
     "metadata": {},
     "output_type": "execute_result"
    }
   ],
   "source": [
    "ac\n"
   ]
  },
  {
   "cell_type": "code",
   "execution_count": 6,
   "metadata": {},
   "outputs": [
    {
     "data": {
      "text/plain": [
       "'5678'"
      ]
     },
     "execution_count": 6,
     "metadata": {},
     "output_type": "execute_result"
    }
   ],
   "source": [
    "psd"
   ]
  },
  {
   "cell_type": "code",
   "execution_count": null,
   "metadata": {},
   "outputs": [],
   "source": []
  }
 ],
 "metadata": {
  "kernelspec": {
   "display_name": "Python 3",
   "language": "python",
   "name": "python3"
  }
 },
 "nbformat": 4,
 "nbformat_minor": 2
}
