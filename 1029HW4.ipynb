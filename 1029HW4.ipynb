{
 "cells": [
  {
   "cell_type": "code",
   "execution_count": 1,
   "metadata": {},
   "outputs": [],
   "source": [
    "%matplotlib inline\n",
    "import numpy as np\n",
    "import pandas as pd\n",
    "import matplotlib.pyplot as plt"
   ]
  },
  {
   "cell_type": "code",
   "execution_count": 7,
   "metadata": {},
   "outputs": [
    {
     "name": "stdout",
     "output_type": "stream",
     "text": [
      "所有的牌，接著洗牌\n",
      "['♦ 1', '♠ J', '♥ 7', '♦ 5', '♥ J', '♦ 10', '♦ 3', '☻', '♠ 4', '☺', '♦ 4', '♠ 7', '♣ J', '♥ 10', '♠ 9', '♣ 6', '♣ K', '♠ K', '♥ K', '♠ 6', '♣ Q', '♦ 6', '♥ 6', '♠ 2', '♣ 10', '♥ 8', '♣ 7', '♥ 1', '♠ 8', '♠ 10', '♥ 4', '♠ 3', '♣ 9', '♣ 4', '♦ K', '♣ 8', '♣ 5', '♦ 7', '♣ 1', '♦ J', '♥ 9', '♦ 8', '♠ 1', '♥ 2', '♦ Q', '♦ 2', '♦ 9', '♥ 5', '♠ 5', '♣ 3', '♠ Q', '♥ 3', '♣ 2', '♥ Q']\n",
      "開始發牌\n",
      "['♦ 1', '♠ J', '♥ 7', '♦ 5', '♥ J', '♦ 10', '♦ 3', '☻', '♠ 4', '☺', '♦ 4', '♠ 7', '♣ J', '♥ 10']\n"
     ]
    }
   ],
   "source": [
    "import random\n",
    "def get_card():\n",
    "    for i in f:\n",
    "        for j in range(1,11):\n",
    "            s = i + \" \" + str(j)\n",
    "            card.append(s)\n",
    "        for k in king:\n",
    "            s1 = i + \" \" + k\n",
    "            card.append(s1)\n",
    "    print('所有的牌，接著洗牌')\n",
    "    return card\n",
    "f = [\"♠\", \"♥\", \"♦\",\"♣\"]\n",
    "\n",
    "king = [\"J\", \"Q\", \"K\"]\n",
    "card = [\"☺\", \"☻\", ]\n",
    "get_card()\n",
    "\n",
    "random.shuffle(card)\n",
    "print(card)\n",
    "count = 0\n",
    "count = int(count)\n",
    "\n",
    "i = 0\n",
    "j = 14\n",
    "\n",
    "f = False\n",
    "\n",
    "\n",
    "print(\"開始發牌\")\n",
    "print(card[i : j])\n",
    "i += 14\n",
    "j += 14\n",
    "count += 1\n"
   ]
  },
  {
   "cell_type": "code",
   "execution_count": null,
   "metadata": {},
   "outputs": [],
   "source": []
  },
  {
   "cell_type": "code",
   "execution_count": null,
   "metadata": {},
   "outputs": [],
   "source": []
  },
  {
   "cell_type": "code",
   "execution_count": null,
   "metadata": {},
   "outputs": [],
   "source": []
  }
 ],
 "metadata": {
  "kernelspec": {
   "display_name": "Python 3",
   "language": "python",
   "name": "python3"
  },
  "language_info": {
   "codemirror_mode": {
    "name": "ipython",
    "version": 3
   },
   "file_extension": ".py",
   "mimetype": "text/x-python",
   "name": "python",
   "nbconvert_exporter": "python",
   "pygments_lexer": "ipython3",
   "version": "3.6.4"
  }
 },
 "nbformat": 4,
 "nbformat_minor": 2
}
