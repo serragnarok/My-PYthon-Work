{
 "cells": [
  {
   "cell_type": "code",
   "execution_count": 46,
   "metadata": {},
   "outputs": [],
   "source": [
    "%matplotlib inline\n",
    "\n",
    "import numpy as np\n",
    "import matplotlib.pyplot as plt\n",
    "import pandas as pd\n",
    "from numpy.random import randint"
   ]
  },
  {
   "cell_type": "code",
   "execution_count": 47,
   "metadata": {},
   "outputs": [],
   "source": [
    "p1 = {1:'剪刀', 2:'石頭', 3:'布'}"
   ]
  },
  {
   "cell_type": "code",
   "execution_count": 48,
   "metadata": {},
   "outputs": [],
   "source": [
    "p2 = {'剪刀':1, '石頭':2, '布':3}"
   ]
  },
  {
   "cell_type": "code",
   "execution_count": 49,
   "metadata": {},
   "outputs": [],
   "source": [
    "h = randint(1, 4)"
   ]
  },
  {
   "cell_type": "code",
   "execution_count": 50,
   "metadata": {},
   "outputs": [
    {
     "name": "stdout",
     "output_type": "stream",
     "text": [
      "剪刀?石頭?布?石頭\n"
     ]
    }
   ],
   "source": [
    "a = input('剪刀?石頭?布?')"
   ]
  },
  {
   "cell_type": "code",
   "execution_count": 51,
   "metadata": {},
   "outputs": [
    {
     "name": "stdout",
     "output_type": "stream",
     "text": [
      "你出：石頭\n",
      "對手出：布\n",
      "你輸了\n"
     ]
    }
   ],
   "source": [
    "s = p2[p1[h]] - p2[a]\n",
    "k = False\n",
    "\n",
    "while k != True:\n",
    "    if s == 0:\n",
    "        h = randint(1, 4)\n",
    "        a = input('剪刀?石頭?布?')\n",
    "    elif s == 1 or s == -2:\n",
    "        print('你出：' + a)\n",
    "        print('對手出：' + p1[h])\n",
    "        print('你輸了')\n",
    "        k = True\n",
    "    else:\n",
    "        print('你出：' + a)\n",
    "        print('對手出：' + p1[h])\n",
    "        print('你贏了')\n",
    "        k = True"
   ]
  },
  {
   "cell_type": "code",
   "execution_count": null,
   "metadata": {},
   "outputs": [],
   "source": []
  },
  {
   "cell_type": "code",
   "execution_count": null,
   "metadata": {},
   "outputs": [],
   "source": []
  }
 ],
 "metadata": {
  "kernelspec": {
   "display_name": "Python 3",
   "language": "python",
   "name": "python3"
  },
  "language_info": {
   "codemirror_mode": {
    "name": "ipython",
    "version": 3
   },
   "file_extension": ".py",
   "mimetype": "text/x-python",
   "name": "python",
   "nbconvert_exporter": "python",
   "pygments_lexer": "ipython3",
   "version": "3.6.4"
  }
 },
 "nbformat": 4,
 "nbformat_minor": 2
}
