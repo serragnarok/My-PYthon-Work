{
 "cells": [
  {
   "cell_type": "code",
   "execution_count": 2,
   "metadata": {},
   "outputs": [],
   "source": [
    "import openpyxl\n",
    "import statistics as stats\n",
    "\n",
    "book = openpyxl.load_workbook('C:\\\\Users\\\\user\\\\Desktop\\\\python\\\\oop_20181019\\\\Mailiao.xlsx', data_only=True)"
   ]
  },
  {
   "cell_type": "code",
   "execution_count": 10,
   "metadata": {},
   "outputs": [],
   "source": [
    "sheet = book.active "
   ]
  },
  {
   "cell_type": "code",
   "execution_count": 23,
   "metadata": {},
   "outputs": [],
   "source": [
    "values = []\n",
    "\n",
    "part_row_min = 2\n",
    "part_row_max = 8761\n",
    "part_col = 5\n",
    "\n",
    "error = -1\n",
    "\n",
    "for row in sheet.iter_rows(min_row=part_row_min, min_col=part_col, max_row=part_row_max, max_col=part_col):\n",
    "    for cell in row:\n",
    "        if cell.value == error:\n",
    "            continue\n",
    "        else:\n",
    "            values.append(cell.value)"
   ]
  },
  {
   "cell_type": "code",
   "execution_count": 24,
   "metadata": {},
   "outputs": [
    {
     "name": "stdout",
     "output_type": "stream",
     "text": [
      "Minimum value: 9\n",
      "Maximum value: 549\n",
      "Mean: 70.66515942028985\n",
      "Median: 59\n",
      "Standard deviation: 48.48\n"
     ]
    }
   ],
   "source": [
    "print(\"Minimum value: {0}\".format(min(values)))\n",
    "print(\"Maximum value: {0}\".format(max(values)))\n",
    "print(\"Mean: {0}\".format(stats.mean(values)))\n",
    "print(\"Median: {0}\".format(stats.median(values)))\n",
    "print(\"Standard deviation: {0}\".format(round(stats.stdev(values), 2)))"
   ]
  },
  {
   "cell_type": "code",
   "execution_count": null,
   "metadata": {},
   "outputs": [],
   "source": []
  }
 ],
 "metadata": {
  "kernelspec": {
   "display_name": "Python 3",
   "language": "python",
   "name": "python3"
  },
  "language_info": {
   "codemirror_mode": {
    "name": "ipython",
    "version": 3
   },
   "file_extension": ".py",
   "mimetype": "text/x-python",
   "name": "python",
   "nbconvert_exporter": "python",
   "pygments_lexer": "ipython3",
   "version": "3.6.4"
  }
 },
 "nbformat": 4,
 "nbformat_minor": 2
}
