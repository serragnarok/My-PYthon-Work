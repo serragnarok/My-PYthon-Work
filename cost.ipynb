{
 "cells": [
  {
   "cell_type": "code",
   "execution_count": 5,
   "metadata": {},
   "outputs": [
    {
     "name": "stdout",
     "output_type": "stream",
     "text": [
      "期權價格:0.1133\n"
     ]
    }
   ],
   "source": [
    "from math import log,sqrt,exp\n",
    "from scipy.stats import norm\n",
    "\n",
    "def call_option_pricer(spot,strike,maturity,r,vol):\n",
    "    \n",
    "    d1=(log(spot/strike)+(r+0.5*vol*vol)*maturity)/vol/sqrt(maturity)\n",
    "    d2=d1-vol*sqrt(maturity)\n",
    "    price=spot*norm.cdf(d1)-strike*exp(-r*maturity)*norm.cdf(d2)\n",
    "   \n",
    "    return price\n",
    "print('期權價格:%.4f'%call_option_pricer(spot=2.45,strike=2.5,maturity=0.25,r=0.05,\n",
    "                                    vol=0.25))"
   ]
  },
  {
   "cell_type": "code",
   "execution_count": null,
   "metadata": {},
   "outputs": [],
   "source": []
  }
 ],
 "metadata": {
  "kernelspec": {
   "display_name": "Python 3",
   "language": "python",
   "name": "python3"
  },
  "language_info": {
   "codemirror_mode": {
    "name": "ipython",
    "version": 3
   },
   "file_extension": ".py",
   "mimetype": "text/x-python",
   "name": "python",
   "nbconvert_exporter": "python",
   "pygments_lexer": "ipython3",
   "version": "3.6.4"
  }
 },
 "nbformat": 4,
 "nbformat_minor": 2
}
