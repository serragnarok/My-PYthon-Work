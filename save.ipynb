{
 "cells": [
  {
   "cell_type": "code",
   "execution_count": 314,
   "metadata": {},
   "outputs": [],
   "source": [
    "from openpyxl import Workbook\n",
    "import random\n",
    "import numpy as np\n",
    "from scipy.stats import rankdata\n",
    "\n",
    "book = Workbook()\n",
    "sheet = book.active"
   ]
  },
  {
   "cell_type": "code",
   "execution_count": 315,
   "metadata": {},
   "outputs": [],
   "source": [
    "\n",
    "title = [\"姓名\",\"國文\",\"英文\",\"數學\",\"自然\",\"社會\",\"總分\",\"平均\",\"名次\"]\n",
    "sheet.append(title)\n",
    "    "
   ]
  },
  {
   "cell_type": "code",
   "execution_count": 316,
   "metadata": {
    "scrolled": true
   },
   "outputs": [],
   "source": [
    "for i in \"ABCDEFGHIJ\":\n",
    "    t = [i]\n",
    "    for j in range(5):\n",
    "        grade = random.randint(60, 100)\n",
    "        t.append(grade)\n",
    "        \n",
    "    sheet.append(t)\n",
    "    "
   ]
  },
  {
   "cell_type": "code",
   "execution_count": 317,
   "metadata": {},
   "outputs": [],
   "source": [
    "# read data from the worksheet\n",
    "row_count = sheet.max_row\n",
    "for row in range(2,row_count+1):\n",
    "    t = []\n",
    "    \n",
    "    # read data from each cell of the worksheet using cell name\n",
    "    for column in 'BCDEF':\n",
    "        cell_name = \"{}{}\".format(column, row)\n",
    "        \n",
    "        t.append(sheet[cell_name].value)\n",
    "        \n",
    "    # calculate the total and average\n",
    "    total = sum(t)\n",
    "    average = float(total) / len(t)\n",
    "    \n",
    "    # insert data into the worksheet using cell name\n",
    "    total_cell = 'G' + str(row)\n",
    "    sheet[total_cell] = total\n",
    "    average_cell = 'H' + str(row)\n",
    "    sheet[average_cell] = average\n"
   ]
  },
  {
   "cell_type": "code",
   "execution_count": 318,
   "metadata": {},
   "outputs": [
    {
     "name": "stdout",
     "output_type": "stream",
     "text": [
      "[93, 82, 78, 95, 83, 61, 95, 66, 66, 94]\n",
      "81.3\n",
      "[95, 87, 80, 67, 68, 88, 94, 89, 79, 62]\n",
      "80.9\n",
      "[81, 93, 86, 82, 73, 66, 60, 73, 99, 60]\n",
      "77.3\n",
      "[89, 66, 95, 98, 80, 71, 71, 64, 87, 95]\n",
      "81.6\n",
      "[97, 81, 82, 77, 81, 92, 86, 68, 61, 82]\n",
      "80.7\n",
      "[455, 409, 421, 419, 385, 378, 406, 360, 392, 393]\n",
      "401.8\n",
      "[91.0, 81.8, 84.2, 83.8, 77.0, 75.6, 81.2, 72.0, 78.4, 78.6]\n",
      "80.36\n"
     ]
    }
   ],
   "source": [
    "for column in 'BCDEFGH':\n",
    "    c = []\n",
    "    for row in range(2,row_count+1):\n",
    "        cell_namex = \"{}{}\".format(column, row)\n",
    "        \n",
    "        c.append(sheet[cell_namex].value)\n",
    "    print(c)\n",
    "    total = sum(c)\n",
    "    average = float(total) / len(c)\n",
    "          \n",
    "\n",
    "    average_cell = column + str(row_count+1)\n",
    "    sheet[average_cell] = average\n",
    "    print(average)\n",
    "    stand = np.std(c)\n",
    "    stand_cell = column + str(row_count+2)\n",
    "    sheet[stand_cell] = stand\n",
    "sheet['A12'] = \"平均\"\n",
    "sheet['A13'] = \"標準差\""
   ]
  },
  {
   "cell_type": "code",
   "execution_count": 319,
   "metadata": {
    "scrolled": true
   },
   "outputs": [],
   "source": [
    "rk = []\n",
    "for row in range(2,row_count+1):\n",
    "    t = []\n",
    "    \n",
    "    # read data from each cell of the worksheet using cell name\n",
    "    for column in 'BCDEF':\n",
    "        cell_name = \"{}{}\".format(column, row)\n",
    "        \n",
    "        t.append(sheet[cell_name].value)\n",
    "        \n",
    "    # calculate the total and average\n",
    "    total = sum(t)\n",
    "    rk.append(total)"
   ]
  },
  {
   "cell_type": "code",
   "execution_count": 326,
   "metadata": {},
   "outputs": [
    {
     "data": {
      "text/plain": [
       "[455, 409, 421, 419, 385, 378, 406, 360, 392, 393]"
      ]
     },
     "execution_count": 326,
     "metadata": {},
     "output_type": "execute_result"
    }
   ],
   "source": [
    "rk"
   ]
  },
  {
   "cell_type": "code",
   "execution_count": 327,
   "metadata": {},
   "outputs": [],
   "source": [
    "rank_rk = len(rk) - rankdata(rk, method='ordinal') +1"
   ]
  },
  {
   "cell_type": "code",
   "execution_count": 328,
   "metadata": {},
   "outputs": [
    {
     "data": {
      "text/plain": [
       "array([ 1,  4,  2,  3,  8,  9,  5, 10,  7,  6], dtype=int64)"
      ]
     },
     "execution_count": 328,
     "metadata": {},
     "output_type": "execute_result"
    }
   ],
   "source": [
    "rank_rk "
   ]
  },
  {
   "cell_type": "code",
   "execution_count": 329,
   "metadata": {
    "scrolled": true
   },
   "outputs": [],
   "source": [
    "for row in range(2,row_count+1):\n",
    "    rank_cell = 'I' + str(row)\n",
    "    sheet[rank_cell] = rank_rk[row-2]"
   ]
  },
  {
   "cell_type": "code",
   "execution_count": 330,
   "metadata": {},
   "outputs": [],
   "source": [
    "book.save(\"C:\\\\Users\\\\user\\\\Desktop\\\\python\\\\python\\\\hw.xlsx\")"
   ]
  },
  {
   "cell_type": "code",
   "execution_count": null,
   "metadata": {},
   "outputs": [],
   "source": []
  },
  {
   "cell_type": "code",
   "execution_count": null,
   "metadata": {},
   "outputs": [],
   "source": []
  }
 ],
 "metadata": {
  "kernelspec": {
   "display_name": "Python 3",
   "language": "python",
   "name": "python3"
  },
  "language_info": {
   "codemirror_mode": {
    "name": "ipython",
    "version": 3
   },
   "file_extension": ".py",
   "mimetype": "text/x-python",
   "name": "python",
   "nbconvert_exporter": "python",
   "pygments_lexer": "ipython3",
   "version": "3.6.4"
  }
 },
 "nbformat": 4,
 "nbformat_minor": 2
}
