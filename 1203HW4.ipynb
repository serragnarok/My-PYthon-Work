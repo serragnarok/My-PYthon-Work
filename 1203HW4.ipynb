{
 "cells": [
  {
   "cell_type": "code",
   "execution_count": 1,
   "metadata": {},
   "outputs": [],
   "source": [
    "from openpyxl import Workbook\n",
    "import random\n",
    "\n",
    "wb = Workbook()\n",
    "\n",
    "ws = wb.active\n",
    "\n",
    "ws['A1'] = \"Q1\"\n",
    "ws['B1'] = \"Q2\"\n",
    "ws['C1'] = \"Q3\"\n",
    "ws['D1'] = \"Q4\"\n",
    "ws['E1'] = \"Total\"\n",
    "ws['F1'] = \"Average\"\n",
    "\n",
    "\n",
    "for i in range(10):\n",
    "    t = []\n",
    "\n",
    "    for j in range(4):\n",
    "        g = random.randint(60,100)\n",
    "        t.append(g)\n",
    "\n",
    "    ws.append(t)\n",
    "    \n",
    "\n",
    "row_count = ws.max_row\n",
    "for row in range(2,row_count+1):\n",
    "    t = []\n",
    "    \n",
    "    for column in 'ABCD':\n",
    "        cell_name = \"{}{}\".format(column, row)\n",
    "        \n",
    "        t.append(ws[cell_name].value)\n",
    "        \n",
    "\n",
    "    total = sum(t)\n",
    "    average = float(total) / len(t)\n",
    "    \n",
    "\n",
    "    total_cell = 'E' + str(row)\n",
    "    ws[total_cell] = total\n",
    "    average_cell = 'F' + str(row)\n",
    "    ws[average_cell] = average\n",
    "    \n",
    "\n",
    "wb.save(\"C:\\\\Users\\\\user\\\\Desktop\\\\python\\\\python\\\\test.xlsx\")"
   ]
  },
  {
   "cell_type": "code",
   "execution_count": null,
   "metadata": {},
   "outputs": [],
   "source": []
  },
  {
   "cell_type": "code",
   "execution_count": null,
   "metadata": {},
   "outputs": [],
   "source": []
  },
  {
   "cell_type": "code",
   "execution_count": null,
   "metadata": {},
   "outputs": [],
   "source": []
  },
  {
   "cell_type": "code",
   "execution_count": null,
   "metadata": {},
   "outputs": [],
   "source": []
  },
  {
   "cell_type": "code",
   "execution_count": null,
   "metadata": {},
   "outputs": [],
   "source": []
  }
 ],
 "metadata": {
  "kernelspec": {
   "display_name": "Python 3",
   "language": "python",
   "name": "python3"
  },
  "language_info": {
   "codemirror_mode": {
    "name": "ipython",
    "version": 3
   },
   "file_extension": ".py",
   "mimetype": "text/x-python",
   "name": "python",
   "nbconvert_exporter": "python",
   "pygments_lexer": "ipython3",
   "version": "3.6.4"
  }
 },
 "nbformat": 4,
 "nbformat_minor": 2
}
