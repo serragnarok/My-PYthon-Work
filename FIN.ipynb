{
 "cells": [
  {
   "cell_type": "markdown",
   "metadata": {},
   "source": [
    "# 爬蟲目標：「周杰倫」在youtube上觀看次數的觀察\n",
    "## 目的：\n",
    "* 從杰威爾公司搜尋熱度探討發布天數與觀看次數之間的關係\n",
    "* 杰倫前六張專輯內的各歌曲觀看次數排名\n",
    "\n",
    "## 動機：\n",
    "* 自己喜歡周杰倫很久了，最近已經出道20年的JAY，不但發福而且又發了新歌，依舊大獲好評熱度極高，但我心中最屌的神曲還是前六張專輯阿QQ，想來研究一下自己是不是真的很邊緣，口味很不大眾，順便練一下爬蟲。\n",
    "\n",
    "## 遇到的困難：\n",
    "* 要觀察很多html眼睛會蠻花的，而且有些標籤很亂，要找很久，找了不一定找對，迴圈要套來套去，而且還有很多冗字要處理\n",
    "* 在爬蟲的時候，剛好有一首MV從6天變成一週，然後造成error\n",
    "* 撥放清單的html很複雜\n",
    "* 要開子分頁下去跑\n",
    "\n",
    "## 解決方法：\n",
    "* 時間花下去，用ctrl+F找，爬不對就慢慢試，一開始先不要套迴圈去跑，先一個一個試試看，確定得到想要的結果再下手\n",
    "\n",
    "## 得到的結論：\n",
    "* 我果然是異於常人，喜歡的歌觀看次數都超低欸，問號"
   ]
  },
  {
   "cell_type": "markdown",
   "metadata": {},
   "source": [
    "### 先匯入需要的套件"
   ]
  },
  {
   "cell_type": "code",
   "execution_count": 1,
   "metadata": {},
   "outputs": [],
   "source": [
    "import requests\n",
    "from bs4 import BeautifulSoup\n",
    "import matplotlib.pyplot as plt\n",
    "import numpy as np\n",
    "import pandas as pd \n",
    "from pandas import Series"
   ]
  },
  {
   "cell_type": "markdown",
   "metadata": {},
   "source": [
    "### 檢視抓到的url內容"
   ]
  },
  {
   "cell_type": "code",
   "execution_count": 61,
   "metadata": {},
   "outputs": [],
   "source": [
    "import requests\n",
    "from bs4 import BeautifulSoup\n",
    "\n",
    "url = \"https://www.youtube.com/user/JVRmuzic/search?query=%E5%91%A8%E6%9D%B0%E5%80%AB\"\n",
    "request = requests.get(url)\n",
    "content = request.content\n",
    "\n",
    "soup = BeautifulSoup(content, \"html.parser\")\n",
    "\n",
    "#print(soup)"
   ]
  },
  {
   "cell_type": "markdown",
   "metadata": {},
   "source": [
    "### 確認要抓的「影片標題」、「發布天數」、「觀看人次」屬於哪個類別就可以開始動手了\n",
    "1. 從上面資料看出，所需資料都被鎖在class=\"yt-lockup-title\"的地方，先試著把那個class裡面的資訊都截取下來，每個MV之間用分隔線，以便檢視資訊內容\n"
   ]
  },
  {
   "cell_type": "code",
   "execution_count": 62,
   "metadata": {},
   "outputs": [],
   "source": [
    "#for all_mv in soup.select(\".yt-lockup-title\"):\n",
    "    #print(all_mv)\n",
    "   # print('----------')\n",
    " "
   ]
  },
  {
   "cell_type": "markdown",
   "metadata": {},
   "source": [
    "2. 得到結果後發現「影片標題」在標籤<a.....>裡面以rel=\"nofollow\"的形式被儲存，於是使用select()鎖定\"a標籤\"的rel=\"spf-prefetch\"，出來的型態會是 list，所以取出後再用 get() 的方式去抓所有 title\n",
    "3. 仿造上面步驟找尋「影片連結」在href，但得到的資料在試著跑過之後發現並不完整(例：/watch?v=TbFWYT9VGRk)，需要手動加上前面的網址"
   ]
  },
  {
   "cell_type": "code",
   "execution_count": 4,
   "metadata": {},
   "outputs": [
    {
     "name": "stdout",
     "output_type": "stream",
     "text": [
      "Jay Chou周杰倫【我是如此相信 I Truly Believe】(電影天火主題曲) Official MV\n",
      "https://www.youtube.com/watch?v=TbFWYT9VGRk\n",
      "周杰倫 Jay Chou【說好不哭 Won't Cry】with 五月天阿信 (Mayday Ashin) Official MV\n",
      "https://www.youtube.com/watch?v=HK7SPnGSxLM\n",
      "周杰倫 Jay Chou (with 楊瑞代)【等你下課 Waiting For You】歌詞版MV\n",
      "https://www.youtube.com/watch?v=kfXdP7nZIiE\n",
      "周杰倫 Jay Chou (特別演出: 派偉俊)【告白氣球 Love Confession】Official MV\n",
      "https://www.youtube.com/watch?v=bu7nU9Mhpyo\n",
      "Jay Chou 周杰倫【不能說的祕密 Secret】-Official Music Video\n",
      "https://www.youtube.com/watch?v=uIWypArI73w\n",
      "周杰倫【擱淺 官方完整MV】Jay Chou \"Step Aside\" MV (Ge-Qian)\n",
      "https://www.youtube.com/watch?v=YJfHuATJYsQ\n",
      "周杰倫 Jay Chou【聽見下雨的聲音 Rhythm of the Rain】Official MV\n",
      "https://www.youtube.com/watch?v=zqKoXPHhmsM\n",
      "Jay Chou 周杰倫【給我一首歌的時間 Give me the time of a song】-Official Music Video\n",
      "https://www.youtube.com/watch?v=wt0RKW3aC84\n",
      "Jay Chou 周杰倫【說好的幸福呢 The Promised Love】-Official Music Video\n",
      "https://www.youtube.com/watch?v=mLFhTFiX0uM\n",
      "♬ 周杰倫【同名專輯】Jay Chou \"JAY CHOU\"\n",
      "https://www.youtube.com/watch?v=87VUC4J_0Ps&list=PLgFC_SXvt6LnCgyvAFpi4s_bR9x-yXv3E\n",
      "[開不了口] 周杰倫 Jay Chou【地表最強世界巡迴演唱會 The Invincible Concert】\n",
      "https://www.youtube.com/watch?v=Ltx4C2uxz8M\n",
      "周杰倫 Jay Chou【不愛我就拉倒 If You Don't Love Me, It's Fine】Official MV 發燒影片華語地區蟬聯第一 美國直衝前二\n",
      "https://www.youtube.com/watch?v=MAjY8mCTXWk\n",
      "Jay Chou周杰倫-療傷燒肉粽﹝官方花絮﹞Healing Rice Dumpling Special Edition\n",
      "https://www.youtube.com/watch?v=dsjSkXco-tI\n",
      "Jay Chou周杰倫-好久不見﹝官方花絮﹞ Long Time No See -Special Edition\n",
      "https://www.youtube.com/watch?v=ivCLsQ22eBI\n",
      "KARAOKE with 周杰倫 Jay Chou「我要夏天 I Want Summer」\n",
      "https://www.youtube.com/watch?v=-a1aeNaN8WU\n",
      "KARAOKE with 周杰倫 Jay Chou「床邊故事 Bedtime Stories」\n",
      "https://www.youtube.com/watch?v=qx0LKmpqUzI\n",
      "周杰倫 Jay Chou【魔天倫世界巡迴演唱會Opus Jay World Concert 】Opening+驚嘆號+龍拳\n",
      "https://www.youtube.com/watch?v=nqwvG14eUB8\n",
      "KARAOKE with 周杰倫 Jay Chou 「算什麼男人 What Kind of Man」\n",
      "https://www.youtube.com/watch?v=HBqyVv13uL0\n",
      "KARAOKE with 周杰倫 Jay Chou「說走就走 Let's Go」\n",
      "https://www.youtube.com/watch?v=wb2aDK3q-k8\n",
      "周杰倫 Jay Chou【手寫的從前 Handwritten Past】Official MV\n",
      "https://www.youtube.com/watch?v=TMB6-YflpA4\n",
      "Jay Chou周杰倫【晴天 Sunny Day】-Official Music Video\n",
      "https://www.youtube.com/watch?v=DYptgVvkVLQ\n",
      "周杰倫 Jay Chou【算什麼男人 What Kind of Man】MV Behind The Scenes\n",
      "https://www.youtube.com/watch?v=A5gkaDGDYQQ\n",
      "KARAOKE with 周杰倫 Jay Chou「聽爸爸的話 Listen to Dad」\n",
      "https://www.youtube.com/watch?v=yCZ4-TpnPUs\n",
      "2014.06周杰倫說到做到 百忙中探望偏遠學校\n",
      "https://www.youtube.com/watch?v=aa7-mqidu0o\n",
      "Jay Chou 周杰倫【夜曲 Ye Qu】-Official Music Video\n",
      "https://www.youtube.com/watch?v=6Q0Pd53mojY\n",
      "♬ 周杰倫【跨時代】Jay Chou \"THE ERA\"\n",
      "https://www.youtube.com/watch?v=COMHDRqAvYE&list=PLgFC_SXvt6LmToc3GnDOkPDrTed91_SLX\n",
      "周杰倫 Jay Chou【四季列車 Four Seasons Train】Official MV\n",
      "https://www.youtube.com/watch?v=SnKAHq6O0Is\n",
      "Jay Chou 周杰倫【髮如雪 Hair Like Snow】-Official Music Video\n",
      "https://www.youtube.com/watch?v=aaM7qG2ycjk\n",
      "♬ 周杰倫x方文山 精選創作 Jay Chou x Vincent Fang Creations\n",
      "https://www.youtube.com/watch?v=TMB6-YflpA4&list=PLgFC_SXvt6Ln8rNn-vc7zmMlSRCtJm-0L\n",
      "KARAOKE with 周杰倫 Jay Chou & aMEI「不該 Shouldn't Be」\n",
      "https://www.youtube.com/watch?v=DS9VRmKdF8g\n"
     ]
    }
   ],
   "source": [
    "for all_mv in soup.select(\".yt-lockup-content\"):\n",
    "    data = all_mv.select(\"a[rel='nofollow']\")\n",
    "    print(data[0].get('title'))\n",
    "    print(\"https://www.youtube.com{}\".format(data[0].get(\"href\")))"
   ]
  },
  {
   "cell_type": "markdown",
   "metadata": {},
   "source": [
    "### 試試看能截取的資料有哪些\n",
    "1. 回到之前爬的資料去尋找相關資訊，找到時間與觀看次數在\"ul\"的class=\"yt-lockup-meta-info\"，先試著跑一次來看看要怎麼處理資料"
   ]
  },
  {
   "cell_type": "code",
   "execution_count": 5,
   "metadata": {},
   "outputs": [
    {
     "name": "stdout",
     "output_type": "stream",
     "text": [
      "[<ul class=\"yt-lockup-meta-info\">\n",
      "<li>2 年前</li><li>觀看次數：351,558次</li> </ul>]\n"
     ]
    }
   ],
   "source": [
    "data = all_mv.select(\".yt-lockup-meta-info\")\n",
    "print(data)"
   ]
  },
  {
   "cell_type": "markdown",
   "metadata": {},
   "source": [
    "2. 只須截取文字部分，故使用get_text()"
   ]
  },
  {
   "cell_type": "code",
   "execution_count": 6,
   "metadata": {},
   "outputs": [
    {
     "name": "stdout",
     "output_type": "stream",
     "text": [
      "\n",
      "2 年前觀看次數：351,558次 \n"
     ]
    }
   ],
   "source": [
    "data = all_mv.select(\".yt-lockup-meta-info\")\n",
    "print(data[0].get_text())"
   ]
  },
  {
   "cell_type": "markdown",
   "metadata": {},
   "source": [
    " 3. 想要取純數字，所以可能需要一點分隔技巧把字跟字之間分開，再把後面的次數的「次」刪除"
   ]
  },
  {
   "cell_type": "code",
   "execution_count": 7,
   "metadata": {},
   "outputs": [
    {
     "name": "stdout",
     "output_type": "stream",
     "text": [
      "\n",
      "_2 年前_觀看數：351,558_ \n"
     ]
    }
   ],
   "source": [
    "data = all_mv.select(\".yt-lockup-meta-info\")\n",
    "print(data[0].get_text('_').replace('次', ''))"
   ]
  },
  {
   "cell_type": "markdown",
   "metadata": {},
   "source": [
    "4. 檢視一下，切割之後放進的list資料長什麼樣子，再把想要的資料取出，並一併處理乾淨。"
   ]
  },
  {
   "cell_type": "code",
   "execution_count": 8,
   "metadata": {},
   "outputs": [
    {
     "name": "stdout",
     "output_type": "stream",
     "text": [
      "['\\n', '2 年前', '觀看次數：351,558次', ' ']\n",
      "2 年前\n",
      "351,558\n"
     ]
    }
   ],
   "source": [
    "data = all_mv.select(\".yt-lockup-meta-info\")\n",
    "print(data[0].get_text(\"_\").split(\"_\"))\n",
    "time = data[0].get_text(\"_\").split(\"_\")[1]\n",
    "audience = data[0].get_text(\"_\").split(\"_\")[2].strip('觀看次數：').strip('次')\n",
    "print(time)\n",
    "print(audience)"
   ]
  },
  {
   "cell_type": "markdown",
   "metadata": {},
   "source": [
    "5. 得到想要的結果後就可以放進迴圈裡，把整頁資料取出"
   ]
  },
  {
   "cell_type": "code",
   "execution_count": 9,
   "metadata": {},
   "outputs": [
    {
     "name": "stdout",
     "output_type": "stream",
     "text": [
      "1 週前\n",
      "3,141,045\n",
      "3 個月前\n",
      "43,367,965\n",
      "1 年前\n",
      "110,537,071\n",
      "3 年前\n",
      "203,819,309\n",
      "6 年前\n",
      "20,246,260\n",
      "6 年前\n",
      "25,064,046\n",
      "4 年前\n",
      "79,154,326\n",
      "6 年前\n",
      "37,230,398\n",
      "6 年前\n",
      "33,791,920\n",
      "1 個月前\n",
      "233,047\n",
      "1 年前\n",
      "47,012,586\n",
      "7 年前\n",
      "23,140\n",
      "7 年前\n",
      "29,020\n",
      "2 年前\n",
      "73,516\n",
      "2 年前\n",
      "86,770\n",
      "3 年前\n",
      "250,847\n",
      "2 年前\n",
      "162,334\n",
      "2 年前\n",
      "127,235\n",
      "4 年前\n",
      "44,409,641\n",
      "6 年前\n",
      "31,790,814\n",
      "5 年前\n",
      "493,943\n",
      "2 年前\n",
      "102,781\n",
      "5 年前\n",
      "81,427\n",
      "6 年前\n",
      "29,697,465\n",
      "5 年前\n",
      "621,588\n",
      "6 年前\n",
      "22,968,156\n",
      "2 年前\n",
      "351,558\n"
     ]
    }
   ],
   "source": [
    "for all_mv in soup.select(\".yt-lockup-video\"):\n",
    "    data = all_mv.select(\".yt-lockup-meta-info\")\n",
    "    time = data[0].get_text(\"_\").split(\"_\")[1]\n",
    "    audience = data[0].get_text(\"_\").split(\"_\")[2].strip('觀看次數：').strip('次')\n",
    "    print(time)\n",
    "    print(audience)\n",
    "    "
   ]
  },
  {
   "cell_type": "markdown",
   "metadata": {},
   "source": [
    "6.試著合併上面兩個吧"
   ]
  },
  {
   "cell_type": "markdown",
   "metadata": {},
   "source": [
    "#### 預先創一個空字串來放歌名，在用我能力所及的方法處理一下過於雜亂的title"
   ]
  },
  {
   "cell_type": "code",
   "execution_count": 10,
   "metadata": {},
   "outputs": [],
   "source": [
    "titleD = []"
   ]
  },
  {
   "cell_type": "code",
   "execution_count": 11,
   "metadata": {},
   "outputs": [
    {
     "name": "stdout",
     "output_type": "stream",
     "text": [
      "名稱: Jay Chou周杰倫【我是如此相信 I Truly Believe】(電影天火主題曲) Official MV\n",
      "連結: https://www.youtube.com/watch?v=TbFWYT9VGRk\n",
      "發佈時間: 1 週前\n",
      "觀看次數: 3,141,045\n",
      "名稱: 周杰倫 Jay Chou【說好不哭 Won't Cry】with 五月天阿信 (Mayday Ashin) Official MV\n",
      "連結: https://www.youtube.com/watch?v=HK7SPnGSxLM\n",
      "發佈時間: 3 個月前\n",
      "觀看次數: 43,367,965\n",
      "名稱: 周杰倫 Jay Chou (with 楊瑞代)【等你下課 Waiting For You】歌詞版MV\n",
      "連結: https://www.youtube.com/watch?v=kfXdP7nZIiE\n",
      "發佈時間: 1 年前\n",
      "觀看次數: 110,537,071\n",
      "名稱: 周杰倫 Jay Chou (特別演出: 派偉俊)【告白氣球 Love Confession】Official MV\n",
      "連結: https://www.youtube.com/watch?v=bu7nU9Mhpyo\n",
      "發佈時間: 3 年前\n",
      "觀看次數: 203,819,309\n",
      "名稱: Jay Chou 周杰倫【不能說的祕密 Secret】-Official Music Video\n",
      "連結: https://www.youtube.com/watch?v=uIWypArI73w\n",
      "發佈時間: 6 年前\n",
      "觀看次數: 20,246,260\n",
      "名稱: 周杰倫【擱淺 官方完整MV】Jay Chou \"Step Aside\" MV (Ge-Qian)\n",
      "連結: https://www.youtube.com/watch?v=YJfHuATJYsQ\n",
      "發佈時間: 6 年前\n",
      "觀看次數: 25,064,046\n",
      "名稱: 周杰倫 Jay Chou【聽見下雨的聲音 Rhythm of the Rain】Official MV\n",
      "連結: https://www.youtube.com/watch?v=zqKoXPHhmsM\n",
      "發佈時間: 4 年前\n",
      "觀看次數: 79,154,326\n",
      "名稱: Jay Chou 周杰倫【給我一首歌的時間 Give me the time of a song】-Official Music Video\n",
      "連結: https://www.youtube.com/watch?v=wt0RKW3aC84\n",
      "發佈時間: 6 年前\n",
      "觀看次數: 37,230,398\n",
      "名稱: Jay Chou 周杰倫【說好的幸福呢 The Promised Love】-Official Music Video\n",
      "連結: https://www.youtube.com/watch?v=mLFhTFiX0uM\n",
      "發佈時間: 6 年前\n",
      "觀看次數: 33,791,920\n",
      "名稱: [開不了口] 周杰倫 Jay Chou【地表最強世界巡迴演唱會 The Invincible Concert】\n",
      "連結: https://www.youtube.com/watch?v=Ltx4C2uxz8M\n",
      "發佈時間: 1 個月前\n",
      "觀看次數: 233,047\n",
      "名稱: 周杰倫 Jay Chou【不愛我就拉倒 If You Don't Love Me, It's Fine】Official MV 發燒影片華語地區蟬聯第一 美國直衝前二\n",
      "連結: https://www.youtube.com/watch?v=MAjY8mCTXWk\n",
      "發佈時間: 1 年前\n",
      "觀看次數: 47,012,586\n",
      "名稱: Jay Chou周杰倫-療傷燒肉粽﹝官方花絮﹞Healing Rice Dumpling Special Edition\n",
      "連結: https://www.youtube.com/watch?v=dsjSkXco-tI\n",
      "發佈時間: 7 年前\n",
      "觀看次數: 23,140\n",
      "名稱: Jay Chou周杰倫-好久不見﹝官方花絮﹞ Long Time No See -Special Edition\n",
      "連結: https://www.youtube.com/watch?v=ivCLsQ22eBI\n",
      "發佈時間: 7 年前\n",
      "觀看次數: 29,020\n",
      "名稱: KARAOKE with 周杰倫 Jay Chou「我要夏天 I Want Summer」\n",
      "連結: https://www.youtube.com/watch?v=-a1aeNaN8WU\n",
      "發佈時間: 2 年前\n",
      "觀看次數: 73,516\n",
      "名稱: KARAOKE with 周杰倫 Jay Chou「床邊故事 Bedtime Stories」\n",
      "連結: https://www.youtube.com/watch?v=qx0LKmpqUzI\n",
      "發佈時間: 2 年前\n",
      "觀看次數: 86,770\n",
      "名稱: 周杰倫 Jay Chou【魔天倫世界巡迴演唱會Opus Jay World Concert 】Opening+驚嘆號+龍拳\n",
      "連結: https://www.youtube.com/watch?v=nqwvG14eUB8\n",
      "發佈時間: 3 年前\n",
      "觀看次數: 250,847\n",
      "名稱: KARAOKE with 周杰倫 Jay Chou 「算什麼男人 What Kind of Man」\n",
      "連結: https://www.youtube.com/watch?v=HBqyVv13uL0\n",
      "發佈時間: 2 年前\n",
      "觀看次數: 162,334\n",
      "名稱: KARAOKE with 周杰倫 Jay Chou「說走就走 Let's Go」\n",
      "連結: https://www.youtube.com/watch?v=wb2aDK3q-k8\n",
      "發佈時間: 2 年前\n",
      "觀看次數: 127,235\n",
      "名稱: 周杰倫 Jay Chou【手寫的從前 Handwritten Past】Official MV\n",
      "連結: https://www.youtube.com/watch?v=TMB6-YflpA4\n",
      "發佈時間: 4 年前\n",
      "觀看次數: 44,409,641\n",
      "名稱: Jay Chou周杰倫【晴天 Sunny Day】-Official Music Video\n",
      "連結: https://www.youtube.com/watch?v=DYptgVvkVLQ\n",
      "發佈時間: 6 年前\n",
      "觀看次數: 31,790,814\n",
      "名稱: 周杰倫 Jay Chou【算什麼男人 What Kind of Man】MV Behind The Scenes\n",
      "連結: https://www.youtube.com/watch?v=A5gkaDGDYQQ\n",
      "發佈時間: 5 年前\n",
      "觀看次數: 493,943\n",
      "名稱: KARAOKE with 周杰倫 Jay Chou「聽爸爸的話 Listen to Dad」\n",
      "連結: https://www.youtube.com/watch?v=yCZ4-TpnPUs\n",
      "發佈時間: 2 年前\n",
      "觀看次數: 102,781\n",
      "名稱: 2014.06周杰倫說到做到 百忙中探望偏遠學校\n",
      "連結: https://www.youtube.com/watch?v=aa7-mqidu0o\n",
      "發佈時間: 5 年前\n",
      "觀看次數: 81,427\n",
      "名稱: Jay Chou 周杰倫【夜曲 Ye Qu】-Official Music Video\n",
      "連結: https://www.youtube.com/watch?v=6Q0Pd53mojY\n",
      "發佈時間: 6 年前\n",
      "觀看次數: 29,697,465\n",
      "名稱: 周杰倫 Jay Chou【四季列車 Four Seasons Train】Official MV\n",
      "連結: https://www.youtube.com/watch?v=SnKAHq6O0Is\n",
      "發佈時間: 5 年前\n",
      "觀看次數: 621,588\n",
      "名稱: Jay Chou 周杰倫【髮如雪 Hair Like Snow】-Official Music Video\n",
      "連結: https://www.youtube.com/watch?v=aaM7qG2ycjk\n",
      "發佈時間: 6 年前\n",
      "觀看次數: 22,968,156\n",
      "名稱: KARAOKE with 周杰倫 Jay Chou & aMEI「不該 Shouldn't Be」\n",
      "連結: https://www.youtube.com/watch?v=DS9VRmKdF8g\n",
      "發佈時間: 2 年前\n",
      "觀看次數: 351,558\n"
     ]
    }
   ],
   "source": [
    "for all_mv in soup.select(\".yt-lockup-video\"):\n",
    "    # 抓取 Title & Link\n",
    "    data = all_mv.select(\"a[rel='nofollow']\")\n",
    "    print(\"名稱: {}\".format(data[0].get(\"title\")))\n",
    "    print(\"連結: https://www.youtube.com{}\".format(data[0].get(\"href\")))\n",
    "    t = data[0].get(\"title\").strip(\"Jay Chou\").strip(\"周杰倫\").strip(\"Official MV\").strip(\"-Official Music Video\").strip(\"KARAOKE with \")\n",
    "    t = t.strip('Jay Chou【').strip('Jay Chou (with 楊瑞代)').strip('】(電影天火主題曲').strip('】with 五月天阿信 (Mayday Ashin')\n",
    "    t = t.strip('】').strip('特別演出: 派偉俊)【').strip('Jay Chou \"Step Aside\" MV (Ge-Qian').strip('】Official MV 發燒影片華語地區蟬聯第一 美國直衝前二')\n",
    "    t = t.strip(' 周杰倫 Jay Chou【').strip('周杰倫 Jay Chou【地表最強世界巡迴演唱會 The Invincib').strip('《官方》Special Edition')\n",
    "    t = t.strip('】').strip('魔天倫世界巡迴演唱會Opus Jay World Concert 】')\n",
    "    titleD.append(t)\n",
    "    \n",
    "    # 抓取觀看時間與人數\n",
    "    data = all_mv.select(\".yt-lockup-meta-info\")\n",
    "    time = data[0].get_text(\"_\").split(\"_\")[1]\n",
    "    audience = data[0].get_text(\"_\").split(\"_\")[2].strip('觀看次數：').strip('次')\n",
    "    print(\"發佈時間: {}\".format(time))\n",
    "    print(\"觀看次數: {}\".format(audience))\n",
    "\n"
   ]
  },
  {
   "cell_type": "markdown",
   "metadata": {},
   "source": [
    "## 把觀看次數做成圖表"
   ]
  },
  {
   "cell_type": "markdown",
   "metadata": {},
   "source": [
    "#### 先把數字跟單位分開以方便計算天數"
   ]
  },
  {
   "cell_type": "code",
   "execution_count": 12,
   "metadata": {},
   "outputs": [
    {
     "name": "stdout",
     "output_type": "stream",
     "text": [
      "['1', '週']\n",
      "['3', '月']\n",
      "['1', '年']\n",
      "['3', '年']\n",
      "['6', '年']\n",
      "['6', '年']\n",
      "['4', '年']\n",
      "['6', '年']\n",
      "['6', '年']\n",
      "['1', '月']\n",
      "['1', '年']\n",
      "['7', '年']\n",
      "['7', '年']\n",
      "['2', '年']\n",
      "['2', '年']\n",
      "['3', '年']\n",
      "['2', '年']\n",
      "['2', '年']\n",
      "['4', '年']\n",
      "['6', '年']\n",
      "['5', '年']\n",
      "['2', '年']\n",
      "['5', '年']\n",
      "['6', '年']\n",
      "['5', '年']\n",
      "['6', '年']\n",
      "['2', '年']\n"
     ]
    }
   ],
   "source": [
    "watch = []\n",
    "post = []\n",
    "\n",
    "for all_mv in soup.select(\".yt-lockup-video\"):\n",
    "    data = all_mv.select(\".yt-lockup-meta-info\")\n",
    "    audience = data[0].get_text(\"_\").split(\"_\")[2].strip('觀看次數：').strip('次').replace(',', '')\n",
    "    watch.append(int(audience))\n",
    "    time = data[0].get_text(\"_\").split(\"_\")[1].strip('前').replace('個', '').split(\" \")\n",
    "    print(time)\n"
   ]
  },
  {
   "cell_type": "markdown",
   "metadata": {},
   "source": [
    "### 照得出的結果來看，需要先從時間開始整理\n",
    "\n",
    "1. 先把發布時間改成天數，把天數跟觀看次數都存入空字串看看效果\n",
    "2. 印出來看看數字正不正常，並檢查兩個list是不是取到相同的長度，是否能互相對應"
   ]
  },
  {
   "cell_type": "code",
   "execution_count": 13,
   "metadata": {},
   "outputs": [
    {
     "name": "stdout",
     "output_type": "stream",
     "text": [
      "[3141045, 43367965, 110537071, 203819309, 20246260, 25064046, 79154326, 37230398, 33791920, 233047, 47012586, 23140, 29020, 73516, 86770, 250847, 162334, 127235, 44409641, 31790814, 493943, 102781, 81427, 29697465, 621588, 22968156, 351558]\n",
      "[7, 90, 365, 1095, 2190, 2190, 1460, 2190, 2190, 30, 365, 2555, 2555, 730, 730, 1095, 730, 730, 1460, 2190, 1825, 730, 1825, 2190, 1825, 2190, 730]\n",
      "27\n",
      "27\n"
     ]
    }
   ],
   "source": [
    "watch = []\n",
    "post = []\n",
    "\n",
    "for all_mv in soup.select(\".yt-lockup-video\"):\n",
    "    data = all_mv.select(\".yt-lockup-meta-info\")\n",
    "    audience = data[0].get_text(\"_\").split(\"_\")[2].strip('觀看次數：').strip('次').replace(',', '')\n",
    "    watch.append(int(audience))\n",
    "    time = data[0].get_text(\"_\").split(\"_\")[1].strip('前').replace('個', '').split(\" \")\n",
    "\n",
    "    if time[1] == '天':\n",
    "        num = int(time[0])\n",
    "        wTime = num\n",
    "        post.append(wTime)\n",
    "    elif time[1] == '月':\n",
    "        num = int(time[0])\n",
    "        wTime = num*30\n",
    "        post.append(wTime)\n",
    "    elif time[1] == '年':\n",
    "        num = int(time[0])\n",
    "        wTime = num*365\n",
    "        post.append(wTime)\n",
    "    elif time[1] == '週':\n",
    "        num = int(time[0])\n",
    "        wTime = num*7\n",
    "        post.append(wTime)\n",
    "\n",
    "print(watch)\n",
    "print(post)\n",
    "print(len(watch))\n",
    "print(len(post))"
   ]
  },
  {
   "cell_type": "markdown",
   "metadata": {},
   "source": [
    "3. 為避免數字過大，把觀看次數全部改乘以百萬為單位，並再度檢查內容"
   ]
  },
  {
   "cell_type": "code",
   "execution_count": 14,
   "metadata": {},
   "outputs": [
    {
     "name": "stdout",
     "output_type": "stream",
     "text": [
      "[3.141045, 43.367965, 110.537071, 203.819309, 20.24626, 25.064046, 79.154326, 37.230398, 33.79192, 0.233047, 47.012586, 0.02314, 0.02902, 0.073516, 0.08677, 0.250847, 0.162334, 0.127235, 44.409641, 31.790814, 0.493943, 0.102781, 0.081427, 29.697465, 0.621588, 22.968156, 0.351558]\n",
      "[7, 90, 365, 1095, 2190, 2190, 1460, 2190, 2190, 30, 365, 2555, 2555, 730, 730, 1095, 730, 730, 1460, 2190, 1825, 730, 1825, 2190, 1825, 2190, 730]\n",
      "27\n",
      "27\n"
     ]
    }
   ],
   "source": [
    "watchMillion = []\n",
    "\n",
    "for i in watch:\n",
    "    k = i/1000000\n",
    "    watchMillion.append(k)\n",
    "\n",
    "\n",
    "print(watchMillion)    \n",
    "print(post)\n",
    "print(len(watchMillion))\n",
    "print(len(post))"
   ]
  },
  {
   "cell_type": "markdown",
   "metadata": {},
   "source": [
    "4. 把兩個一維資料合併成二維資料\n",
    "5. 把二維資料轉換成資料集，並改變欄位名稱，再檢查\n",
    "6. 接著把發布天數依照時間長短做排序"
   ]
  },
  {
   "cell_type": "code",
   "execution_count": 15,
   "metadata": {},
   "outputs": [],
   "source": [
    "merge = list(zip(post,watchMillion))"
   ]
  },
  {
   "cell_type": "code",
   "execution_count": 16,
   "metadata": {},
   "outputs": [
    {
     "name": "stdout",
     "output_type": "stream",
     "text": [
      "   發布天數        觀看次數\n",
      "0     7    3.141045\n",
      "1    90   43.367965\n",
      "2   365  110.537071\n",
      "3  1095  203.819309\n",
      "4  2190   20.246260\n",
      "    發布天數        觀看次數\n",
      "0      7    3.141045\n",
      "9     30    0.233047\n",
      "1     90   43.367965\n",
      "2    365  110.537071\n",
      "10   365   47.012586\n"
     ]
    },
    {
     "name": "stderr",
     "output_type": "stream",
     "text": [
      "D:\\Users\\user\\Anaconda3\\lib\\site-packages\\ipykernel_launcher.py:5: FutureWarning: by argument to sort_index is deprecated, please use .sort_values(by=...)\n",
      "  \"\"\"\n"
     ]
    }
   ],
   "source": [
    "from pandas.core.frame import DataFrame\n",
    "data1 = DataFrame(merge)\n",
    "data1.rename(columns={0:'發布天數',1:'觀看次數'},inplace=True)\n",
    "print(data1.head())\n",
    "data = data1.sort_index(by = '發布天數')\n",
    "print(data.head())"
   ]
  },
  {
   "cell_type": "code",
   "execution_count": 17,
   "metadata": {},
   "outputs": [
    {
     "data": {
      "text/plain": [
       "(array([-5.,  0.,  5., 10., 15., 20., 25., 30.]),\n",
       " <a list of 8 Text xticklabel objects>)"
      ]
     },
     "execution_count": 17,
     "metadata": {},
     "output_type": "execute_result"
    },
    {
     "data": {
      "image/png": "[encoded data removed]",
      "text/plain": [
       "<matplotlib.figure.Figure at 0x288833a0c50>"
      ]
     },
     "metadata": {},
     "output_type": "display_data"
    }
   ],
   "source": [
    "plt.plot(data1['觀看次數'], c = 'r')\n",
    "\n",
    "\n",
    "plt.xlabel(\"searching result\", fontweight = \"bold\")\n",
    "plt.ylabel(\"watching time\", fontweight = \"bold\") \n",
    "plt.title(\"Jay Chou's Music\", fontsize = 15, fontweight = \"bold\", y = 1.1)\n",
    "plt.xticks(rotation=45) "
   ]
  },
  {
   "cell_type": "markdown",
   "metadata": {},
   "source": [
    "7. 畫圖觀察發布天數與時間長短的關係"
   ]
  },
  {
   "cell_type": "code",
   "execution_count": 18,
   "metadata": {},
   "outputs": [
    {
     "data": {
      "text/plain": [
       "(array([-500.,    0.,  500., 1000., 1500., 2000., 2500., 3000.]),\n",
       " <a list of 8 Text xticklabel objects>)"
      ]
     },
     "execution_count": 18,
     "metadata": {},
     "output_type": "execute_result"
    },
    {
     "data": {
      "image/png": "[encoded data removed]",
      "text/plain": [
       "<matplotlib.figure.Figure at 0x288833e85f8>"
      ]
     },
     "metadata": {},
     "output_type": "display_data"
    }
   ],
   "source": [
    "plt.plot(data['發布天數'], data['觀看次數'], c = 'r')\n",
    "\n",
    "\n",
    "plt.xlabel(\"post days\", fontweight = \"bold\")\n",
    "plt.ylabel(\"watching time\", fontweight = \"bold\") \n",
    "plt.title(\"Jay Chou's Music\", fontsize = 15, fontweight = \"bold\", y = 1.1)\n",
    "plt.xticks(rotation=45) "
   ]
  },
  {
   "cell_type": "markdown",
   "metadata": {},
   "source": [
    "### 杰倫的點閱率以百萬來計\n",
    "1. 基本上杰倫現在只要現在發歌基本上就是必破百萬啦，現在的點閱率比以前暢銷曲高很多，猜想是因為近期有些影片是幕後花絮跟演唱會特輯，相對新歌來看比較觀眾沒有興趣 ，觀眾對於杰倫的新歌會感到好奇\n",
    "2. 第一張圖是以搜尋熱度來排序\n",
    "3. 第二張圖是以發布天數來排序"
   ]
  },
  {
   "cell_type": "markdown",
   "metadata": {},
   "source": [
    "## 來看看我大杰倫在搜尋紀錄第一頁的觀看次數冠軍"
   ]
  },
  {
   "cell_type": "markdown",
   "metadata": {},
   "source": [
    "### 告白氣球穩坐龍頭，觀看次數已達兩億次"
   ]
  },
  {
   "cell_type": "code",
   "execution_count": 19,
   "metadata": {},
   "outputs": [
    {
     "name": "stdout",
     "output_type": "stream",
     "text": [
      "                                              發布天數        觀看次數\n",
      "告白氣球 L                                        1095  203.819309\n",
      "等你下課 Waiting For You】歌詞版                       365  110.537071\n",
      "聽見下雨的聲音 Rhythm of the R                       1460   79.154326\n",
      "不愛我就拉倒 If You Don't Love Me, It's F            365   47.012586\n",
      "手寫的從前 Handwritten P                           1460   44.409641\n",
      "說好不哭 Won'                                       90   43.367965\n",
      "給我一首歌的時間 Give me the time of a song           2190   37.230398\n",
      "說好的幸福呢 The Promised L                         2190   33.791920\n",
      "晴天 Sunny D                                    2190   31.790814\n",
      "夜曲 Y                                          2190   29.697465\n",
      "擱淺 官方完整                                       2190   25.064046\n",
      "髮如雪 Hair Lik                                  2190   22.968156\n",
      "不能說的祕密 S                                      2190   20.246260\n",
      "我是如此相信 I Truly B                                 7    3.141045\n",
      "四季列車 Four Seasons T                           1825    0.621588\n",
      "算什麼男人 What Kind of Man】MV Behind Th           1825    0.493943\n",
      "& aMEI「不該 Shouldn't Be」                        730    0.351558\n",
      "ing+驚嘆號+龍拳                                    1095    0.250847\n",
      "[開不了口] 周杰倫 Jay Chou【地表最強世界巡迴演唱會 The Invincib    30    0.233047\n",
      "「算什麼男人 What Kind of Man」                       730    0.162334\n",
      "「說走就走 Let's Go」                                730    0.127235\n",
      "「聽爸爸的話 Listen to Dad」                          730    0.102781\n",
      "「床邊故事 Bedtime Stories」                         730    0.086770\n",
      "2014.06周杰倫說到做到 百忙中探望偏遠學校                      1825    0.081427\n",
      "「我要夏天 I Want Summer」                           730    0.073516\n",
      "好久不見﹝官方花絮﹞ Long Time No See -                 2555    0.029020\n",
      "療傷燒肉粽﹝官方花絮﹞Healing Rice Dumpling              2555    0.023140\n"
     ]
    },
    {
     "name": "stderr",
     "output_type": "stream",
     "text": [
      "D:\\Users\\user\\Anaconda3\\lib\\site-packages\\ipykernel_launcher.py:2: FutureWarning: by argument to sort_index is deprecated, please use .sort_values(by=...)\n",
      "  \n"
     ]
    }
   ],
   "source": [
    "data1.index = Series(titleD)\n",
    "data2 = data1.sort_index(by = '觀看次數', ascending=False)\n",
    "print(data2)"
   ]
  },
  {
   "cell_type": "markdown",
   "metadata": {},
   "source": [
    "## 接下來我想要爬各個專輯的觀看次數"
   ]
  },
  {
   "cell_type": "markdown",
   "metadata": {},
   "source": [
    "### 橫空出世，「JAY」周杰倫同名專輯"
   ]
  },
  {
   "cell_type": "markdown",
   "metadata": {},
   "source": [
    "#### 一樣先去杰威爾替各張專輯找好的網頁裡觀察資料"
   ]
  },
  {
   "cell_type": "code",
   "execution_count": 64,
   "metadata": {},
   "outputs": [],
   "source": [
    "url1 = \"https://www.youtube.com/playlist?list=PLgFC_SXvt6LnCgyvAFpi4s_bR9x-yXv3E\"\n",
    "request1 = requests.get(url1)\n",
    "content1 = request1.content\n",
    "\n",
    "soup1 = BeautifulSoup(content1, \"html.parser\")\n",
    "\n",
    "#print(soup1)"
   ]
  },
  {
   "cell_type": "markdown",
   "metadata": {},
   "source": [
    "#### 麻煩的在於，播放清單裡並不會顯示觀看次數，所以要先用迴圈把一個一個網址抓出來開，開啟了之後再去處理資料\n",
    "1. 先試試看抓不抓得到單一網址\n",
    "2. 抓到了之後再試著用迴圈把每一個網址爬出來"
   ]
  },
  {
   "cell_type": "code",
   "execution_count": 21,
   "metadata": {},
   "outputs": [
    {
     "data": {
      "text/plain": [
       "'/watch?v=87VUC4J_0Ps&list=PLgFC_SXvt6LnCgyvAFpi4s_bR9x-yXv3E&index=2&t=0s'"
      ]
     },
     "execution_count": 21,
     "metadata": {},
     "output_type": "execute_result"
    }
   ],
   "source": [
    "soup1.find('a',{'class':'pl-video-title-link'}).get('href')"
   ]
  },
  {
   "cell_type": "code",
   "execution_count": 22,
   "metadata": {},
   "outputs": [
    {
     "name": "stdout",
     "output_type": "stream",
     "text": [
      "https://www.youtube.com/watch?v=87VUC4J_0Ps&list=PLgFC_SXvt6LnCgyvAFpi4s_bR9x-yXv3E&index=2&t=0s\n",
      "https://www.youtube.com/watch?v=sTNJsIcPSvE&list=PLgFC_SXvt6LnCgyvAFpi4s_bR9x-yXv3E&index=3&t=0s\n",
      "https://www.youtube.com/watch?v=wRT-5heURhY&list=PLgFC_SXvt6LnCgyvAFpi4s_bR9x-yXv3E&index=4&t=0s\n",
      "https://www.youtube.com/watch?v=RPWDeLqsN0g&list=PLgFC_SXvt6LnCgyvAFpi4s_bR9x-yXv3E&index=5&t=0s\n",
      "https://www.youtube.com/watch?v=fuM1aVCGR8c&list=PLgFC_SXvt6LnCgyvAFpi4s_bR9x-yXv3E&index=6&t=0s\n",
      "https://www.youtube.com/watch?v=MpP9dw_j2PI&list=PLgFC_SXvt6LnCgyvAFpi4s_bR9x-yXv3E&index=7&t=0s\n",
      "https://www.youtube.com/watch?v=s9wvjSkR_Ms&list=PLgFC_SXvt6LnCgyvAFpi4s_bR9x-yXv3E&index=8&t=0s\n",
      "https://www.youtube.com/watch?v=gxZHH8x2zPg&list=PLgFC_SXvt6LnCgyvAFpi4s_bR9x-yXv3E&index=9&t=0s\n",
      "https://www.youtube.com/watch?v=npiAxeLtHDM&list=PLgFC_SXvt6LnCgyvAFpi4s_bR9x-yXv3E&index=10&t=0s\n",
      "https://www.youtube.com/watch?v=hnmWCmR6o7A&list=PLgFC_SXvt6LnCgyvAFpi4s_bR9x-yXv3E&index=11&t=0s\n"
     ]
    }
   ],
   "source": [
    "for all_mv in soup1.find_all('a',{'class':'pl-video-title-link'}):\n",
    "    print(\"https://www.youtube.com{}\".format(all_mv['href']))\n"
   ]
  },
  {
   "cell_type": "markdown",
   "metadata": {},
   "source": [
    "3. 再開一個來觀察網頁html"
   ]
  },
  {
   "cell_type": "code",
   "execution_count": 63,
   "metadata": {},
   "outputs": [],
   "source": [
    "url2 = \"https://www.youtube.com/watch?v=87VUC4J_0Ps&list=PLgFC_SXvt6LnCgyvAFpi4s_bR9x-yXv3E&index=2&t=0s\"\n",
    "request2 = requests.get(url2)\n",
    "content2 = request2.content\n",
    "\n",
    "soup2 = BeautifulSoup(content2, \"html.parser\")\n",
    "\n",
    "#print(soup2)"
   ]
  },
  {
   "cell_type": "markdown",
   "metadata": {},
   "source": [
    "4. 用ctrl+F迅速找到正確的觀看次數(要注意裡面很多觀看次數是推薦影片的，正確的觀看次數會顯示精確數字)，然後取出"
   ]
  },
  {
   "cell_type": "code",
   "execution_count": 24,
   "metadata": {},
   "outputs": [
    {
     "data": {
      "text/plain": [
       "'觀看次數：9,222,616次'"
      ]
     },
     "execution_count": 24,
     "metadata": {},
     "output_type": "execute_result"
    }
   ],
   "source": [
    "soup2.find('div',{'class':'watch-view-count'}).get_text()"
   ]
  },
  {
   "cell_type": "markdown",
   "metadata": {},
   "source": [
    "5. 當然還是要來整理一下，我們把數值取出即可~"
   ]
  },
  {
   "cell_type": "code",
   "execution_count": 25,
   "metadata": {},
   "outputs": [
    {
     "name": "stdout",
     "output_type": "stream",
     "text": [
      "9222616\n"
     ]
    }
   ],
   "source": [
    "dwatch = soup2.find('div',{'class':'watch-view-count'}).get_text().strip('觀看次數：').strip('次').replace(',', '')\n",
    "dwatch = int(dwatch)\n",
    "print(dwatch)"
   ]
  },
  {
   "cell_type": "markdown",
   "metadata": {},
   "source": [
    "6. 實在是懶得十個歌名都打，先試一個看看，就全部都爬起來!!!然後好好整理"
   ]
  },
  {
   "cell_type": "code",
   "execution_count": 26,
   "metadata": {},
   "outputs": [
    {
     "data": {
      "text/plain": [
       "'\\n    周杰倫【可愛女人 官方完整MV】Jay Chou \"Adorable Lady\" MV (feat.徐若瑄Vivian) (Ke-Ai-Nu-Ren)\\n  '"
      ]
     },
     "execution_count": 26,
     "metadata": {},
     "output_type": "execute_result"
    }
   ],
   "source": [
    "soup2.find('span',{'class':'watch-title'}).get_text()"
   ]
  },
  {
   "cell_type": "markdown",
   "metadata": {},
   "source": [
    "7. 一切檢查完畢後來架迴圈，會花一點時間，因為要開子網頁去跑"
   ]
  },
  {
   "cell_type": "code",
   "execution_count": 27,
   "metadata": {},
   "outputs": [
    {
     "name": "stdout",
     "output_type": "stream",
     "text": [
      "https://www.youtube.com/watch?v=87VUC4J_0Ps&list=PLgFC_SXvt6LnCgyvAFpi4s_bR9x-yXv3E&index=2&t=0s\n",
      "9222616\n",
      "【可愛女人 官方完整MV】\n",
      "https://www.youtube.com/watch?v=sTNJsIcPSvE&list=PLgFC_SXvt6LnCgyvAFpi4s_bR9x-yXv3E&index=3&t=0s\n",
      "8652115\n",
      "【星晴 Starry Mood】\n",
      "https://www.youtube.com/watch?v=wRT-5heURhY&list=PLgFC_SXvt6LnCgyvAFpi4s_bR9x-yXv3E&index=4&t=0s\n",
      "7556490\n",
      "【黑色幽默 Black Humor】\n",
      "https://www.youtube.com/watch?v=RPWDeLqsN0g&list=PLgFC_SXvt6LnCgyvAFpi4s_bR9x-yXv3E&index=5&t=0s\n",
      "16418429\n",
      "【龍捲風 官方完整MV】\n",
      "https://www.youtube.com/watch?v=fuM1aVCGR8c&list=PLgFC_SXvt6LnCgyvAFpi4s_bR9x-yXv3E&index=6&t=0s\n",
      "3100061\n",
      "【反方向的鐘 Counter-clockwise Clock】\n",
      "https://www.youtube.com/watch?v=MpP9dw_j2PI&list=PLgFC_SXvt6LnCgyvAFpi4s_bR9x-yXv3E&index=7&t=0s\n",
      "2197748\n",
      "【娘子 Wife】\n",
      "https://www.youtube.com/watch?v=s9wvjSkR_Ms&list=PLgFC_SXvt6LnCgyvAFpi4s_bR9x-yXv3E&index=8&t=0s\n",
      "1892512\n",
      "【伊斯坦堡 官方完整MV】\n",
      "https://www.youtube.com/watch?v=gxZHH8x2zPg&list=PLgFC_SXvt6LnCgyvAFpi4s_bR9x-yXv3E&index=9&t=0s\n",
      "2118185\n",
      "【完美主義 Perfectionism】\n",
      "https://www.youtube.com/watch?v=npiAxeLtHDM&list=PLgFC_SXvt6LnCgyvAFpi4s_bR9x-yXv3E&index=10&t=0s\n",
      "1706583\n",
      "【鬥牛 Basketball Match】\n",
      "https://www.youtube.com/watch?v=hnmWCmR6o7A&list=PLgFC_SXvt6LnCgyvAFpi4s_bR9x-yXv3E&index=11&t=0s\n",
      "1769529\n",
      "【印地安老斑鳩 Ancient Indian Turtledove】\n"
     ]
    }
   ],
   "source": [
    "url1 = \"https://www.youtube.com/playlist?list=PLgFC_SXvt6LnCgyvAFpi4s_bR9x-yXv3E\"\n",
    "request1 = requests.get(url1)\n",
    "content1 = request1.content\n",
    "\n",
    "soup1 = BeautifulSoup(content1, \"html.parser\")\n",
    "\n",
    "ddwatch = []\n",
    "title = []\n",
    "\n",
    "for all_mv in soup1.find_all('a',{'class':'pl-video-title-link'}):\n",
    "    url2 = \"https://www.youtube.com{}\".format(all_mv['href'])\n",
    "    print(url2)\n",
    "    request2 = requests.get(url2)\n",
    "    content2 = request2.content\n",
    "\n",
    "    soup2 = BeautifulSoup(content2, \"html.parser\")\n",
    "    \n",
    "    dwatch = soup2.find('div',{'class':'watch-view-count'}).get_text().strip('觀看次數：').strip('次').replace(',', '')\n",
    "    dwatch = int(dwatch)\n",
    "    print(dwatch)\n",
    "    ddwatch.append(dwatch)\n",
    "    \n",
    "    ti = soup2.find('span',{'class':'watch-title'}).get_text()\n",
    "    ti = ti.strip('\\n').strip(' MV (feat.徐若瑄Vivian) (Ke-Ai-Nu-Ren)\\n    ').strip('周杰倫').strip('Jay Chou 周杰倫').strip('Jay Chou \"Adorable Lady\" ').strip('Jay Chou \"Adorable Lady\" ').strip('-Official Music Vide').strip('Jay Chou \"Tornado\" MV (Long-Juan-Feng').strip('Jay Chou \"Istanbul\" MV (Yi-Si-Tan-B')\n",
    "    title.append(ti)\n",
    "    print(ti)"
   ]
  },
  {
   "cell_type": "code",
   "execution_count": 28,
   "metadata": {},
   "outputs": [
    {
     "data": {
      "text/plain": [
       "[9222616,\n",
       " 8652115,\n",
       " 7556490,\n",
       " 16418429,\n",
       " 3100061,\n",
       " 2197748,\n",
       " 1892512,\n",
       " 2118185,\n",
       " 1706583,\n",
       " 1769529]"
      ]
     },
     "execution_count": 28,
     "metadata": {},
     "output_type": "execute_result"
    }
   ],
   "source": [
    "ddwatch"
   ]
  },
  {
   "cell_type": "code",
   "execution_count": 29,
   "metadata": {},
   "outputs": [
    {
     "data": {
      "text/plain": [
       "['【可愛女人 官方完整MV】',\n",
       " '【星晴 Starry Mood】',\n",
       " '【黑色幽默 Black Humor】',\n",
       " '【龍捲風 官方完整MV】',\n",
       " '【反方向的鐘 Counter-clockwise Clock】',\n",
       " '【娘子 Wife】',\n",
       " '【伊斯坦堡 官方完整MV】',\n",
       " '【完美主義 Perfectionism】',\n",
       " '【鬥牛 Basketball Match】',\n",
       " '【印地安老斑鳩 Ancient Indian Turtledove】']"
      ]
     },
     "execution_count": 29,
     "metadata": {},
     "output_type": "execute_result"
    }
   ],
   "source": [
    "title"
   ]
  },
  {
   "cell_type": "markdown",
   "metadata": {},
   "source": [
    "8. 做成DataFrame，歌名太長了，在跑完圖表之前，先用歌曲編號排序"
   ]
  },
  {
   "cell_type": "code",
   "execution_count": 30,
   "metadata": {},
   "outputs": [
    {
     "name": "stdout",
     "output_type": "stream",
     "text": [
      "        觀看次數\n",
      "1    9222616\n",
      "2    8652115\n",
      "3    7556490\n",
      "4   16418429\n",
      "5    3100061\n",
      "6    2197748\n",
      "7    1892512\n",
      "8    2118185\n",
      "9    1706583\n",
      "10   1769529\n"
     ]
    }
   ],
   "source": [
    "Jay = DataFrame(ddwatch)\n",
    "song = [1, 2, 3, 4, 5, 6, 7, 8, 9, 10]\n",
    "Jay.index = Series(song)\n",
    "Jay.rename( columns={0:'觀看次數'},inplace=True)\n",
    "Jay1 = Jay\n",
    "print(Jay)"
   ]
  },
  {
   "cell_type": "markdown",
   "metadata": {},
   "source": [
    "9. 跑完圖表發現Jay這張專輯第四首歌觀看次數超級多"
   ]
  },
  {
   "cell_type": "code",
   "execution_count": 31,
   "metadata": {},
   "outputs": [
    {
     "data": {
      "text/plain": [
       "Text(0.5,1.1,'Jay')"
      ]
     },
     "execution_count": 31,
     "metadata": {},
     "output_type": "execute_result"
    },
    {
     "data": {
      "image/png": "[encoded data removed]",
      "text/plain": [
       "<matplotlib.figure.Figure at 0x2888391a400>"
      ]
     },
     "metadata": {},
     "output_type": "display_data"
    }
   ],
   "source": [
    "\n",
    "plt.plot(Jay, c = 'r')\n",
    "plt.xlabel(\"Song's No.\", fontweight = \"bold\")\n",
    "plt.ylabel(\"watching time\", fontweight = \"bold\") \n",
    "plt.title(\"Jay\", fontsize = 15, fontweight = \"bold\", y = 1.1)"
   ]
  },
  {
   "cell_type": "markdown",
   "metadata": {},
   "source": [
    "10. 再用觀看次數去降序，這張專輯最熱門的歌是龍捲風"
   ]
  },
  {
   "cell_type": "code",
   "execution_count": 32,
   "metadata": {},
   "outputs": [
    {
     "data": {
      "text/html": [
       "<div>\n",
       "<style scoped>\n",
       "    .dataframe tbody tr th:only-of-type {\n",
       "        vertical-align: middle;\n",
       "    }\n",
       "\n",
       "    .dataframe tbody tr th {\n",
       "        vertical-align: top;\n",
       "    }\n",
       "\n",
       "    .dataframe thead th {\n",
       "        text-align: right;\n",
       "    }\n",
       "</style>\n",
       "<table border=\"1\" class=\"dataframe\">\n",
       "  <thead>\n",
       "    <tr style=\"text-align: right;\">\n",
       "      <th></th>\n",
       "      <th>歌名</th>\n",
       "      <th>觀看次數</th>\n",
       "    </tr>\n",
       "  </thead>\n",
       "  <tbody>\n",
       "    <tr>\n",
       "      <th>1</th>\n",
       "      <td>【可愛女人 官方完整MV】</td>\n",
       "      <td>9222616</td>\n",
       "    </tr>\n",
       "    <tr>\n",
       "      <th>2</th>\n",
       "      <td>【星晴 Starry Mood】</td>\n",
       "      <td>8652115</td>\n",
       "    </tr>\n",
       "    <tr>\n",
       "      <th>3</th>\n",
       "      <td>【黑色幽默 Black Humor】</td>\n",
       "      <td>7556490</td>\n",
       "    </tr>\n",
       "    <tr>\n",
       "      <th>4</th>\n",
       "      <td>【龍捲風 官方完整MV】</td>\n",
       "      <td>16418429</td>\n",
       "    </tr>\n",
       "    <tr>\n",
       "      <th>5</th>\n",
       "      <td>【反方向的鐘 Counter-clockwise Clock】</td>\n",
       "      <td>3100061</td>\n",
       "    </tr>\n",
       "    <tr>\n",
       "      <th>6</th>\n",
       "      <td>【娘子 Wife】</td>\n",
       "      <td>2197748</td>\n",
       "    </tr>\n",
       "    <tr>\n",
       "      <th>7</th>\n",
       "      <td>【伊斯坦堡 官方完整MV】</td>\n",
       "      <td>1892512</td>\n",
       "    </tr>\n",
       "    <tr>\n",
       "      <th>8</th>\n",
       "      <td>【完美主義 Perfectionism】</td>\n",
       "      <td>2118185</td>\n",
       "    </tr>\n",
       "    <tr>\n",
       "      <th>9</th>\n",
       "      <td>【鬥牛 Basketball Match】</td>\n",
       "      <td>1706583</td>\n",
       "    </tr>\n",
       "    <tr>\n",
       "      <th>10</th>\n",
       "      <td>【印地安老斑鳩 Ancient Indian Turtledove】</td>\n",
       "      <td>1769529</td>\n",
       "    </tr>\n",
       "  </tbody>\n",
       "</table>\n",
       "</div>"
      ],
      "text/plain": [
       "                                    歌名      觀看次數\n",
       "1                        【可愛女人 官方完整MV】   9222616\n",
       "2                     【星晴 Starry Mood】   8652115\n",
       "3                   【黑色幽默 Black Humor】   7556490\n",
       "4                         【龍捲風 官方完整MV】  16418429\n",
       "5      【反方向的鐘 Counter-clockwise Clock】   3100061\n",
       "6                            【娘子 Wife】   2197748\n",
       "7                        【伊斯坦堡 官方完整MV】   1892512\n",
       "8                 【完美主義 Perfectionism】   2118185\n",
       "9                【鬥牛 Basketball Match】   1706583\n",
       "10  【印地安老斑鳩 Ancient Indian Turtledove】   1769529"
      ]
     },
     "execution_count": 32,
     "metadata": {},
     "output_type": "execute_result"
    }
   ],
   "source": [
    "Jay['歌名'] = title\n",
    "Jay.reindex(columns = ['歌名', '觀看次數'])"
   ]
  },
  {
   "cell_type": "code",
   "execution_count": 33,
   "metadata": {},
   "outputs": [
    {
     "name": "stdout",
     "output_type": "stream",
     "text": [
      "---------------------------------------------------------------------------------------\n"
     ]
    },
    {
     "name": "stderr",
     "output_type": "stream",
     "text": [
      "D:\\Users\\user\\Anaconda3\\lib\\site-packages\\ipykernel_launcher.py:5: FutureWarning: by argument to sort_index is deprecated, please use .sort_values(by=...)\n",
      "  \"\"\"\n"
     ]
    },
    {
     "data": {
      "text/html": [
       "<div>\n",
       "<style scoped>\n",
       "    .dataframe tbody tr th:only-of-type {\n",
       "        vertical-align: middle;\n",
       "    }\n",
       "\n",
       "    .dataframe tbody tr th {\n",
       "        vertical-align: top;\n",
       "    }\n",
       "\n",
       "    .dataframe thead th {\n",
       "        text-align: right;\n",
       "    }\n",
       "</style>\n",
       "<table border=\"1\" class=\"dataframe\">\n",
       "  <thead>\n",
       "    <tr style=\"text-align: right;\">\n",
       "      <th></th>\n",
       "      <th>觀看次數</th>\n",
       "      <th>歌名</th>\n",
       "    </tr>\n",
       "  </thead>\n",
       "  <tbody>\n",
       "    <tr>\n",
       "      <th>4</th>\n",
       "      <td>16418429</td>\n",
       "      <td>【龍捲風 官方完整MV】</td>\n",
       "    </tr>\n",
       "    <tr>\n",
       "      <th>1</th>\n",
       "      <td>9222616</td>\n",
       "      <td>【可愛女人 官方完整MV】</td>\n",
       "    </tr>\n",
       "    <tr>\n",
       "      <th>2</th>\n",
       "      <td>8652115</td>\n",
       "      <td>【星晴 Starry Mood】</td>\n",
       "    </tr>\n",
       "    <tr>\n",
       "      <th>3</th>\n",
       "      <td>7556490</td>\n",
       "      <td>【黑色幽默 Black Humor】</td>\n",
       "    </tr>\n",
       "    <tr>\n",
       "      <th>5</th>\n",
       "      <td>3100061</td>\n",
       "      <td>【反方向的鐘 Counter-clockwise Clock】</td>\n",
       "    </tr>\n",
       "    <tr>\n",
       "      <th>6</th>\n",
       "      <td>2197748</td>\n",
       "      <td>【娘子 Wife】</td>\n",
       "    </tr>\n",
       "    <tr>\n",
       "      <th>8</th>\n",
       "      <td>2118185</td>\n",
       "      <td>【完美主義 Perfectionism】</td>\n",
       "    </tr>\n",
       "    <tr>\n",
       "      <th>7</th>\n",
       "      <td>1892512</td>\n",
       "      <td>【伊斯坦堡 官方完整MV】</td>\n",
       "    </tr>\n",
       "    <tr>\n",
       "      <th>10</th>\n",
       "      <td>1769529</td>\n",
       "      <td>【印地安老斑鳩 Ancient Indian Turtledove】</td>\n",
       "    </tr>\n",
       "    <tr>\n",
       "      <th>9</th>\n",
       "      <td>1706583</td>\n",
       "      <td>【鬥牛 Basketball Match】</td>\n",
       "    </tr>\n",
       "  </tbody>\n",
       "</table>\n",
       "</div>"
      ],
      "text/plain": [
       "        觀看次數                                  歌名\n",
       "4   16418429                        【龍捲風 官方完整MV】\n",
       "1    9222616                       【可愛女人 官方完整MV】\n",
       "2    8652115                    【星晴 Starry Mood】\n",
       "3    7556490                  【黑色幽默 Black Humor】\n",
       "5    3100061     【反方向的鐘 Counter-clockwise Clock】\n",
       "6    2197748                           【娘子 Wife】\n",
       "8    2118185                【完美主義 Perfectionism】\n",
       "7    1892512                       【伊斯坦堡 官方完整MV】\n",
       "10   1769529  【印地安老斑鳩 Ancient Indian Turtledove】\n",
       "9    1706583               【鬥牛 Basketball Match】"
      ]
     },
     "execution_count": 33,
     "metadata": {},
     "output_type": "execute_result"
    }
   ],
   "source": [
    "\n",
    "\n",
    "print('---------------------------------------------------------------------------------------')\n",
    "\n",
    "JayS = Jay.sort_index(by = '觀看次數', ascending=False)\n",
    "JayS"
   ]
  },
  {
   "cell_type": "markdown",
   "metadata": {},
   "source": [
    "### 第二張專輯，神到不行的「范特西」\n",
    "#### 重複上一張專輯的步驟就行了"
   ]
  },
  {
   "cell_type": "code",
   "execution_count": 34,
   "metadata": {},
   "outputs": [
    {
     "name": "stdout",
     "output_type": "stream",
     "text": [
      "https://www.youtube.com/watch?v=CcfnZOJpbM4&list=PLgFC_SXvt6LkYvsRdMGQunFCL4OE8CTFj&index=2&t=0s\n",
      "4953808\n",
      "【上海 一九四三 Shanghai 1943】\n",
      "https://www.youtube.com/watch?v=55yJh4SHUBY&list=PLgFC_SXvt6LkYvsRdMGQunFCL4OE8CTFj&index=3&t=0s\n",
      "2587015\n",
      "【忍者 Ninja】\n",
      "https://www.youtube.com/watch?v=nhyT8HDT4lg&list=PLgFC_SXvt6LkYvsRdMGQunFCL4OE8CTFj&index=4&t=0s\n",
      "2277447\n",
      "【爸 我回來了 Dad, I'm home】\n",
      "https://www.youtube.com/watch?v=lCzWCxVAkfc&list=PLgFC_SXvt6LkYvsRdMGQunFCL4OE8CTFj&index=5&t=0s\n",
      "2453198\n",
      "【威廉古堡 William Castle】\n",
      "https://www.youtube.com/watch?v=H7hpK6cm-6k&list=PLgFC_SXvt6LkYvsRdMGQunFCL4OE8CTFj&index=6&t=0s\n",
      "20555844\n",
      "【開不了口 I Find It Hard To Say】\n",
      "https://www.youtube.com/watch?v=5XK2C9w6oVk&list=PLgFC_SXvt6LkYvsRdMGQunFCL4OE8CTFj&index=7&t=0s\n",
      "10047090\n",
      "【愛在西元前 Love before BC】\n",
      "https://www.youtube.com/watch?v=N2DkKFxijv0&list=PLgFC_SXvt6LkYvsRdMGQunFCL4OE8CTFj&index=8&t=0s\n",
      "2270381\n",
      "【對不起 Sorry】\n",
      "https://www.youtube.com/watch?v=OR-0wptI_u0&list=PLgFC_SXvt6LkYvsRdMGQunFCL4OE8CTFj&index=9&t=0s\n",
      "4628710\n",
      "【雙截棍 Nunchucks】\n",
      "https://www.youtube.com/watch?v=Y4xCVlyCvX4&list=PLgFC_SXvt6LkYvsRdMGQunFCL4OE8CTFj&index=10&t=0s\n",
      "7525473\n",
      "【簡單愛 Simple Love】\n",
      "https://www.youtube.com/watch?v=1hI-7vj2FhE&list=PLgFC_SXvt6LkYvsRdMGQunFCL4OE8CTFj&index=11&t=0s\n",
      "23276412\n",
      "【安靜 Silence】\n",
      "https://www.youtube.com/watch?v=H7pOrQEnc3c&list=PLgFC_SXvt6LkYvsRdMGQunFCL4OE8CTFj&index=12&t=0s\n",
      "1580430\n",
      "【蝸牛 Snail】\n",
      "https://www.youtube.com/watch?v=X_XqvQJi_6E&list=PLgFC_SXvt6LkYvsRdMGQunFCL4OE8CTFj&index=13&t=0s\n",
      "1894562\n",
      "【你比從前快樂 You Are Happier Than Before】\n",
      "https://www.youtube.com/watch?v=NDFULbHgL6E&list=PLgFC_SXvt6LkYvsRdMGQunFCL4OE8CTFj&index=14&t=0s\n",
      "3743537\n",
      "【世界末日 End of the World】\n",
      "        觀看次數\n",
      "1    4953808\n",
      "2    2587015\n",
      "3    2277447\n",
      "4    2453198\n",
      "5   20555844\n",
      "6   10047090\n",
      "7    2270381\n",
      "8    4628710\n",
      "9    7525473\n",
      "10  23276412\n",
      "11   1580430\n",
      "12   1894562\n",
      "13   3743537\n"
     ]
    }
   ],
   "source": [
    "url1 = \"https://www.youtube.com/playlist?list=PLgFC_SXvt6LkYvsRdMGQunFCL4OE8CTFj\"\n",
    "request1 = requests.get(url1)\n",
    "content1 = request1.content\n",
    "\n",
    "soup1 = BeautifulSoup(content1, \"html.parser\")\n",
    "\n",
    "ddwatch = []\n",
    "title = []\n",
    "\n",
    "for all_mv in soup1.find_all('a',{'class':'pl-video-title-link'}):\n",
    "    url2 = \"https://www.youtube.com{}\".format(all_mv['href'])\n",
    "    print(url2)\n",
    "    request2 = requests.get(url2)\n",
    "    content2 = request2.content\n",
    "\n",
    "    soup2 = BeautifulSoup(content2, \"html.parser\")\n",
    "    \n",
    "    dwatch = soup2.find('div',{'class':'watch-view-count'}).get_text().strip('觀看次數：').strip('次').replace(',', '')\n",
    "    dwatch = int(dwatch)\n",
    "    print(dwatch)\n",
    "    ddwatch.append(dwatch)\n",
    "\n",
    "    ti = soup2.find('span',{'class':'watch-title'}).get_text()\n",
    "    ti = ti.strip('\\n').strip('周杰倫 Jay Chou').strip('Official MV\\n')\n",
    "    title.append(ti)\n",
    "    print(ti)\n",
    "    \n",
    "Fantacy = DataFrame(ddwatch)\n",
    "song = [1, 2, 3, 4, 5, 6, 7, 8, 9, 10, 11, 12, 13]\n",
    "Fantacy.index = Series(song)\n",
    "Fantacy.rename( columns={0:'觀看次數'},inplace=True)\n",
    "Fantacy1 = Fantacy\n",
    "print(Fantacy)"
   ]
  },
  {
   "cell_type": "code",
   "execution_count": 35,
   "metadata": {},
   "outputs": [
    {
     "data": {
      "text/plain": [
       "Text(0.5,1.1,'Fantacy')"
      ]
     },
     "execution_count": 35,
     "metadata": {},
     "output_type": "execute_result"
    },
    {
     "data": {
      "image/png": "[encoded data removed]",
      "text/plain": [
       "<matplotlib.figure.Figure at 0x288846baba8>"
      ]
     },
     "metadata": {},
     "output_type": "display_data"
    }
   ],
   "source": [
    "plt.plot(Fantacy, c = 'r')\n",
    "plt.xlabel(\"Song's No.\", fontweight = \"bold\")\n",
    "plt.ylabel(\"watching time\", fontweight = \"bold\") \n",
    "plt.title(\"Fantacy\", fontsize = 15, fontweight = \"bold\", y = 1.1)"
   ]
  },
  {
   "cell_type": "code",
   "execution_count": 36,
   "metadata": {},
   "outputs": [
    {
     "data": {
      "text/html": [
       "<div>\n",
       "<style scoped>\n",
       "    .dataframe tbody tr th:only-of-type {\n",
       "        vertical-align: middle;\n",
       "    }\n",
       "\n",
       "    .dataframe tbody tr th {\n",
       "        vertical-align: top;\n",
       "    }\n",
       "\n",
       "    .dataframe thead th {\n",
       "        text-align: right;\n",
       "    }\n",
       "</style>\n",
       "<table border=\"1\" class=\"dataframe\">\n",
       "  <thead>\n",
       "    <tr style=\"text-align: right;\">\n",
       "      <th></th>\n",
       "      <th>觀看次數</th>\n",
       "      <th>歌名</th>\n",
       "    </tr>\n",
       "  </thead>\n",
       "  <tbody>\n",
       "    <tr>\n",
       "      <th>1</th>\n",
       "      <td>4953808</td>\n",
       "      <td>【上海 一九四三 Shanghai 1943】</td>\n",
       "    </tr>\n",
       "    <tr>\n",
       "      <th>2</th>\n",
       "      <td>2587015</td>\n",
       "      <td>【忍者 Ninja】</td>\n",
       "    </tr>\n",
       "    <tr>\n",
       "      <th>3</th>\n",
       "      <td>2277447</td>\n",
       "      <td>【爸 我回來了 Dad, I'm home】</td>\n",
       "    </tr>\n",
       "    <tr>\n",
       "      <th>4</th>\n",
       "      <td>2453198</td>\n",
       "      <td>【威廉古堡 William Castle】</td>\n",
       "    </tr>\n",
       "    <tr>\n",
       "      <th>5</th>\n",
       "      <td>20555844</td>\n",
       "      <td>【開不了口 I Find It Hard To Say】</td>\n",
       "    </tr>\n",
       "    <tr>\n",
       "      <th>6</th>\n",
       "      <td>10047090</td>\n",
       "      <td>【愛在西元前 Love before BC】</td>\n",
       "    </tr>\n",
       "    <tr>\n",
       "      <th>7</th>\n",
       "      <td>2270381</td>\n",
       "      <td>【對不起 Sorry】</td>\n",
       "    </tr>\n",
       "    <tr>\n",
       "      <th>8</th>\n",
       "      <td>4628710</td>\n",
       "      <td>【雙截棍 Nunchucks】</td>\n",
       "    </tr>\n",
       "    <tr>\n",
       "      <th>9</th>\n",
       "      <td>7525473</td>\n",
       "      <td>【簡單愛 Simple Love】</td>\n",
       "    </tr>\n",
       "    <tr>\n",
       "      <th>10</th>\n",
       "      <td>23276412</td>\n",
       "      <td>【安靜 Silence】</td>\n",
       "    </tr>\n",
       "    <tr>\n",
       "      <th>11</th>\n",
       "      <td>1580430</td>\n",
       "      <td>【蝸牛 Snail】</td>\n",
       "    </tr>\n",
       "    <tr>\n",
       "      <th>12</th>\n",
       "      <td>1894562</td>\n",
       "      <td>【你比從前快樂 You Are Happier Than Before】</td>\n",
       "    </tr>\n",
       "    <tr>\n",
       "      <th>13</th>\n",
       "      <td>3743537</td>\n",
       "      <td>【世界末日 End of the World】</td>\n",
       "    </tr>\n",
       "  </tbody>\n",
       "</table>\n",
       "</div>"
      ],
      "text/plain": [
       "        觀看次數                                    歌名\n",
       "1    4953808               【上海 一九四三 Shanghai 1943】\n",
       "2    2587015                            【忍者 Ninja】\n",
       "3    2277447                【爸 我回來了 Dad, I'm home】\n",
       "4    2453198                 【威廉古堡 William Castle】\n",
       "5   20555844          【開不了口 I Find It Hard To Say】\n",
       "6   10047090                【愛在西元前 Love before BC】\n",
       "7    2270381                           【對不起 Sorry】\n",
       "8    4628710                       【雙截棍 Nunchucks】\n",
       "9    7525473                     【簡單愛 Simple Love】\n",
       "10  23276412                          【安靜 Silence】\n",
       "11   1580430                            【蝸牛 Snail】\n",
       "12   1894562  【你比從前快樂 You Are Happier Than Before】\n",
       "13   3743537               【世界末日 End of the World】"
      ]
     },
     "execution_count": 36,
     "metadata": {},
     "output_type": "execute_result"
    }
   ],
   "source": [
    "Fantacy['歌名'] = title\n",
    "Fantacy.reindex(columns = ['歌名', '觀看次數'])\n",
    "Fantacy"
   ]
  },
  {
   "cell_type": "code",
   "execution_count": 37,
   "metadata": {},
   "outputs": [
    {
     "name": "stdout",
     "output_type": "stream",
     "text": [
      "---------------------------------------------------------------------------------------\n"
     ]
    },
    {
     "name": "stderr",
     "output_type": "stream",
     "text": [
      "D:\\Users\\user\\Anaconda3\\lib\\site-packages\\ipykernel_launcher.py:4: FutureWarning: by argument to sort_index is deprecated, please use .sort_values(by=...)\n",
      "  after removing the cwd from sys.path.\n"
     ]
    },
    {
     "data": {
      "text/html": [
       "<div>\n",
       "<style scoped>\n",
       "    .dataframe tbody tr th:only-of-type {\n",
       "        vertical-align: middle;\n",
       "    }\n",
       "\n",
       "    .dataframe tbody tr th {\n",
       "        vertical-align: top;\n",
       "    }\n",
       "\n",
       "    .dataframe thead th {\n",
       "        text-align: right;\n",
       "    }\n",
       "</style>\n",
       "<table border=\"1\" class=\"dataframe\">\n",
       "  <thead>\n",
       "    <tr style=\"text-align: right;\">\n",
       "      <th></th>\n",
       "      <th>觀看次數</th>\n",
       "      <th>歌名</th>\n",
       "    </tr>\n",
       "  </thead>\n",
       "  <tbody>\n",
       "    <tr>\n",
       "      <th>10</th>\n",
       "      <td>23276412</td>\n",
       "      <td>【安靜 Silence】</td>\n",
       "    </tr>\n",
       "    <tr>\n",
       "      <th>5</th>\n",
       "      <td>20555844</td>\n",
       "      <td>【開不了口 I Find It Hard To Say】</td>\n",
       "    </tr>\n",
       "    <tr>\n",
       "      <th>6</th>\n",
       "      <td>10047090</td>\n",
       "      <td>【愛在西元前 Love before BC】</td>\n",
       "    </tr>\n",
       "    <tr>\n",
       "      <th>9</th>\n",
       "      <td>7525473</td>\n",
       "      <td>【簡單愛 Simple Love】</td>\n",
       "    </tr>\n",
       "    <tr>\n",
       "      <th>1</th>\n",
       "      <td>4953808</td>\n",
       "      <td>【上海 一九四三 Shanghai 1943】</td>\n",
       "    </tr>\n",
       "    <tr>\n",
       "      <th>8</th>\n",
       "      <td>4628710</td>\n",
       "      <td>【雙截棍 Nunchucks】</td>\n",
       "    </tr>\n",
       "    <tr>\n",
       "      <th>13</th>\n",
       "      <td>3743537</td>\n",
       "      <td>【世界末日 End of the World】</td>\n",
       "    </tr>\n",
       "    <tr>\n",
       "      <th>2</th>\n",
       "      <td>2587015</td>\n",
       "      <td>【忍者 Ninja】</td>\n",
       "    </tr>\n",
       "    <tr>\n",
       "      <th>4</th>\n",
       "      <td>2453198</td>\n",
       "      <td>【威廉古堡 William Castle】</td>\n",
       "    </tr>\n",
       "    <tr>\n",
       "      <th>3</th>\n",
       "      <td>2277447</td>\n",
       "      <td>【爸 我回來了 Dad, I'm home】</td>\n",
       "    </tr>\n",
       "    <tr>\n",
       "      <th>7</th>\n",
       "      <td>2270381</td>\n",
       "      <td>【對不起 Sorry】</td>\n",
       "    </tr>\n",
       "    <tr>\n",
       "      <th>12</th>\n",
       "      <td>1894562</td>\n",
       "      <td>【你比從前快樂 You Are Happier Than Before】</td>\n",
       "    </tr>\n",
       "    <tr>\n",
       "      <th>11</th>\n",
       "      <td>1580430</td>\n",
       "      <td>【蝸牛 Snail】</td>\n",
       "    </tr>\n",
       "  </tbody>\n",
       "</table>\n",
       "</div>"
      ],
      "text/plain": [
       "        觀看次數                                    歌名\n",
       "10  23276412                          【安靜 Silence】\n",
       "5   20555844          【開不了口 I Find It Hard To Say】\n",
       "6   10047090                【愛在西元前 Love before BC】\n",
       "9    7525473                     【簡單愛 Simple Love】\n",
       "1    4953808               【上海 一九四三 Shanghai 1943】\n",
       "8    4628710                       【雙截棍 Nunchucks】\n",
       "13   3743537               【世界末日 End of the World】\n",
       "2    2587015                            【忍者 Ninja】\n",
       "4    2453198                 【威廉古堡 William Castle】\n",
       "3    2277447                【爸 我回來了 Dad, I'm home】\n",
       "7    2270381                           【對不起 Sorry】\n",
       "12   1894562  【你比從前快樂 You Are Happier Than Before】\n",
       "11   1580430                            【蝸牛 Snail】"
      ]
     },
     "execution_count": 37,
     "metadata": {},
     "output_type": "execute_result"
    }
   ],
   "source": [
    "\n",
    "print('---------------------------------------------------------------------------------------')\n",
    "\n",
    "FantacyS = Fantacy.sort_index(by = '觀看次數', ascending=False)\n",
    "FantacyS"
   ]
  },
  {
   "cell_type": "markdown",
   "metadata": {},
   "source": [
    "### 第三張專輯，想像不到的「八度空間」"
   ]
  },
  {
   "cell_type": "code",
   "execution_count": 38,
   "metadata": {},
   "outputs": [
    {
     "name": "stdout",
     "output_type": "stream",
     "text": [
      "https://www.youtube.com/watch?v=eM6mF4RWhe0&list=PLgFC_SXvt6Lmkks32yM_6l-Eb6KMdgBom&index=2&t=0s\n",
      "4272933\n",
      "【分裂 Split】\n",
      "https://www.youtube.com/watch?v=K5qKpFLWaoA&list=PLgFC_SXvt6Lmkks32yM_6l-Eb6KMdgBom&index=3&t=0s\n",
      "1331994\n",
      "【火車叨位去 The Train's Destination】\n",
      "https://www.youtube.com/watch?v=duZDsG3tvoA&list=PLgFC_SXvt6Lmkks32yM_6l-Eb6KMdgBom&index=4&t=0s\n",
      "10628589\n",
      "【半島鐵盒 Peninsula Ironbox】\n",
      "https://www.youtube.com/watch?v=MKNrnSsIwf8&list=PLgFC_SXvt6Lmkks32yM_6l-Eb6KMdgBom&index=5&t=0s\n",
      "10004515\n",
      "【回到過去 Back to the Past】\n",
      "https://www.youtube.com/watch?v=CYT9DPJdtS4&list=PLgFC_SXvt6Lmkks32yM_6l-Eb6KMdgBom&index=6&t=0s\n",
      "5930679\n",
      "【暗號 Secret Sign】\n",
      "https://www.youtube.com/watch?v=KmaqqnLGUG0&list=PLgFC_SXvt6Lmkks32yM_6l-Eb6KMdgBom&index=7&t=0s\n",
      "1852973\n",
      "【米蘭小鐵匠 Little Blacksmith in Milan】\n",
      "https://www.youtube.com/watch?v=LdPjnubLRN0&list=PLgFC_SXvt6Lmkks32yM_6l-Eb6KMdgBom&index=8&t=0s\n",
      "4252988\n",
      "【爺爺泡的茶 Grandpa's Tea】\n",
      "https://www.youtube.com/watch?v=3I27c6t-0No&list=PLgFC_SXvt6Lmkks32yM_6l-Eb6KMdgBom&index=9&t=0s\n",
      "2660387\n",
      "【半獸人 Half-beast Human】\n",
      "https://www.youtube.com/watch?v=_byK6M95hTc&list=PLgFC_SXvt6Lmkks32yM_6l-Eb6KMdgBom&index=10&t=0s\n",
      "1900504\n",
      "【龍拳 Dragon Fist】\n",
      "https://www.youtube.com/watch?v=ZcShYmOhHM0&list=PLgFC_SXvt6Lmkks32yM_6l-Eb6KMdgBom&index=11&t=0s\n",
      "2683986\n",
      "【最後的戰役 The Final Battle】\n",
      "https://www.youtube.com/watch?v=DpRje0eC7RE&list=PLgFC_SXvt6Lmkks32yM_6l-Eb6KMdgBom&index=12&t=0s\n",
      "305868\n",
      "【最後的戰役電影版 The Last Battle】\n",
      "        觀看次數\n",
      "1    4272933\n",
      "2    1331994\n",
      "3   10628589\n",
      "4   10004515\n",
      "5    5930679\n",
      "6    1852973\n",
      "7    4252988\n",
      "8    2660387\n",
      "9    1900504\n",
      "10   2683986\n",
      "11    305868\n"
     ]
    }
   ],
   "source": [
    "url1 = \"https://www.youtube.com/playlist?list=PLgFC_SXvt6Lmkks32yM_6l-Eb6KMdgBom\"\n",
    "request1 = requests.get(url1)\n",
    "content1 = request1.content\n",
    "\n",
    "soup1 = BeautifulSoup(content1, \"html.parser\")\n",
    "\n",
    "ddwatch = []\n",
    "title = []\n",
    "\n",
    "for all_mv in soup1.find_all('a',{'class':'pl-video-title-link'}):\n",
    "    url2 = \"https://www.youtube.com{}\".format(all_mv['href'])\n",
    "    print(url2)\n",
    "    request2 = requests.get(url2)\n",
    "    content2 = request2.content\n",
    "\n",
    "    soup2 = BeautifulSoup(content2, \"html.parser\")\n",
    "    \n",
    "    dwatch = soup2.find('div',{'class':'watch-view-count'}).get_text().strip('觀看次數：').strip('次').replace(',', '')\n",
    "    dwatch = int(dwatch)\n",
    "    print(dwatch)\n",
    "    ddwatch.append(dwatch)\n",
    "    \n",
    "    ti = soup2.find('span',{'class':'watch-title'}).get_text()\n",
    "    ti = ti.strip('\\n').strip('周杰倫 Jay Chou').strip('Official MV\\n')\n",
    "    title.append(ti)\n",
    "    print(ti)\n",
    "    \n",
    "\n",
    "space = DataFrame(ddwatch)\n",
    "song = [1, 2, 3, 4, 5, 6, 7, 8, 9, 10, 11]\n",
    "space.index = Series(song)\n",
    "space.rename( columns={0:'觀看次數'},inplace=True)\n",
    "\n",
    "space1 = space\n",
    "print(space)"
   ]
  },
  {
   "cell_type": "code",
   "execution_count": 39,
   "metadata": {},
   "outputs": [
    {
     "data": {
      "text/plain": [
       "Text(0.5,1.1,'EIGHT DIMENSION')"
      ]
     },
     "execution_count": 39,
     "metadata": {},
     "output_type": "execute_result"
    },
    {
     "data": {
      "image/png": "[encoded data removed]",
      "text/plain": [
       "<matplotlib.figure.Figure at 0x288839a3630>"
      ]
     },
     "metadata": {},
     "output_type": "display_data"
    }
   ],
   "source": [
    "plt.plot(space, c = 'r')\n",
    "plt.xlabel(\"Song's No.\", fontweight = \"bold\")\n",
    "plt.ylabel(\"watching time\", fontweight = \"bold\") \n",
    "plt.title(\"EIGHT DIMENSION\", fontsize = 15, fontweight = \"bold\", y = 1.1)"
   ]
  },
  {
   "cell_type": "code",
   "execution_count": 40,
   "metadata": {},
   "outputs": [
    {
     "data": {
      "text/html": [
       "<div>\n",
       "<style scoped>\n",
       "    .dataframe tbody tr th:only-of-type {\n",
       "        vertical-align: middle;\n",
       "    }\n",
       "\n",
       "    .dataframe tbody tr th {\n",
       "        vertical-align: top;\n",
       "    }\n",
       "\n",
       "    .dataframe thead th {\n",
       "        text-align: right;\n",
       "    }\n",
       "</style>\n",
       "<table border=\"1\" class=\"dataframe\">\n",
       "  <thead>\n",
       "    <tr style=\"text-align: right;\">\n",
       "      <th></th>\n",
       "      <th>觀看次數</th>\n",
       "      <th>歌名</th>\n",
       "    </tr>\n",
       "  </thead>\n",
       "  <tbody>\n",
       "    <tr>\n",
       "      <th>1</th>\n",
       "      <td>4272933</td>\n",
       "      <td>【分裂 Split】</td>\n",
       "    </tr>\n",
       "    <tr>\n",
       "      <th>2</th>\n",
       "      <td>1331994</td>\n",
       "      <td>【火車叨位去 The Train's Destination】</td>\n",
       "    </tr>\n",
       "    <tr>\n",
       "      <th>3</th>\n",
       "      <td>10628589</td>\n",
       "      <td>【半島鐵盒 Peninsula Ironbox】</td>\n",
       "    </tr>\n",
       "    <tr>\n",
       "      <th>4</th>\n",
       "      <td>10004515</td>\n",
       "      <td>【回到過去 Back to the Past】</td>\n",
       "    </tr>\n",
       "    <tr>\n",
       "      <th>5</th>\n",
       "      <td>5930679</td>\n",
       "      <td>【暗號 Secret Sign】</td>\n",
       "    </tr>\n",
       "    <tr>\n",
       "      <th>6</th>\n",
       "      <td>1852973</td>\n",
       "      <td>【米蘭小鐵匠 Little Blacksmith in Milan】</td>\n",
       "    </tr>\n",
       "    <tr>\n",
       "      <th>7</th>\n",
       "      <td>4252988</td>\n",
       "      <td>【爺爺泡的茶 Grandpa's Tea】</td>\n",
       "    </tr>\n",
       "    <tr>\n",
       "      <th>8</th>\n",
       "      <td>2660387</td>\n",
       "      <td>【半獸人 Half-beast Human】</td>\n",
       "    </tr>\n",
       "    <tr>\n",
       "      <th>9</th>\n",
       "      <td>1900504</td>\n",
       "      <td>【龍拳 Dragon Fist】</td>\n",
       "    </tr>\n",
       "    <tr>\n",
       "      <th>10</th>\n",
       "      <td>2683986</td>\n",
       "      <td>【最後的戰役 The Final Battle】</td>\n",
       "    </tr>\n",
       "    <tr>\n",
       "      <th>11</th>\n",
       "      <td>305868</td>\n",
       "      <td>【最後的戰役電影版 The Last Battle】</td>\n",
       "    </tr>\n",
       "  </tbody>\n",
       "</table>\n",
       "</div>"
      ],
      "text/plain": [
       "        觀看次數                                  歌名\n",
       "1    4272933                          【分裂 Split】\n",
       "2    1331994     【火車叨位去 The Train's Destination】\n",
       "3   10628589            【半島鐵盒 Peninsula Ironbox】\n",
       "4   10004515             【回到過去 Back to the Past】\n",
       "5    5930679                    【暗號 Secret Sign】\n",
       "6    1852973  【米蘭小鐵匠 Little Blacksmith in Milan】\n",
       "7    4252988               【爺爺泡的茶 Grandpa's Tea】\n",
       "8    2660387              【半獸人 Half-beast Human】\n",
       "9    1900504                    【龍拳 Dragon Fist】\n",
       "10   2683986            【最後的戰役 The Final Battle】\n",
       "11    305868          【最後的戰役電影版 The Last Battle】"
      ]
     },
     "execution_count": 40,
     "metadata": {},
     "output_type": "execute_result"
    }
   ],
   "source": [
    "space['歌名'] = title\n",
    "space.reindex(columns = ['歌名', '觀看次數'])\n",
    "space"
   ]
  },
  {
   "cell_type": "code",
   "execution_count": 41,
   "metadata": {},
   "outputs": [
    {
     "name": "stdout",
     "output_type": "stream",
     "text": [
      "---------------------------------------------------------------------------------------\n"
     ]
    },
    {
     "name": "stderr",
     "output_type": "stream",
     "text": [
      "D:\\Users\\user\\Anaconda3\\lib\\site-packages\\ipykernel_launcher.py:5: FutureWarning: by argument to sort_index is deprecated, please use .sort_values(by=...)\n",
      "  \"\"\"\n"
     ]
    },
    {
     "data": {
      "text/html": [
       "<div>\n",
       "<style scoped>\n",
       "    .dataframe tbody tr th:only-of-type {\n",
       "        vertical-align: middle;\n",
       "    }\n",
       "\n",
       "    .dataframe tbody tr th {\n",
       "        vertical-align: top;\n",
       "    }\n",
       "\n",
       "    .dataframe thead th {\n",
       "        text-align: right;\n",
       "    }\n",
       "</style>\n",
       "<table border=\"1\" class=\"dataframe\">\n",
       "  <thead>\n",
       "    <tr style=\"text-align: right;\">\n",
       "      <th></th>\n",
       "      <th>觀看次數</th>\n",
       "      <th>歌名</th>\n",
       "    </tr>\n",
       "  </thead>\n",
       "  <tbody>\n",
       "    <tr>\n",
       "      <th>3</th>\n",
       "      <td>10628589</td>\n",
       "      <td>【半島鐵盒 Peninsula Ironbox】</td>\n",
       "    </tr>\n",
       "    <tr>\n",
       "      <th>4</th>\n",
       "      <td>10004515</td>\n",
       "      <td>【回到過去 Back to the Past】</td>\n",
       "    </tr>\n",
       "    <tr>\n",
       "      <th>5</th>\n",
       "      <td>5930679</td>\n",
       "      <td>【暗號 Secret Sign】</td>\n",
       "    </tr>\n",
       "    <tr>\n",
       "      <th>1</th>\n",
       "      <td>4272933</td>\n",
       "      <td>【分裂 Split】</td>\n",
       "    </tr>\n",
       "    <tr>\n",
       "      <th>7</th>\n",
       "      <td>4252988</td>\n",
       "      <td>【爺爺泡的茶 Grandpa's Tea】</td>\n",
       "    </tr>\n",
       "    <tr>\n",
       "      <th>10</th>\n",
       "      <td>2683986</td>\n",
       "      <td>【最後的戰役 The Final Battle】</td>\n",
       "    </tr>\n",
       "    <tr>\n",
       "      <th>8</th>\n",
       "      <td>2660387</td>\n",
       "      <td>【半獸人 Half-beast Human】</td>\n",
       "    </tr>\n",
       "    <tr>\n",
       "      <th>9</th>\n",
       "      <td>1900504</td>\n",
       "      <td>【龍拳 Dragon Fist】</td>\n",
       "    </tr>\n",
       "    <tr>\n",
       "      <th>6</th>\n",
       "      <td>1852973</td>\n",
       "      <td>【米蘭小鐵匠 Little Blacksmith in Milan】</td>\n",
       "    </tr>\n",
       "    <tr>\n",
       "      <th>2</th>\n",
       "      <td>1331994</td>\n",
       "      <td>【火車叨位去 The Train's Destination】</td>\n",
       "    </tr>\n",
       "    <tr>\n",
       "      <th>11</th>\n",
       "      <td>305868</td>\n",
       "      <td>【最後的戰役電影版 The Last Battle】</td>\n",
       "    </tr>\n",
       "  </tbody>\n",
       "</table>\n",
       "</div>"
      ],
      "text/plain": [
       "        觀看次數                                  歌名\n",
       "3   10628589            【半島鐵盒 Peninsula Ironbox】\n",
       "4   10004515             【回到過去 Back to the Past】\n",
       "5    5930679                    【暗號 Secret Sign】\n",
       "1    4272933                          【分裂 Split】\n",
       "7    4252988               【爺爺泡的茶 Grandpa's Tea】\n",
       "10   2683986            【最後的戰役 The Final Battle】\n",
       "8    2660387              【半獸人 Half-beast Human】\n",
       "9    1900504                    【龍拳 Dragon Fist】\n",
       "6    1852973  【米蘭小鐵匠 Little Blacksmith in Milan】\n",
       "2    1331994     【火車叨位去 The Train's Destination】\n",
       "11    305868          【最後的戰役電影版 The Last Battle】"
      ]
     },
     "execution_count": 41,
     "metadata": {},
     "output_type": "execute_result"
    }
   ],
   "source": [
    "\n",
    "\n",
    "print('---------------------------------------------------------------------------------------')\n",
    "\n",
    "spaceS = space.sort_index(by = '觀看次數', ascending=False)\n",
    "spaceS"
   ]
  },
  {
   "cell_type": "markdown",
   "metadata": {},
   "source": [
    "### 第四張專輯，以母為名的「葉惠美」"
   ]
  },
  {
   "cell_type": "code",
   "execution_count": 42,
   "metadata": {},
   "outputs": [
    {
     "name": "stdout",
     "output_type": "stream",
     "text": [
      "https://www.youtube.com/watch?v=DYptgVvkVLQ&list=PLgFC_SXvt6LmByjzSBtO1aD1W9J5D3ppg&index=2&t=0s\n",
      "31790987\n",
      "【晴天 Sunny Day】\n",
      "https://www.youtube.com/watch?v=qct0JLjaHDc&list=PLgFC_SXvt6LmByjzSBtO1aD1W9J5D3ppg&index=3&t=0s\n",
      "7688483\n",
      "【東風破 Dong-Feng-Po】\n",
      "https://www.youtube.com/watch?v=gqzlB7Gla2E&list=PLgFC_SXvt6LmByjzSBtO1aD1W9J5D3ppg&index=4&t=0s\n",
      "2775977\n",
      "【她的睫毛 Her Eyelashes】\n",
      "https://www.youtube.com/watch?v=_trE3M24kQY&list=PLgFC_SXvt6LmByjzSBtO1aD1W9J5D3ppg&index=5&t=0s\n",
      "3585450\n",
      "【三年二班 Class 3-2】\n",
      "https://www.youtube.com/watch?v=Xi_RBDWZaT0&list=PLgFC_SXvt6LmByjzSBtO1aD1W9J5D3ppg&index=6&t=0s\n",
      "1102144\n",
      "【懦夫 Coward】\n",
      "https://www.youtube.com/watch?v=WM7K9mnLWzw&list=PLgFC_SXvt6LmByjzSBtO1aD1W9J5D3ppg&index=7&t=0s\n",
      "203698\n",
      "【雙刀電影版 Double Blade】\n",
      "https://www.youtube.com/watch?v=T4qPsRLjGCY&list=PLgFC_SXvt6LmByjzSBtO1aD1W9J5D3ppg&index=8&t=0s\n",
      "958052\n",
      "【雙刀 官方完整MV】\n",
      "https://www.youtube.com/watch?v=H5VQdhYh9rc&list=PLgFC_SXvt6LmByjzSBtO1aD1W9J5D3ppg&index=9&t=0s\n",
      "2071255\n",
      "【愛情懸崖 官方完整MV】\n",
      "https://www.youtube.com/watch?v=u9J99gB5psc&list=PLgFC_SXvt6LmByjzSBtO1aD1W9J5D3ppg&index=10&t=0s\n",
      "1197810\n",
      "【梯田 Terrace Field】\n",
      "https://www.youtube.com/watch?v=kLY11fv7fUk&list=PLgFC_SXvt6LmByjzSBtO1aD1W9J5D3ppg&index=11&t=0s\n",
      "4033691\n",
      "【妳聽得到 官方完整MV】\n",
      "https://www.youtube.com/watch?v=D0x09XJgyO4&list=PLgFC_SXvt6LmByjzSBtO1aD1W9J5D3ppg&index=12&t=0s\n",
      "1062372\n",
      "【同一種調調 Same Tone】\n",
      "https://www.youtube.com/watch?v=9q7JOQfcJQM&list=PLgFC_SXvt6LmByjzSBtO1aD1W9J5D3ppg&index=13&t=0s\n",
      "7481530\n",
      "【以父之名 官方完整MV】\n",
      "        觀看次數\n",
      "1   31790987\n",
      "2    7688483\n",
      "3    2775977\n",
      "4    3585450\n",
      "5    1102144\n",
      "6     203698\n",
      "7     958052\n",
      "8    2071255\n",
      "9    1197810\n",
      "10   4033691\n",
      "11   1062372\n",
      "12   7481530\n"
     ]
    }
   ],
   "source": [
    "url1 = \"https://www.youtube.com/playlist?list=PLgFC_SXvt6LmByjzSBtO1aD1W9J5D3ppg\"\n",
    "request1 = requests.get(url1)\n",
    "content1 = request1.content\n",
    "\n",
    "soup1 = BeautifulSoup(content1, \"html.parser\")\n",
    "\n",
    "ddwatch = []\n",
    "title = []\n",
    "\n",
    "for all_mv in soup1.find_all('a',{'class':'pl-video-title-link'}):\n",
    "    url2 = \"https://www.youtube.com{}\".format(all_mv['href'])\n",
    "    print(url2)\n",
    "    request2 = requests.get(url2)\n",
    "    content2 = request2.content\n",
    "\n",
    "    soup2 = BeautifulSoup(content2, \"html.parser\")\n",
    "    \n",
    "    dwatch = soup2.find('div',{'class':'watch-view-count'}).get_text().strip('觀看次數：').strip('次').replace(',', '')\n",
    "    dwatch = int(dwatch)\n",
    "    print(dwatch)\n",
    "    ddwatch.append(dwatch)\n",
    "    \n",
    "    ti = soup2.find('span',{'class':'watch-title'}).get_text()\n",
    "    ti = ti.strip('\\n').strip('周杰倫 Jay Chou').strip('Official MV\\n').strip('周杰倫 Jay Chou').strip('-Official Music Video\\n').strip('-Official Movie Version\\n')\n",
    "    ti = ti.strip('Jay Chou \"Cliff\" MV (Ai-Qing-Xuan-Ya)').strip('Jay Chou \"Double Blade\" MV (Shuang-Dao)').strip('Jay Chou \"You Hear Me\" MV (Ni-Ti').strip('Jay Chou \"In The Name of Father\" MV (Yi-Fu-Z')\n",
    "    title.append(ti)\n",
    "    print(ti)\n",
    "    \n",
    "\n",
    "YHM = DataFrame(ddwatch)\n",
    "song = [1, 2, 3, 4, 5, 6, 7, 8, 9, 10, 11, 12]\n",
    "YHM.index = Series(song)\n",
    "YHM.rename( columns={0:'觀看次數'},inplace=True)\n",
    "\n",
    "YHM1 = YHM\n",
    "print(YHM)"
   ]
  },
  {
   "cell_type": "code",
   "execution_count": 43,
   "metadata": {},
   "outputs": [
    {
     "data": {
      "text/plain": [
       "Text(0.5,1.1,'YEH HUI MEI')"
      ]
     },
     "execution_count": 43,
     "metadata": {},
     "output_type": "execute_result"
    },
    {
     "data": {
      "image/png": "[encoded data removed]",
      "text/plain": [
       "<matplotlib.figure.Figure at 0x2888466b9e8>"
      ]
     },
     "metadata": {},
     "output_type": "display_data"
    }
   ],
   "source": [
    "plt.plot(YHM, c = 'r')\n",
    "plt.xlabel(\"Song's No.\", fontweight = \"bold\")\n",
    "plt.ylabel(\"watching time\", fontweight = \"bold\") \n",
    "plt.title(\"YEH HUI MEI\", fontsize = 15, fontweight = \"bold\", y = 1.1)"
   ]
  },
  {
   "cell_type": "code",
   "execution_count": 44,
   "metadata": {},
   "outputs": [
    {
     "data": {
      "text/html": [
       "<div>\n",
       "<style scoped>\n",
       "    .dataframe tbody tr th:only-of-type {\n",
       "        vertical-align: middle;\n",
       "    }\n",
       "\n",
       "    .dataframe tbody tr th {\n",
       "        vertical-align: top;\n",
       "    }\n",
       "\n",
       "    .dataframe thead th {\n",
       "        text-align: right;\n",
       "    }\n",
       "</style>\n",
       "<table border=\"1\" class=\"dataframe\">\n",
       "  <thead>\n",
       "    <tr style=\"text-align: right;\">\n",
       "      <th></th>\n",
       "      <th>觀看次數</th>\n",
       "      <th>歌名</th>\n",
       "    </tr>\n",
       "  </thead>\n",
       "  <tbody>\n",
       "    <tr>\n",
       "      <th>1</th>\n",
       "      <td>31790987</td>\n",
       "      <td>【晴天 Sunny Day】</td>\n",
       "    </tr>\n",
       "    <tr>\n",
       "      <th>2</th>\n",
       "      <td>7688483</td>\n",
       "      <td>【東風破 Dong-Feng-Po】</td>\n",
       "    </tr>\n",
       "    <tr>\n",
       "      <th>3</th>\n",
       "      <td>2775977</td>\n",
       "      <td>【她的睫毛 Her Eyelashes】</td>\n",
       "    </tr>\n",
       "    <tr>\n",
       "      <th>4</th>\n",
       "      <td>3585450</td>\n",
       "      <td>【三年二班 Class 3-2】</td>\n",
       "    </tr>\n",
       "    <tr>\n",
       "      <th>5</th>\n",
       "      <td>1102144</td>\n",
       "      <td>【懦夫 Coward】</td>\n",
       "    </tr>\n",
       "    <tr>\n",
       "      <th>6</th>\n",
       "      <td>203698</td>\n",
       "      <td>【雙刀電影版 Double Blade】</td>\n",
       "    </tr>\n",
       "    <tr>\n",
       "      <th>7</th>\n",
       "      <td>958052</td>\n",
       "      <td>【雙刀 官方完整MV】</td>\n",
       "    </tr>\n",
       "    <tr>\n",
       "      <th>8</th>\n",
       "      <td>2071255</td>\n",
       "      <td>【愛情懸崖 官方完整MV】</td>\n",
       "    </tr>\n",
       "    <tr>\n",
       "      <th>9</th>\n",
       "      <td>1197810</td>\n",
       "      <td>【梯田 Terrace Field】</td>\n",
       "    </tr>\n",
       "    <tr>\n",
       "      <th>10</th>\n",
       "      <td>4033691</td>\n",
       "      <td>【妳聽得到 官方完整MV】</td>\n",
       "    </tr>\n",
       "    <tr>\n",
       "      <th>11</th>\n",
       "      <td>1062372</td>\n",
       "      <td>【同一種調調 Same Tone】</td>\n",
       "    </tr>\n",
       "    <tr>\n",
       "      <th>12</th>\n",
       "      <td>7481530</td>\n",
       "      <td>【以父之名 官方完整MV】</td>\n",
       "    </tr>\n",
       "  </tbody>\n",
       "</table>\n",
       "</div>"
      ],
      "text/plain": [
       "        觀看次數                    歌名\n",
       "1   31790987        【晴天 Sunny Day】\n",
       "2    7688483    【東風破 Dong-Feng-Po】\n",
       "3    2775977  【她的睫毛 Her Eyelashes】\n",
       "4    3585450      【三年二班 Class 3-2】\n",
       "5    1102144           【懦夫 Coward】\n",
       "6     203698  【雙刀電影版 Double Blade】\n",
       "7     958052           【雙刀 官方完整MV】\n",
       "8    2071255         【愛情懸崖 官方完整MV】\n",
       "9    1197810    【梯田 Terrace Field】\n",
       "10   4033691         【妳聽得到 官方完整MV】\n",
       "11   1062372     【同一種調調 Same Tone】\n",
       "12   7481530         【以父之名 官方完整MV】"
      ]
     },
     "execution_count": 44,
     "metadata": {},
     "output_type": "execute_result"
    }
   ],
   "source": [
    "YHM['歌名'] = title\n",
    "YHM.reindex(columns = ['歌名', '觀看次數'])\n",
    "YHM"
   ]
  },
  {
   "cell_type": "code",
   "execution_count": 45,
   "metadata": {},
   "outputs": [
    {
     "name": "stdout",
     "output_type": "stream",
     "text": [
      "---------------------------------------------------------------------------------------\n"
     ]
    },
    {
     "name": "stderr",
     "output_type": "stream",
     "text": [
      "D:\\Users\\user\\Anaconda3\\lib\\site-packages\\ipykernel_launcher.py:4: FutureWarning: by argument to sort_index is deprecated, please use .sort_values(by=...)\n",
      "  after removing the cwd from sys.path.\n"
     ]
    },
    {
     "data": {
      "text/html": [
       "<div>\n",
       "<style scoped>\n",
       "    .dataframe tbody tr th:only-of-type {\n",
       "        vertical-align: middle;\n",
       "    }\n",
       "\n",
       "    .dataframe tbody tr th {\n",
       "        vertical-align: top;\n",
       "    }\n",
       "\n",
       "    .dataframe thead th {\n",
       "        text-align: right;\n",
       "    }\n",
       "</style>\n",
       "<table border=\"1\" class=\"dataframe\">\n",
       "  <thead>\n",
       "    <tr style=\"text-align: right;\">\n",
       "      <th></th>\n",
       "      <th>觀看次數</th>\n",
       "      <th>歌名</th>\n",
       "    </tr>\n",
       "  </thead>\n",
       "  <tbody>\n",
       "    <tr>\n",
       "      <th>1</th>\n",
       "      <td>31790987</td>\n",
       "      <td>【晴天 Sunny Day】</td>\n",
       "    </tr>\n",
       "    <tr>\n",
       "      <th>2</th>\n",
       "      <td>7688483</td>\n",
       "      <td>【東風破 Dong-Feng-Po】</td>\n",
       "    </tr>\n",
       "    <tr>\n",
       "      <th>12</th>\n",
       "      <td>7481530</td>\n",
       "      <td>【以父之名 官方完整MV】</td>\n",
       "    </tr>\n",
       "    <tr>\n",
       "      <th>10</th>\n",
       "      <td>4033691</td>\n",
       "      <td>【妳聽得到 官方完整MV】</td>\n",
       "    </tr>\n",
       "    <tr>\n",
       "      <th>4</th>\n",
       "      <td>3585450</td>\n",
       "      <td>【三年二班 Class 3-2】</td>\n",
       "    </tr>\n",
       "    <tr>\n",
       "      <th>3</th>\n",
       "      <td>2775977</td>\n",
       "      <td>【她的睫毛 Her Eyelashes】</td>\n",
       "    </tr>\n",
       "    <tr>\n",
       "      <th>8</th>\n",
       "      <td>2071255</td>\n",
       "      <td>【愛情懸崖 官方完整MV】</td>\n",
       "    </tr>\n",
       "    <tr>\n",
       "      <th>9</th>\n",
       "      <td>1197810</td>\n",
       "      <td>【梯田 Terrace Field】</td>\n",
       "    </tr>\n",
       "    <tr>\n",
       "      <th>5</th>\n",
       "      <td>1102144</td>\n",
       "      <td>【懦夫 Coward】</td>\n",
       "    </tr>\n",
       "    <tr>\n",
       "      <th>11</th>\n",
       "      <td>1062372</td>\n",
       "      <td>【同一種調調 Same Tone】</td>\n",
       "    </tr>\n",
       "    <tr>\n",
       "      <th>7</th>\n",
       "      <td>958052</td>\n",
       "      <td>【雙刀 官方完整MV】</td>\n",
       "    </tr>\n",
       "    <tr>\n",
       "      <th>6</th>\n",
       "      <td>203698</td>\n",
       "      <td>【雙刀電影版 Double Blade】</td>\n",
       "    </tr>\n",
       "  </tbody>\n",
       "</table>\n",
       "</div>"
      ],
      "text/plain": [
       "        觀看次數                    歌名\n",
       "1   31790987        【晴天 Sunny Day】\n",
       "2    7688483    【東風破 Dong-Feng-Po】\n",
       "12   7481530         【以父之名 官方完整MV】\n",
       "10   4033691         【妳聽得到 官方完整MV】\n",
       "4    3585450      【三年二班 Class 3-2】\n",
       "3    2775977  【她的睫毛 Her Eyelashes】\n",
       "8    2071255         【愛情懸崖 官方完整MV】\n",
       "9    1197810    【梯田 Terrace Field】\n",
       "5    1102144           【懦夫 Coward】\n",
       "11   1062372     【同一種調調 Same Tone】\n",
       "7     958052           【雙刀 官方完整MV】\n",
       "6     203698  【雙刀電影版 Double Blade】"
      ]
     },
     "execution_count": 45,
     "metadata": {},
     "output_type": "execute_result"
    }
   ],
   "source": [
    "\n",
    "print('---------------------------------------------------------------------------------------')\n",
    "\n",
    "YHMS = YHM.sort_index(by = '觀看次數', ascending=False)\n",
    "YHMS"
   ]
  },
  {
   "cell_type": "markdown",
   "metadata": {},
   "source": [
    "### 第五張專輯，綻放的「七里香」"
   ]
  },
  {
   "cell_type": "code",
   "execution_count": 46,
   "metadata": {},
   "outputs": [
    {
     "name": "stdout",
     "output_type": "stream",
     "text": [
      "https://www.youtube.com/watch?v=Bbp9ZaJD_eA&list=PLgFC_SXvt6LlDj8gGoHRhU0AtVxHpNknr&index=2&t=0s\n",
      "25887386\n",
      "【七里香 Qi-Li-Xiang】\n",
      "https://www.youtube.com/watch?v=IoCoIxkGkVw&list=PLgFC_SXvt6LlDj8gGoHRhU0AtVxHpNknr&index=3&t=0s\n",
      "5041772\n",
      "【園遊會 Fun Fair】\n",
      "https://www.youtube.com/watch?v=YJfHuATJYsQ&list=PLgFC_SXvt6LlDj8gGoHRhU0AtVxHpNknr&index=4&t=0s\n",
      "25064139\n",
      "【擱淺 官方完整MV】\n",
      "https://www.youtube.com/watch?v=KcK8WurGpEQ&list=PLgFC_SXvt6LlDj8gGoHRhU0AtVxHpNknr&index=5&t=0s\n",
      "19546140\n",
      "【藉口 Excuse】\n",
      "https://www.youtube.com/watch?v=pm91leB_P8c&list=PLgFC_SXvt6LlDj8gGoHRhU0AtVxHpNknr&index=6&t=0s\n",
      "1523794\n",
      "【困獸之鬥 官方完整MV】\n",
      "https://www.youtube.com/watch?v=2Tg3uzSAkXk&list=PLgFC_SXvt6LlDj8gGoHRhU0AtVxHpNknr&index=7&t=0s\n",
      "1881939\n",
      "【亂舞春秋 Chaotic Dance】\n",
      "https://www.youtube.com/watch?v=Ur-x4pZT1Rk&list=PLgFC_SXvt6LlDj8gGoHRhU0AtVxHpNknr&index=8&t=0s\n",
      "3975242\n",
      "【外婆 Grandma】\n",
      "https://www.youtube.com/watch?v=RJerfq6MqY0&list=PLgFC_SXvt6LlDj8gGoHRhU0AtVxHpNknr&index=9&t=0s\n",
      "1559805\n",
      "【我的地盤 My Territory】\n",
      "https://www.youtube.com/watch?v=qIZ5MAwbeCg&list=PLgFC_SXvt6LlDj8gGoHRhU0AtVxHpNknr&index=10&t=0s\n",
      "8175222\n",
      "【止戰之殤 Wounds of War】\n",
      "https://www.youtube.com/watch?v=PaJdceSx4JA&list=PLgFC_SXvt6LlDj8gGoHRhU0AtVxHpNknr&index=11&t=0s\n",
      "1919779\n",
      "【將軍 官方完整MV】\n",
      "        觀看次數\n",
      "1   25887386\n",
      "2    5041772\n",
      "3   25064139\n",
      "4   19546140\n",
      "5    1523794\n",
      "6    1881939\n",
      "7    3975242\n",
      "8    1559805\n",
      "9    8175222\n",
      "10   1919779\n"
     ]
    }
   ],
   "source": [
    "url1 = \"https://www.youtube.com/playlist?list=PLgFC_SXvt6LlDj8gGoHRhU0AtVxHpNknr\"\n",
    "request1 = requests.get(url1)\n",
    "content1 = request1.content\n",
    "\n",
    "soup1 = BeautifulSoup(content1, \"html.parser\")\n",
    "\n",
    "ddwatch = []\n",
    "title = []\n",
    "\n",
    "for all_mv in soup1.find_all('a',{'class':'pl-video-title-link'}):\n",
    "    url2 = \"https://www.youtube.com{}\".format(all_mv['href'])\n",
    "    print(url2)\n",
    "    request2 = requests.get(url2)\n",
    "    content2 = request2.content\n",
    "\n",
    "    soup2 = BeautifulSoup(content2, \"html.parser\")\n",
    "    \n",
    "    dwatch = soup2.find('div',{'class':'watch-view-count'}).get_text().strip('觀看次數：').strip('次').replace(',', '')\n",
    "    dwatch = int(dwatch)\n",
    "    print(dwatch)\n",
    "    ddwatch.append(dwatch)\n",
    "    \n",
    "    ti = soup2.find('span',{'class':'watch-title'}).get_text()\n",
    "    ti = ti.strip('\\n').strip('周杰倫 Jay Chou').strip('-Official Music Video\\n').strip('-Official Movie Version\\n')\n",
    "    ti = ti.strip('Jay Chou \"Step Aside\" MV (Ge-Qian)').strip('Jay Chou \"Struggle\" MV (Kun-Shou-Zhi-Dou)').strip('Jay Chou \"General\" MV (Jiang-Jun)')\n",
    "    title.append(ti)\n",
    "    print(ti)\n",
    "\n",
    "jasmine = DataFrame(ddwatch)\n",
    "song = [1, 2, 3, 4, 5, 6, 7, 8, 9, 10]\n",
    "jasmine.index = Series(song)\n",
    "jasmine.rename( columns={0:'觀看次數'},inplace=True)\n",
    "\n",
    "\n",
    "jasmine1 = jasmine\n",
    "print(jasmine)"
   ]
  },
  {
   "cell_type": "code",
   "execution_count": 47,
   "metadata": {},
   "outputs": [
    {
     "data": {
      "text/plain": [
       "Text(0.5,1.1,'JASMINE')"
      ]
     },
     "execution_count": 47,
     "metadata": {},
     "output_type": "execute_result"
    },
    {
     "data": {
      "image/png": "[encoded data removed]",
      "text/plain": [
       "<matplotlib.figure.Figure at 0x28884741208>"
      ]
     },
     "metadata": {},
     "output_type": "display_data"
    }
   ],
   "source": [
    "plt.plot(jasmine, c = 'r')\n",
    "plt.xlabel(\"Song's No.\", fontweight = \"bold\")\n",
    "plt.ylabel(\"watching time\", fontweight = \"bold\") \n",
    "plt.title(\"JASMINE\", fontsize = 15, fontweight = \"bold\", y = 1.1)"
   ]
  },
  {
   "cell_type": "code",
   "execution_count": 48,
   "metadata": {},
   "outputs": [
    {
     "data": {
      "text/html": [
       "<div>\n",
       "<style scoped>\n",
       "    .dataframe tbody tr th:only-of-type {\n",
       "        vertical-align: middle;\n",
       "    }\n",
       "\n",
       "    .dataframe tbody tr th {\n",
       "        vertical-align: top;\n",
       "    }\n",
       "\n",
       "    .dataframe thead th {\n",
       "        text-align: right;\n",
       "    }\n",
       "</style>\n",
       "<table border=\"1\" class=\"dataframe\">\n",
       "  <thead>\n",
       "    <tr style=\"text-align: right;\">\n",
       "      <th></th>\n",
       "      <th>觀看次數</th>\n",
       "      <th>歌名</th>\n",
       "    </tr>\n",
       "  </thead>\n",
       "  <tbody>\n",
       "    <tr>\n",
       "      <th>1</th>\n",
       "      <td>25887386</td>\n",
       "      <td>【七里香 Qi-Li-Xiang】</td>\n",
       "    </tr>\n",
       "    <tr>\n",
       "      <th>2</th>\n",
       "      <td>5041772</td>\n",
       "      <td>【園遊會 Fun Fair】</td>\n",
       "    </tr>\n",
       "    <tr>\n",
       "      <th>3</th>\n",
       "      <td>25064139</td>\n",
       "      <td>【擱淺 官方完整MV】</td>\n",
       "    </tr>\n",
       "    <tr>\n",
       "      <th>4</th>\n",
       "      <td>19546140</td>\n",
       "      <td>【藉口 Excuse】</td>\n",
       "    </tr>\n",
       "    <tr>\n",
       "      <th>5</th>\n",
       "      <td>1523794</td>\n",
       "      <td>【困獸之鬥 官方完整MV】</td>\n",
       "    </tr>\n",
       "    <tr>\n",
       "      <th>6</th>\n",
       "      <td>1881939</td>\n",
       "      <td>【亂舞春秋 Chaotic Dance】</td>\n",
       "    </tr>\n",
       "    <tr>\n",
       "      <th>7</th>\n",
       "      <td>3975242</td>\n",
       "      <td>【外婆 Grandma】</td>\n",
       "    </tr>\n",
       "    <tr>\n",
       "      <th>8</th>\n",
       "      <td>1559805</td>\n",
       "      <td>【我的地盤 My Territory】</td>\n",
       "    </tr>\n",
       "    <tr>\n",
       "      <th>9</th>\n",
       "      <td>8175222</td>\n",
       "      <td>【止戰之殤 Wounds of War】</td>\n",
       "    </tr>\n",
       "    <tr>\n",
       "      <th>10</th>\n",
       "      <td>1919779</td>\n",
       "      <td>【將軍 官方完整MV】</td>\n",
       "    </tr>\n",
       "  </tbody>\n",
       "</table>\n",
       "</div>"
      ],
      "text/plain": [
       "        觀看次數                    歌名\n",
       "1   25887386     【七里香 Qi-Li-Xiang】\n",
       "2    5041772        【園遊會 Fun Fair】\n",
       "3   25064139           【擱淺 官方完整MV】\n",
       "4   19546140           【藉口 Excuse】\n",
       "5    1523794         【困獸之鬥 官方完整MV】\n",
       "6    1881939  【亂舞春秋 Chaotic Dance】\n",
       "7    3975242          【外婆 Grandma】\n",
       "8    1559805   【我的地盤 My Territory】\n",
       "9    8175222  【止戰之殤 Wounds of War】\n",
       "10   1919779           【將軍 官方完整MV】"
      ]
     },
     "execution_count": 48,
     "metadata": {},
     "output_type": "execute_result"
    }
   ],
   "source": [
    "jasmine['歌名'] = title\n",
    "jasmine.reindex(columns = ['歌名', '觀看次數'])\n",
    "jasmine"
   ]
  },
  {
   "cell_type": "code",
   "execution_count": 49,
   "metadata": {},
   "outputs": [
    {
     "name": "stdout",
     "output_type": "stream",
     "text": [
      "---------------------------------------------------------------------------------------\n"
     ]
    },
    {
     "name": "stderr",
     "output_type": "stream",
     "text": [
      "D:\\Users\\user\\Anaconda3\\lib\\site-packages\\ipykernel_launcher.py:4: FutureWarning: by argument to sort_index is deprecated, please use .sort_values(by=...)\n",
      "  after removing the cwd from sys.path.\n"
     ]
    },
    {
     "data": {
      "text/html": [
       "<div>\n",
       "<style scoped>\n",
       "    .dataframe tbody tr th:only-of-type {\n",
       "        vertical-align: middle;\n",
       "    }\n",
       "\n",
       "    .dataframe tbody tr th {\n",
       "        vertical-align: top;\n",
       "    }\n",
       "\n",
       "    .dataframe thead th {\n",
       "        text-align: right;\n",
       "    }\n",
       "</style>\n",
       "<table border=\"1\" class=\"dataframe\">\n",
       "  <thead>\n",
       "    <tr style=\"text-align: right;\">\n",
       "      <th></th>\n",
       "      <th>觀看次數</th>\n",
       "      <th>歌名</th>\n",
       "    </tr>\n",
       "  </thead>\n",
       "  <tbody>\n",
       "    <tr>\n",
       "      <th>1</th>\n",
       "      <td>25887386</td>\n",
       "      <td>【七里香 Qi-Li-Xiang】</td>\n",
       "    </tr>\n",
       "    <tr>\n",
       "      <th>3</th>\n",
       "      <td>25064139</td>\n",
       "      <td>【擱淺 官方完整MV】</td>\n",
       "    </tr>\n",
       "    <tr>\n",
       "      <th>4</th>\n",
       "      <td>19546140</td>\n",
       "      <td>【藉口 Excuse】</td>\n",
       "    </tr>\n",
       "    <tr>\n",
       "      <th>9</th>\n",
       "      <td>8175222</td>\n",
       "      <td>【止戰之殤 Wounds of War】</td>\n",
       "    </tr>\n",
       "    <tr>\n",
       "      <th>2</th>\n",
       "      <td>5041772</td>\n",
       "      <td>【園遊會 Fun Fair】</td>\n",
       "    </tr>\n",
       "    <tr>\n",
       "      <th>7</th>\n",
       "      <td>3975242</td>\n",
       "      <td>【外婆 Grandma】</td>\n",
       "    </tr>\n",
       "    <tr>\n",
       "      <th>10</th>\n",
       "      <td>1919779</td>\n",
       "      <td>【將軍 官方完整MV】</td>\n",
       "    </tr>\n",
       "    <tr>\n",
       "      <th>6</th>\n",
       "      <td>1881939</td>\n",
       "      <td>【亂舞春秋 Chaotic Dance】</td>\n",
       "    </tr>\n",
       "    <tr>\n",
       "      <th>8</th>\n",
       "      <td>1559805</td>\n",
       "      <td>【我的地盤 My Territory】</td>\n",
       "    </tr>\n",
       "    <tr>\n",
       "      <th>5</th>\n",
       "      <td>1523794</td>\n",
       "      <td>【困獸之鬥 官方完整MV】</td>\n",
       "    </tr>\n",
       "  </tbody>\n",
       "</table>\n",
       "</div>"
      ],
      "text/plain": [
       "        觀看次數                    歌名\n",
       "1   25887386     【七里香 Qi-Li-Xiang】\n",
       "3   25064139           【擱淺 官方完整MV】\n",
       "4   19546140           【藉口 Excuse】\n",
       "9    8175222  【止戰之殤 Wounds of War】\n",
       "2    5041772        【園遊會 Fun Fair】\n",
       "7    3975242          【外婆 Grandma】\n",
       "10   1919779           【將軍 官方完整MV】\n",
       "6    1881939  【亂舞春秋 Chaotic Dance】\n",
       "8    1559805   【我的地盤 My Territory】\n",
       "5    1523794         【困獸之鬥 官方完整MV】"
      ]
     },
     "execution_count": 49,
     "metadata": {},
     "output_type": "execute_result"
    }
   ],
   "source": [
    "\n",
    "print('---------------------------------------------------------------------------------------')\n",
    "\n",
    "jasmineS = jasmine.sort_index(by = '觀看次數', ascending=False)\n",
    "jasmineS"
   ]
  },
  {
   "cell_type": "markdown",
   "metadata": {},
   "source": [
    "### 第六張專輯，躍然琴鍵間的「十一月的蕭邦」"
   ]
  },
  {
   "cell_type": "code",
   "execution_count": 51,
   "metadata": {},
   "outputs": [
    {
     "name": "stdout",
     "output_type": "stream",
     "text": [
      "https://www.youtube.com/watch?v=6Q0Pd53mojY&list=PLgFC_SXvt6LnaeH6Z9wJ8MDQnUKIr5m2S&index=2&t=0s\n",
      "29698034\n",
      "【夜曲 Ye Qu】\n",
      "https://www.youtube.com/watch?v=kYhh1PpsOg4&list=PLgFC_SXvt6LnaeH6Z9wJ8MDQnUKIr5m2S&index=3&t=0s\n",
      "14826349\n",
      "【珊瑚海 Coral Sea】\n",
      "https://www.youtube.com/watch?v=aaM7qG2ycjk&list=PLgFC_SXvt6LnaeH6Z9wJ8MDQnUKIr5m2S&index=4&t=0s\n",
      "22968329\n",
      "【髮如雪 Hair Like Snow】\n",
      "https://www.youtube.com/watch?v=X2njc8is50o&list=PLgFC_SXvt6LnaeH6Z9wJ8MDQnUKIr5m2S&index=5&t=0s\n",
      "5278725\n",
      "【飄移 Drifting】\n",
      "https://www.youtube.com/watch?v=bX33UI9ZPLk&list=PLgFC_SXvt6LnaeH6Z9wJ8MDQnUKIr5m2S&index=6&t=0s\n",
      "10260079\n",
      "【黑色毛衣 Black Sweater】\n",
      "https://www.youtube.com/watch?v=P7ItYKdY0WU&list=PLgFC_SXvt6LnaeH6Z9wJ8MDQnUKIr5m2S&index=7&t=0s\n",
      "2103669\n",
      "【藍色風暴 Blue Storm】\n",
      "https://www.youtube.com/watch?v=qzwsQTY-99o&list=PLgFC_SXvt6LnaeH6Z9wJ8MDQnUKIr5m2S&index=8&t=0s\n",
      "23237527\n",
      "【楓Maple Leaf 】\n",
      "https://www.youtube.com/watch?v=Hq47d-ouX_Y&list=PLgFC_SXvt6LnaeH6Z9wJ8MDQnUKIr5m2S&index=9&t=0s\n",
      "1873895\n",
      "【麥芽糖 Malt Sugar】\n",
      "https://www.youtube.com/watch?v=Kbvu9Vt5_eE&list=PLgFC_SXvt6LnaeH6Z9wJ8MDQnUKIr5m2S&index=10&t=0s\n",
      "3712738\n",
      "【浪漫手機 Romantic Cellphone】\n",
      "https://www.youtube.com/watch?v=JljURsMOLmc&list=PLgFC_SXvt6LnaeH6Z9wJ8MDQnUKIr5m2S&index=11&t=0s\n",
      "4018150\n",
      "【四面楚歌 Surrounded】\n",
      "https://www.youtube.com/watch?v=L229QDxDakU&list=PLgFC_SXvt6LnaeH6Z9wJ8MDQnUKIr5m2S&index=12&t=0s\n",
      "30464693\n",
      "【一路向北 All the Way North】\n",
      "https://www.youtube.com/watch?v=jD0c4QY7L8s&list=PLgFC_SXvt6LnaeH6Z9wJ8MDQnUKIr5m2S&index=13&t=0s\n",
      "1653491\n",
      "【逆鱗 官方完整MV】\n",
      "        觀看次數\n",
      "1   29698034\n",
      "2   14826349\n",
      "3   22968329\n",
      "4    5278725\n",
      "5   10260079\n",
      "6    2103669\n",
      "7   23237527\n",
      "8    1873895\n",
      "9    3712738\n",
      "10   4018150\n",
      "11  30464693\n",
      "12   1653491\n"
     ]
    }
   ],
   "source": [
    "url1 = \"https://www.youtube.com/playlist?list=PLgFC_SXvt6LnaeH6Z9wJ8MDQnUKIr5m2S\"\n",
    "request1 = requests.get(url1)\n",
    "content1 = request1.content\n",
    "\n",
    "soup1 = BeautifulSoup(content1, \"html.parser\")\n",
    "\n",
    "ddwatch = []\n",
    "title = []\n",
    "\n",
    "for all_mv in soup1.find_all('a',{'class':'pl-video-title-link'}):\n",
    "    url2 = \"https://www.youtube.com{}\".format(all_mv['href'])\n",
    "    print(url2)\n",
    "    request2 = requests.get(url2)\n",
    "    content2 = request2.content\n",
    "\n",
    "    soup2 = BeautifulSoup(content2, \"html.parser\")\n",
    "    \n",
    "    dwatch = soup2.find('div',{'class':'watch-view-count'}).get_text().strip('觀看次數：').strip('次').replace(',', '')\n",
    "    dwatch = int(dwatch)\n",
    "    print(dwatch)\n",
    "    ddwatch.append(dwatch)\n",
    "    \n",
    "    ti = soup2.find('span',{'class':'watch-title'}).get_text()\n",
    "    ti = ti.strip('\\n').strip('周杰倫 Jay Chou').strip('-Official Music Video\\n').strip('-Official Movie Version\\n')\n",
    "    ti = ti.strip('Jay Chou \"Against\" MV (Ni-Lin)').strip('(頭文字Dの実写版')\n",
    "    title.append(ti)\n",
    "    print(ti)\n",
    "\n",
    "chopin = DataFrame(ddwatch)\n",
    "song = [1, 2, 3, 4, 5, 6, 7, 8, 9, 10, 11, 12]\n",
    "chopin.index = Series(song)\n",
    "chopin.rename( columns={0:'觀看次數'},inplace=True)\n",
    "\n",
    "chopin1 = chopin\n",
    "print(chopin)"
   ]
  },
  {
   "cell_type": "code",
   "execution_count": 52,
   "metadata": {},
   "outputs": [
    {
     "data": {
      "text/plain": [
       "Text(0.5,1.1,\"NOVEMBER'S CHOPIN\")"
      ]
     },
     "execution_count": 52,
     "metadata": {},
     "output_type": "execute_result"
    },
    {
     "data": {
      "image/png": "[encoded data removed]",
      "text/plain": [
       "<matplotlib.figure.Figure at 0x288845e5b00>"
      ]
     },
     "metadata": {},
     "output_type": "display_data"
    }
   ],
   "source": [
    "plt.plot(chopin, c = 'r')\n",
    "plt.xlabel(\"Song's No.\", fontweight = \"bold\")\n",
    "plt.ylabel(\"watching time\", fontweight = \"bold\") \n",
    "plt.title(\"NOVEMBER'S CHOPIN\", fontsize = 15, fontweight = \"bold\", y = 1.1)"
   ]
  },
  {
   "cell_type": "code",
   "execution_count": 53,
   "metadata": {},
   "outputs": [
    {
     "data": {
      "text/html": [
       "<div>\n",
       "<style scoped>\n",
       "    .dataframe tbody tr th:only-of-type {\n",
       "        vertical-align: middle;\n",
       "    }\n",
       "\n",
       "    .dataframe tbody tr th {\n",
       "        vertical-align: top;\n",
       "    }\n",
       "\n",
       "    .dataframe thead th {\n",
       "        text-align: right;\n",
       "    }\n",
       "</style>\n",
       "<table border=\"1\" class=\"dataframe\">\n",
       "  <thead>\n",
       "    <tr style=\"text-align: right;\">\n",
       "      <th></th>\n",
       "      <th>觀看次數</th>\n",
       "      <th>歌名</th>\n",
       "    </tr>\n",
       "  </thead>\n",
       "  <tbody>\n",
       "    <tr>\n",
       "      <th>1</th>\n",
       "      <td>29698034</td>\n",
       "      <td>【夜曲 Ye Qu】</td>\n",
       "    </tr>\n",
       "    <tr>\n",
       "      <th>2</th>\n",
       "      <td>14826349</td>\n",
       "      <td>【珊瑚海 Coral Sea】</td>\n",
       "    </tr>\n",
       "    <tr>\n",
       "      <th>3</th>\n",
       "      <td>22968329</td>\n",
       "      <td>【髮如雪 Hair Like Snow】</td>\n",
       "    </tr>\n",
       "    <tr>\n",
       "      <th>4</th>\n",
       "      <td>5278725</td>\n",
       "      <td>【飄移 Drifting】</td>\n",
       "    </tr>\n",
       "    <tr>\n",
       "      <th>5</th>\n",
       "      <td>10260079</td>\n",
       "      <td>【黑色毛衣 Black Sweater】</td>\n",
       "    </tr>\n",
       "    <tr>\n",
       "      <th>6</th>\n",
       "      <td>2103669</td>\n",
       "      <td>【藍色風暴 Blue Storm】</td>\n",
       "    </tr>\n",
       "    <tr>\n",
       "      <th>7</th>\n",
       "      <td>23237527</td>\n",
       "      <td>【楓Maple Leaf 】</td>\n",
       "    </tr>\n",
       "    <tr>\n",
       "      <th>8</th>\n",
       "      <td>1873895</td>\n",
       "      <td>【麥芽糖 Malt Sugar】</td>\n",
       "    </tr>\n",
       "    <tr>\n",
       "      <th>9</th>\n",
       "      <td>3712738</td>\n",
       "      <td>【浪漫手機 Romantic Cellphone】</td>\n",
       "    </tr>\n",
       "    <tr>\n",
       "      <th>10</th>\n",
       "      <td>4018150</td>\n",
       "      <td>【四面楚歌 Surrounded】</td>\n",
       "    </tr>\n",
       "    <tr>\n",
       "      <th>11</th>\n",
       "      <td>30464693</td>\n",
       "      <td>【一路向北 All the Way North】</td>\n",
       "    </tr>\n",
       "    <tr>\n",
       "      <th>12</th>\n",
       "      <td>1653491</td>\n",
       "      <td>【逆鱗 官方完整MV】</td>\n",
       "    </tr>\n",
       "  </tbody>\n",
       "</table>\n",
       "</div>"
      ],
      "text/plain": [
       "        觀看次數                         歌名\n",
       "1   29698034                 【夜曲 Ye Qu】\n",
       "2   14826349            【珊瑚海 Coral Sea】\n",
       "3   22968329       【髮如雪 Hair Like Snow】\n",
       "4    5278725              【飄移 Drifting】\n",
       "5   10260079       【黑色毛衣 Black Sweater】\n",
       "6    2103669          【藍色風暴 Blue Storm】\n",
       "7   23237527             【楓Maple Leaf 】\n",
       "8    1873895           【麥芽糖 Malt Sugar】\n",
       "9    3712738  【浪漫手機 Romantic Cellphone】\n",
       "10   4018150          【四面楚歌 Surrounded】\n",
       "11  30464693   【一路向北 All the Way North】\n",
       "12   1653491                【逆鱗 官方完整MV】"
      ]
     },
     "execution_count": 53,
     "metadata": {},
     "output_type": "execute_result"
    }
   ],
   "source": [
    "chopin['歌名'] = title\n",
    "chopin.reindex(columns = ['歌名', '觀看次數'])\n",
    "chopin"
   ]
  },
  {
   "cell_type": "code",
   "execution_count": 54,
   "metadata": {},
   "outputs": [
    {
     "name": "stdout",
     "output_type": "stream",
     "text": [
      "---------------------------------------------------------------------------------------\n"
     ]
    },
    {
     "name": "stderr",
     "output_type": "stream",
     "text": [
      "D:\\Users\\user\\Anaconda3\\lib\\site-packages\\ipykernel_launcher.py:4: FutureWarning: by argument to sort_index is deprecated, please use .sort_values(by=...)\n",
      "  after removing the cwd from sys.path.\n"
     ]
    },
    {
     "data": {
      "text/html": [
       "<div>\n",
       "<style scoped>\n",
       "    .dataframe tbody tr th:only-of-type {\n",
       "        vertical-align: middle;\n",
       "    }\n",
       "\n",
       "    .dataframe tbody tr th {\n",
       "        vertical-align: top;\n",
       "    }\n",
       "\n",
       "    .dataframe thead th {\n",
       "        text-align: right;\n",
       "    }\n",
       "</style>\n",
       "<table border=\"1\" class=\"dataframe\">\n",
       "  <thead>\n",
       "    <tr style=\"text-align: right;\">\n",
       "      <th></th>\n",
       "      <th>觀看次數</th>\n",
       "      <th>歌名</th>\n",
       "    </tr>\n",
       "  </thead>\n",
       "  <tbody>\n",
       "    <tr>\n",
       "      <th>11</th>\n",
       "      <td>30464693</td>\n",
       "      <td>【一路向北 All the Way North】</td>\n",
       "    </tr>\n",
       "    <tr>\n",
       "      <th>1</th>\n",
       "      <td>29698034</td>\n",
       "      <td>【夜曲 Ye Qu】</td>\n",
       "    </tr>\n",
       "    <tr>\n",
       "      <th>7</th>\n",
       "      <td>23237527</td>\n",
       "      <td>【楓Maple Leaf 】</td>\n",
       "    </tr>\n",
       "    <tr>\n",
       "      <th>3</th>\n",
       "      <td>22968329</td>\n",
       "      <td>【髮如雪 Hair Like Snow】</td>\n",
       "    </tr>\n",
       "    <tr>\n",
       "      <th>2</th>\n",
       "      <td>14826349</td>\n",
       "      <td>【珊瑚海 Coral Sea】</td>\n",
       "    </tr>\n",
       "    <tr>\n",
       "      <th>5</th>\n",
       "      <td>10260079</td>\n",
       "      <td>【黑色毛衣 Black Sweater】</td>\n",
       "    </tr>\n",
       "    <tr>\n",
       "      <th>4</th>\n",
       "      <td>5278725</td>\n",
       "      <td>【飄移 Drifting】</td>\n",
       "    </tr>\n",
       "    <tr>\n",
       "      <th>10</th>\n",
       "      <td>4018150</td>\n",
       "      <td>【四面楚歌 Surrounded】</td>\n",
       "    </tr>\n",
       "    <tr>\n",
       "      <th>9</th>\n",
       "      <td>3712738</td>\n",
       "      <td>【浪漫手機 Romantic Cellphone】</td>\n",
       "    </tr>\n",
       "    <tr>\n",
       "      <th>6</th>\n",
       "      <td>2103669</td>\n",
       "      <td>【藍色風暴 Blue Storm】</td>\n",
       "    </tr>\n",
       "    <tr>\n",
       "      <th>8</th>\n",
       "      <td>1873895</td>\n",
       "      <td>【麥芽糖 Malt Sugar】</td>\n",
       "    </tr>\n",
       "    <tr>\n",
       "      <th>12</th>\n",
       "      <td>1653491</td>\n",
       "      <td>【逆鱗 官方完整MV】</td>\n",
       "    </tr>\n",
       "  </tbody>\n",
       "</table>\n",
       "</div>"
      ],
      "text/plain": [
       "        觀看次數                         歌名\n",
       "11  30464693   【一路向北 All the Way North】\n",
       "1   29698034                 【夜曲 Ye Qu】\n",
       "7   23237527             【楓Maple Leaf 】\n",
       "3   22968329       【髮如雪 Hair Like Snow】\n",
       "2   14826349            【珊瑚海 Coral Sea】\n",
       "5   10260079       【黑色毛衣 Black Sweater】\n",
       "4    5278725              【飄移 Drifting】\n",
       "10   4018150          【四面楚歌 Surrounded】\n",
       "9    3712738  【浪漫手機 Romantic Cellphone】\n",
       "6    2103669          【藍色風暴 Blue Storm】\n",
       "8    1873895           【麥芽糖 Malt Sugar】\n",
       "12   1653491                【逆鱗 官方完整MV】"
      ]
     },
     "execution_count": 54,
     "metadata": {},
     "output_type": "execute_result"
    }
   ],
   "source": [
    "\n",
    "print('---------------------------------------------------------------------------------------')\n",
    "\n",
    "chopinS = chopin.sort_index(by = '觀看次數', ascending=False)\n",
    "chopinS"
   ]
  },
  {
   "cell_type": "markdown",
   "metadata": {},
   "source": [
    "## 最後把六張專輯的資料合併"
   ]
  },
  {
   "cell_type": "code",
   "execution_count": 55,
   "metadata": {},
   "outputs": [],
   "source": [
    "alkl = pd.concat([Jay,Fantacy,space, YHM, jasmine, chopin])\n",
    "\n",
    "alkl = alkl.reindex(columns = ['歌名', '觀看次數'])"
   ]
  },
  {
   "cell_type": "code",
   "execution_count": 56,
   "metadata": {},
   "outputs": [
    {
     "data": {
      "text/html": [
       "<div>\n",
       "<style scoped>\n",
       "    .dataframe tbody tr th:only-of-type {\n",
       "        vertical-align: middle;\n",
       "    }\n",
       "\n",
       "    .dataframe tbody tr th {\n",
       "        vertical-align: top;\n",
       "    }\n",
       "\n",
       "    .dataframe thead th {\n",
       "        text-align: right;\n",
       "    }\n",
       "</style>\n",
       "<table border=\"1\" class=\"dataframe\">\n",
       "  <thead>\n",
       "    <tr style=\"text-align: right;\">\n",
       "      <th></th>\n",
       "      <th>歌名</th>\n",
       "      <th>觀看次數</th>\n",
       "    </tr>\n",
       "  </thead>\n",
       "  <tbody>\n",
       "    <tr>\n",
       "      <th>1</th>\n",
       "      <td>【可愛女人 官方完整MV】</td>\n",
       "      <td>9222616</td>\n",
       "    </tr>\n",
       "    <tr>\n",
       "      <th>2</th>\n",
       "      <td>【星晴 Starry Mood】</td>\n",
       "      <td>8652115</td>\n",
       "    </tr>\n",
       "    <tr>\n",
       "      <th>3</th>\n",
       "      <td>【黑色幽默 Black Humor】</td>\n",
       "      <td>7556490</td>\n",
       "    </tr>\n",
       "    <tr>\n",
       "      <th>4</th>\n",
       "      <td>【龍捲風 官方完整MV】</td>\n",
       "      <td>16418429</td>\n",
       "    </tr>\n",
       "    <tr>\n",
       "      <th>5</th>\n",
       "      <td>【反方向的鐘 Counter-clockwise Clock】</td>\n",
       "      <td>3100061</td>\n",
       "    </tr>\n",
       "    <tr>\n",
       "      <th>6</th>\n",
       "      <td>【娘子 Wife】</td>\n",
       "      <td>2197748</td>\n",
       "    </tr>\n",
       "    <tr>\n",
       "      <th>7</th>\n",
       "      <td>【伊斯坦堡 官方完整MV】</td>\n",
       "      <td>1892512</td>\n",
       "    </tr>\n",
       "    <tr>\n",
       "      <th>8</th>\n",
       "      <td>【完美主義 Perfectionism】</td>\n",
       "      <td>2118185</td>\n",
       "    </tr>\n",
       "    <tr>\n",
       "      <th>9</th>\n",
       "      <td>【鬥牛 Basketball Match】</td>\n",
       "      <td>1706583</td>\n",
       "    </tr>\n",
       "    <tr>\n",
       "      <th>10</th>\n",
       "      <td>【印地安老斑鳩 Ancient Indian Turtledove】</td>\n",
       "      <td>1769529</td>\n",
       "    </tr>\n",
       "    <tr>\n",
       "      <th>11</th>\n",
       "      <td>【上海 一九四三 Shanghai 1943】</td>\n",
       "      <td>4953808</td>\n",
       "    </tr>\n",
       "    <tr>\n",
       "      <th>12</th>\n",
       "      <td>【忍者 Ninja】</td>\n",
       "      <td>2587015</td>\n",
       "    </tr>\n",
       "    <tr>\n",
       "      <th>13</th>\n",
       "      <td>【爸 我回來了 Dad, I'm home】</td>\n",
       "      <td>2277447</td>\n",
       "    </tr>\n",
       "    <tr>\n",
       "      <th>14</th>\n",
       "      <td>【威廉古堡 William Castle】</td>\n",
       "      <td>2453198</td>\n",
       "    </tr>\n",
       "    <tr>\n",
       "      <th>15</th>\n",
       "      <td>【開不了口 I Find It Hard To Say】</td>\n",
       "      <td>20555844</td>\n",
       "    </tr>\n",
       "    <tr>\n",
       "      <th>16</th>\n",
       "      <td>【愛在西元前 Love before BC】</td>\n",
       "      <td>10047090</td>\n",
       "    </tr>\n",
       "    <tr>\n",
       "      <th>17</th>\n",
       "      <td>【對不起 Sorry】</td>\n",
       "      <td>2270381</td>\n",
       "    </tr>\n",
       "    <tr>\n",
       "      <th>18</th>\n",
       "      <td>【雙截棍 Nunchucks】</td>\n",
       "      <td>4628710</td>\n",
       "    </tr>\n",
       "    <tr>\n",
       "      <th>19</th>\n",
       "      <td>【簡單愛 Simple Love】</td>\n",
       "      <td>7525473</td>\n",
       "    </tr>\n",
       "    <tr>\n",
       "      <th>20</th>\n",
       "      <td>【安靜 Silence】</td>\n",
       "      <td>23276412</td>\n",
       "    </tr>\n",
       "    <tr>\n",
       "      <th>21</th>\n",
       "      <td>【蝸牛 Snail】</td>\n",
       "      <td>1580430</td>\n",
       "    </tr>\n",
       "    <tr>\n",
       "      <th>22</th>\n",
       "      <td>【你比從前快樂 You Are Happier Than Before】</td>\n",
       "      <td>1894562</td>\n",
       "    </tr>\n",
       "    <tr>\n",
       "      <th>23</th>\n",
       "      <td>【世界末日 End of the World】</td>\n",
       "      <td>3743537</td>\n",
       "    </tr>\n",
       "    <tr>\n",
       "      <th>24</th>\n",
       "      <td>【分裂 Split】</td>\n",
       "      <td>4272933</td>\n",
       "    </tr>\n",
       "    <tr>\n",
       "      <th>25</th>\n",
       "      <td>【火車叨位去 The Train's Destination】</td>\n",
       "      <td>1331994</td>\n",
       "    </tr>\n",
       "    <tr>\n",
       "      <th>26</th>\n",
       "      <td>【半島鐵盒 Peninsula Ironbox】</td>\n",
       "      <td>10628589</td>\n",
       "    </tr>\n",
       "    <tr>\n",
       "      <th>27</th>\n",
       "      <td>【回到過去 Back to the Past】</td>\n",
       "      <td>10004515</td>\n",
       "    </tr>\n",
       "    <tr>\n",
       "      <th>28</th>\n",
       "      <td>【暗號 Secret Sign】</td>\n",
       "      <td>5930679</td>\n",
       "    </tr>\n",
       "    <tr>\n",
       "      <th>29</th>\n",
       "      <td>【米蘭小鐵匠 Little Blacksmith in Milan】</td>\n",
       "      <td>1852973</td>\n",
       "    </tr>\n",
       "    <tr>\n",
       "      <th>30</th>\n",
       "      <td>【爺爺泡的茶 Grandpa's Tea】</td>\n",
       "      <td>4252988</td>\n",
       "    </tr>\n",
       "    <tr>\n",
       "      <th>...</th>\n",
       "      <td>...</td>\n",
       "      <td>...</td>\n",
       "    </tr>\n",
       "    <tr>\n",
       "      <th>39</th>\n",
       "      <td>【懦夫 Coward】</td>\n",
       "      <td>1102144</td>\n",
       "    </tr>\n",
       "    <tr>\n",
       "      <th>40</th>\n",
       "      <td>【雙刀電影版 Double Blade】</td>\n",
       "      <td>203698</td>\n",
       "    </tr>\n",
       "    <tr>\n",
       "      <th>41</th>\n",
       "      <td>【雙刀 官方完整MV】</td>\n",
       "      <td>958052</td>\n",
       "    </tr>\n",
       "    <tr>\n",
       "      <th>42</th>\n",
       "      <td>【愛情懸崖 官方完整MV】</td>\n",
       "      <td>2071255</td>\n",
       "    </tr>\n",
       "    <tr>\n",
       "      <th>43</th>\n",
       "      <td>【梯田 Terrace Field】</td>\n",
       "      <td>1197810</td>\n",
       "    </tr>\n",
       "    <tr>\n",
       "      <th>44</th>\n",
       "      <td>【妳聽得到 官方完整MV】</td>\n",
       "      <td>4033691</td>\n",
       "    </tr>\n",
       "    <tr>\n",
       "      <th>45</th>\n",
       "      <td>【同一種調調 Same Tone】</td>\n",
       "      <td>1062372</td>\n",
       "    </tr>\n",
       "    <tr>\n",
       "      <th>46</th>\n",
       "      <td>【以父之名 官方完整MV】</td>\n",
       "      <td>7481530</td>\n",
       "    </tr>\n",
       "    <tr>\n",
       "      <th>47</th>\n",
       "      <td>【七里香 Qi-Li-Xiang】</td>\n",
       "      <td>25887386</td>\n",
       "    </tr>\n",
       "    <tr>\n",
       "      <th>48</th>\n",
       "      <td>【園遊會 Fun Fair】</td>\n",
       "      <td>5041772</td>\n",
       "    </tr>\n",
       "    <tr>\n",
       "      <th>49</th>\n",
       "      <td>【擱淺 官方完整MV】</td>\n",
       "      <td>25064139</td>\n",
       "    </tr>\n",
       "    <tr>\n",
       "      <th>50</th>\n",
       "      <td>【藉口 Excuse】</td>\n",
       "      <td>19546140</td>\n",
       "    </tr>\n",
       "    <tr>\n",
       "      <th>51</th>\n",
       "      <td>【困獸之鬥 官方完整MV】</td>\n",
       "      <td>1523794</td>\n",
       "    </tr>\n",
       "    <tr>\n",
       "      <th>52</th>\n",
       "      <td>【亂舞春秋 Chaotic Dance】</td>\n",
       "      <td>1881939</td>\n",
       "    </tr>\n",
       "    <tr>\n",
       "      <th>53</th>\n",
       "      <td>【外婆 Grandma】</td>\n",
       "      <td>3975242</td>\n",
       "    </tr>\n",
       "    <tr>\n",
       "      <th>54</th>\n",
       "      <td>【我的地盤 My Territory】</td>\n",
       "      <td>1559805</td>\n",
       "    </tr>\n",
       "    <tr>\n",
       "      <th>55</th>\n",
       "      <td>【止戰之殤 Wounds of War】</td>\n",
       "      <td>8175222</td>\n",
       "    </tr>\n",
       "    <tr>\n",
       "      <th>56</th>\n",
       "      <td>【將軍 官方完整MV】</td>\n",
       "      <td>1919779</td>\n",
       "    </tr>\n",
       "    <tr>\n",
       "      <th>57</th>\n",
       "      <td>【夜曲 Ye Qu】</td>\n",
       "      <td>29698034</td>\n",
       "    </tr>\n",
       "    <tr>\n",
       "      <th>58</th>\n",
       "      <td>【珊瑚海 Coral Sea】</td>\n",
       "      <td>14826349</td>\n",
       "    </tr>\n",
       "    <tr>\n",
       "      <th>59</th>\n",
       "      <td>【髮如雪 Hair Like Snow】</td>\n",
       "      <td>22968329</td>\n",
       "    </tr>\n",
       "    <tr>\n",
       "      <th>60</th>\n",
       "      <td>【飄移 Drifting】</td>\n",
       "      <td>5278725</td>\n",
       "    </tr>\n",
       "    <tr>\n",
       "      <th>61</th>\n",
       "      <td>【黑色毛衣 Black Sweater】</td>\n",
       "      <td>10260079</td>\n",
       "    </tr>\n",
       "    <tr>\n",
       "      <th>62</th>\n",
       "      <td>【藍色風暴 Blue Storm】</td>\n",
       "      <td>2103669</td>\n",
       "    </tr>\n",
       "    <tr>\n",
       "      <th>63</th>\n",
       "      <td>【楓Maple Leaf 】</td>\n",
       "      <td>23237527</td>\n",
       "    </tr>\n",
       "    <tr>\n",
       "      <th>64</th>\n",
       "      <td>【麥芽糖 Malt Sugar】</td>\n",
       "      <td>1873895</td>\n",
       "    </tr>\n",
       "    <tr>\n",
       "      <th>65</th>\n",
       "      <td>【浪漫手機 Romantic Cellphone】</td>\n",
       "      <td>3712738</td>\n",
       "    </tr>\n",
       "    <tr>\n",
       "      <th>66</th>\n",
       "      <td>【四面楚歌 Surrounded】</td>\n",
       "      <td>4018150</td>\n",
       "    </tr>\n",
       "    <tr>\n",
       "      <th>67</th>\n",
       "      <td>【一路向北 All the Way North】</td>\n",
       "      <td>30464693</td>\n",
       "    </tr>\n",
       "    <tr>\n",
       "      <th>68</th>\n",
       "      <td>【逆鱗 官方完整MV】</td>\n",
       "      <td>1653491</td>\n",
       "    </tr>\n",
       "  </tbody>\n",
       "</table>\n",
       "<p>68 rows × 2 columns</p>\n",
       "</div>"
      ],
      "text/plain": [
       "                                      歌名      觀看次數\n",
       "1                          【可愛女人 官方完整MV】   9222616\n",
       "2                       【星晴 Starry Mood】   8652115\n",
       "3                     【黑色幽默 Black Humor】   7556490\n",
       "4                           【龍捲風 官方完整MV】  16418429\n",
       "5        【反方向的鐘 Counter-clockwise Clock】   3100061\n",
       "6                              【娘子 Wife】   2197748\n",
       "7                          【伊斯坦堡 官方完整MV】   1892512\n",
       "8                   【完美主義 Perfectionism】   2118185\n",
       "9                  【鬥牛 Basketball Match】   1706583\n",
       "10    【印地安老斑鳩 Ancient Indian Turtledove】   1769529\n",
       "11               【上海 一九四三 Shanghai 1943】   4953808\n",
       "12                            【忍者 Ninja】   2587015\n",
       "13                【爸 我回來了 Dad, I'm home】   2277447\n",
       "14                 【威廉古堡 William Castle】   2453198\n",
       "15          【開不了口 I Find It Hard To Say】  20555844\n",
       "16                【愛在西元前 Love before BC】  10047090\n",
       "17                           【對不起 Sorry】   2270381\n",
       "18                       【雙截棍 Nunchucks】   4628710\n",
       "19                     【簡單愛 Simple Love】   7525473\n",
       "20                          【安靜 Silence】  23276412\n",
       "21                            【蝸牛 Snail】   1580430\n",
       "22  【你比從前快樂 You Are Happier Than Before】   1894562\n",
       "23               【世界末日 End of the World】   3743537\n",
       "24                            【分裂 Split】   4272933\n",
       "25       【火車叨位去 The Train's Destination】   1331994\n",
       "26              【半島鐵盒 Peninsula Ironbox】  10628589\n",
       "27               【回到過去 Back to the Past】  10004515\n",
       "28                      【暗號 Secret Sign】   5930679\n",
       "29    【米蘭小鐵匠 Little Blacksmith in Milan】   1852973\n",
       "30                 【爺爺泡的茶 Grandpa's Tea】   4252988\n",
       "..                                   ...       ...\n",
       "39                           【懦夫 Coward】   1102144\n",
       "40                  【雙刀電影版 Double Blade】    203698\n",
       "41                           【雙刀 官方完整MV】    958052\n",
       "42                         【愛情懸崖 官方完整MV】   2071255\n",
       "43                    【梯田 Terrace Field】   1197810\n",
       "44                         【妳聽得到 官方完整MV】   4033691\n",
       "45                     【同一種調調 Same Tone】   1062372\n",
       "46                         【以父之名 官方完整MV】   7481530\n",
       "47                     【七里香 Qi-Li-Xiang】  25887386\n",
       "48                        【園遊會 Fun Fair】   5041772\n",
       "49                           【擱淺 官方完整MV】  25064139\n",
       "50                           【藉口 Excuse】  19546140\n",
       "51                         【困獸之鬥 官方完整MV】   1523794\n",
       "52                  【亂舞春秋 Chaotic Dance】   1881939\n",
       "53                          【外婆 Grandma】   3975242\n",
       "54                   【我的地盤 My Territory】   1559805\n",
       "55                  【止戰之殤 Wounds of War】   8175222\n",
       "56                           【將軍 官方完整MV】   1919779\n",
       "57                            【夜曲 Ye Qu】  29698034\n",
       "58                       【珊瑚海 Coral Sea】  14826349\n",
       "59                  【髮如雪 Hair Like Snow】  22968329\n",
       "60                         【飄移 Drifting】   5278725\n",
       "61                  【黑色毛衣 Black Sweater】  10260079\n",
       "62                     【藍色風暴 Blue Storm】   2103669\n",
       "63                        【楓Maple Leaf 】  23237527\n",
       "64                      【麥芽糖 Malt Sugar】   1873895\n",
       "65             【浪漫手機 Romantic Cellphone】   3712738\n",
       "66                     【四面楚歌 Surrounded】   4018150\n",
       "67              【一路向北 All the Way North】  30464693\n",
       "68                           【逆鱗 官方完整MV】   1653491\n",
       "\n",
       "[68 rows x 2 columns]"
      ]
     },
     "execution_count": 56,
     "metadata": {},
     "output_type": "execute_result"
    }
   ],
   "source": [
    "num = range(1, 69)\n",
    "alkl.index = Series(list(num))\n",
    "alkl"
   ]
  },
  {
   "cell_type": "markdown",
   "metadata": {},
   "source": [
    "### 畫成折線圖"
   ]
  },
  {
   "cell_type": "code",
   "execution_count": 57,
   "metadata": {},
   "outputs": [
    {
     "data": {
      "image/png": "[encoded data removed]",
      "text/plain": [
       "<matplotlib.figure.Figure at 0x288845e5f28>"
      ]
     },
     "metadata": {},
     "output_type": "display_data"
    }
   ],
   "source": [
    "from matplotlib.font_manager import FontProperties\n",
    "font = FontProperties(fname=r\"c:\\windows\\fonts\\simsun.ttc\", size=14)\n",
    "alkl.plot(xticks = range(1, 69), figsize=(20, 6))\n",
    "plt.xlabel(\"歌曲編號\", fontproperties=font)\n",
    "plt.ylabel(\"觀看次數\", fontproperties=font)\n",
    "plt.title(\"周杰倫前六張專輯點閱率\", fontproperties=font)\n",
    "plt.show()"
   ]
  },
  {
   "cell_type": "markdown",
   "metadata": {},
   "source": [
    "### 用觀看次數排序(這裡只取前20)"
   ]
  },
  {
   "cell_type": "markdown",
   "metadata": {},
   "source": [
    "* 發現杰倫在第六張專輯「十一月的蕭邦」獲得較多點閱率(我最喜歡的專輯，顆顆)"
   ]
  },
  {
   "cell_type": "code",
   "execution_count": 58,
   "metadata": {},
   "outputs": [
    {
     "name": "stderr",
     "output_type": "stream",
     "text": [
      "D:\\Users\\user\\Anaconda3\\lib\\site-packages\\ipykernel_launcher.py:1: FutureWarning: by argument to sort_index is deprecated, please use .sort_values(by=...)\n",
      "  \"\"\"Entry point for launching an IPython kernel.\n"
     ]
    },
    {
     "data": {
      "text/html": [
       "<div>\n",
       "<style scoped>\n",
       "    .dataframe tbody tr th:only-of-type {\n",
       "        vertical-align: middle;\n",
       "    }\n",
       "\n",
       "    .dataframe tbody tr th {\n",
       "        vertical-align: top;\n",
       "    }\n",
       "\n",
       "    .dataframe thead th {\n",
       "        text-align: right;\n",
       "    }\n",
       "</style>\n",
       "<table border=\"1\" class=\"dataframe\">\n",
       "  <thead>\n",
       "    <tr style=\"text-align: right;\">\n",
       "      <th></th>\n",
       "      <th>歌名</th>\n",
       "      <th>觀看次數</th>\n",
       "    </tr>\n",
       "  </thead>\n",
       "  <tbody>\n",
       "    <tr>\n",
       "      <th>35</th>\n",
       "      <td>【晴天 Sunny Day】</td>\n",
       "      <td>31790987</td>\n",
       "    </tr>\n",
       "    <tr>\n",
       "      <th>67</th>\n",
       "      <td>【一路向北 All the Way North】</td>\n",
       "      <td>30464693</td>\n",
       "    </tr>\n",
       "    <tr>\n",
       "      <th>57</th>\n",
       "      <td>【夜曲 Ye Qu】</td>\n",
       "      <td>29698034</td>\n",
       "    </tr>\n",
       "    <tr>\n",
       "      <th>47</th>\n",
       "      <td>【七里香 Qi-Li-Xiang】</td>\n",
       "      <td>25887386</td>\n",
       "    </tr>\n",
       "    <tr>\n",
       "      <th>49</th>\n",
       "      <td>【擱淺 官方完整MV】</td>\n",
       "      <td>25064139</td>\n",
       "    </tr>\n",
       "    <tr>\n",
       "      <th>20</th>\n",
       "      <td>【安靜 Silence】</td>\n",
       "      <td>23276412</td>\n",
       "    </tr>\n",
       "    <tr>\n",
       "      <th>63</th>\n",
       "      <td>【楓Maple Leaf 】</td>\n",
       "      <td>23237527</td>\n",
       "    </tr>\n",
       "    <tr>\n",
       "      <th>59</th>\n",
       "      <td>【髮如雪 Hair Like Snow】</td>\n",
       "      <td>22968329</td>\n",
       "    </tr>\n",
       "    <tr>\n",
       "      <th>15</th>\n",
       "      <td>【開不了口 I Find It Hard To Say】</td>\n",
       "      <td>20555844</td>\n",
       "    </tr>\n",
       "    <tr>\n",
       "      <th>50</th>\n",
       "      <td>【藉口 Excuse】</td>\n",
       "      <td>19546140</td>\n",
       "    </tr>\n",
       "    <tr>\n",
       "      <th>4</th>\n",
       "      <td>【龍捲風 官方完整MV】</td>\n",
       "      <td>16418429</td>\n",
       "    </tr>\n",
       "    <tr>\n",
       "      <th>58</th>\n",
       "      <td>【珊瑚海 Coral Sea】</td>\n",
       "      <td>14826349</td>\n",
       "    </tr>\n",
       "    <tr>\n",
       "      <th>26</th>\n",
       "      <td>【半島鐵盒 Peninsula Ironbox】</td>\n",
       "      <td>10628589</td>\n",
       "    </tr>\n",
       "    <tr>\n",
       "      <th>61</th>\n",
       "      <td>【黑色毛衣 Black Sweater】</td>\n",
       "      <td>10260079</td>\n",
       "    </tr>\n",
       "    <tr>\n",
       "      <th>16</th>\n",
       "      <td>【愛在西元前 Love before BC】</td>\n",
       "      <td>10047090</td>\n",
       "    </tr>\n",
       "    <tr>\n",
       "      <th>27</th>\n",
       "      <td>【回到過去 Back to the Past】</td>\n",
       "      <td>10004515</td>\n",
       "    </tr>\n",
       "    <tr>\n",
       "      <th>1</th>\n",
       "      <td>【可愛女人 官方完整MV】</td>\n",
       "      <td>9222616</td>\n",
       "    </tr>\n",
       "    <tr>\n",
       "      <th>2</th>\n",
       "      <td>【星晴 Starry Mood】</td>\n",
       "      <td>8652115</td>\n",
       "    </tr>\n",
       "    <tr>\n",
       "      <th>55</th>\n",
       "      <td>【止戰之殤 Wounds of War】</td>\n",
       "      <td>8175222</td>\n",
       "    </tr>\n",
       "    <tr>\n",
       "      <th>36</th>\n",
       "      <td>【東風破 Dong-Feng-Po】</td>\n",
       "      <td>7688483</td>\n",
       "    </tr>\n",
       "  </tbody>\n",
       "</table>\n",
       "</div>"
      ],
      "text/plain": [
       "                              歌名      觀看次數\n",
       "35                【晴天 Sunny Day】  31790987\n",
       "67      【一路向北 All the Way North】  30464693\n",
       "57                    【夜曲 Ye Qu】  29698034\n",
       "47             【七里香 Qi-Li-Xiang】  25887386\n",
       "49                   【擱淺 官方完整MV】  25064139\n",
       "20                  【安靜 Silence】  23276412\n",
       "63                【楓Maple Leaf 】  23237527\n",
       "59          【髮如雪 Hair Like Snow】  22968329\n",
       "15  【開不了口 I Find It Hard To Say】  20555844\n",
       "50                   【藉口 Excuse】  19546140\n",
       "4                   【龍捲風 官方完整MV】  16418429\n",
       "58               【珊瑚海 Coral Sea】  14826349\n",
       "26      【半島鐵盒 Peninsula Ironbox】  10628589\n",
       "61          【黑色毛衣 Black Sweater】  10260079\n",
       "16        【愛在西元前 Love before BC】  10047090\n",
       "27       【回到過去 Back to the Past】  10004515\n",
       "1                  【可愛女人 官方完整MV】   9222616\n",
       "2               【星晴 Starry Mood】   8652115\n",
       "55          【止戰之殤 Wounds of War】   8175222\n",
       "36            【東風破 Dong-Feng-Po】   7688483"
      ]
     },
     "execution_count": 58,
     "metadata": {},
     "output_type": "execute_result"
    }
   ],
   "source": [
    "als = alkl.sort_index(by = '觀看次數', ascending=False)\n",
    "als[:20]"
   ]
  },
  {
   "cell_type": "markdown",
   "metadata": {},
   "source": [
    "## 六張專輯的總觀看次數"
   ]
  },
  {
   "cell_type": "code",
   "execution_count": 59,
   "metadata": {},
   "outputs": [
    {
     "name": "stdout",
     "output_type": "stream",
     "text": [
      "總觀看次數：496875937次\n"
     ]
    }
   ],
   "source": [
    "sum = als['觀看次數'].sum()\n",
    "print(\"總觀看次數：{}次\".format(sum))"
   ]
  },
  {
   "cell_type": "markdown",
   "metadata": {},
   "source": [
    "## 把六張專輯六張圖合併就大功告成，讚讚"
   ]
  },
  {
   "cell_type": "code",
   "execution_count": 60,
   "metadata": {},
   "outputs": [
    {
     "data": {
      "text/plain": [
       "Text(0.5,1.1,\"NOVEMBER'S CHOPIN\")"
      ]
     },
     "execution_count": 60,
     "metadata": {},
     "output_type": "execute_result"
    },
    {
     "data": {
      "image/png": "[encoded data removed]",
      "text/plain": [
       "<matplotlib.figure.Figure at 0x28884886cf8>"
      ]
     },
     "metadata": {},
     "output_type": "display_data"
    }
   ],
   "source": [
    "plt.subplots_adjust(wspace = 0.5, hspace = 1)\n",
    "plt.tight_layout()\n",
    "\n",
    "plt.subplot(2, 3, 1)\n",
    "song = [1, 2, 3, 4, 5, 6, 7, 8, 9, 10]\n",
    "Jay1.index = Series(song)\n",
    "Jay1.drop(['歌名'], axis=1, inplace=True)\n",
    "plt.plot(Jay1, c = 'r')\n",
    "plt.title(\"Jay\", fontsize = 10, fontweight = \"bold\", y = 1.1)\n",
    "\n",
    "plt.subplot(2, 3, 2)\n",
    "song = [1, 2, 3, 4, 5, 6, 7, 8, 9, 10, 11, 12, 13]\n",
    "Fantacy1.index = Series(song)\n",
    "Fantacy1.drop(['歌名'], axis=1, inplace=True)\n",
    "plt.plot(Fantacy1, c = 'r')\n",
    "plt.title(\"Fantacy\", fontsize = 10, fontweight = \"bold\", y = 1.1)\n",
    "\n",
    "plt.subplot(2, 3, 3)\n",
    "song = [1, 2, 3, 4, 5, 6, 7, 8, 9, 10, 11]\n",
    "space1.index = Series(song)\n",
    "space1.drop(['歌名'], axis=1, inplace=True)\n",
    "plt.plot(space1, c = 'r')\n",
    "plt.title(\"EIGHT DIMENSION\", fontsize = 10, fontweight = \"bold\", y = 1.1)\n",
    "\n",
    "plt.subplot(2, 3, 4)\n",
    "song = [1, 2, 3, 4, 5, 6, 7, 8, 9, 10, 11, 12]\n",
    "YHM1.index = Series(song)\n",
    "YHM1.drop(['歌名'], axis=1, inplace=True)\n",
    "plt.plot(YHM1, c = 'r')\n",
    "plt.title(\"YEH HUI MEI\", fontsize = 10, fontweight = \"bold\", y = 1.1)\n",
    "\n",
    "plt.subplot(2, 3, 5)\n",
    "song = [1, 2, 3, 4, 5, 6, 7, 8, 9, 10]\n",
    "jasmine1.index = Series(song)\n",
    "jasmine1.drop(['歌名'], axis=1, inplace=True)\n",
    "plt.plot(jasmine1, c = 'r')\n",
    "plt.title(\"JASMINE\", fontsize = 10, fontweight = \"bold\", y = 1.1)\n",
    "\n",
    "plt.subplot(2, 3, 6)\n",
    "song = [1, 2, 3, 4, 5, 6, 7, 8, 9, 10, 11, 12]\n",
    "chopin1.index = Series(song)\n",
    "chopin1.drop(['歌名'], axis=1, inplace=True)\n",
    "plt.plot(chopin1, c = 'r')\n",
    "plt.title(\"NOVEMBER'S CHOPIN\", fontsize = 10, fontweight = \"bold\", y = 1.1)\n"
   ]
  }
 ],
 "metadata": {
  "kernelspec": {
   "display_name": "Python 3",
   "language": "python",
   "name": "python3"
  },
  "language_info": {
   "codemirror_mode": {
    "name": "ipython",
    "version": 3
   },
   "file_extension": ".py",
   "mimetype": "text/x-python",
   "name": "python",
   "nbconvert_exporter": "python",
   "pygments_lexer": "ipython3",
   "version": "3.6.4"
  }
 },
 "nbformat": 4,
 "nbformat_minor": 2
}
