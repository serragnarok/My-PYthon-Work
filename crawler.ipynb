{
 "cells": [
  {
   "cell_type": "code",
   "execution_count": null,
   "metadata": {},
   "outputs": [
    {
     "name": "stdout",
     "output_type": "stream",
     "text": [
      "0\n"
     ]
    },
    {
     "name": "stderr",
     "output_type": "stream",
     "text": [
      "Building prefix dict from the default dictionary ...\n",
      "Loading model from cache C:\\Users\\user\\AppData\\Local\\Temp\\jieba.cache\n",
      "Loading model cost 0.947 seconds.\n",
      "Prefix dict has been built succesfully.\n"
     ]
    },
    {
     "name": "stdout",
     "output_type": "stream",
     "text": [
      "1\n",
      "2\n"
     ]
    }
   ],
   "source": [
    "import requests #連接網址套件\n",
    "from bs4 import BeautifulSoup #爬蟲套件\n",
    "import jieba #斷詞\n",
    "import matplotlib.pyplot as plt #畫圖\n",
    "from wordcloud import WordCloud, ImageColorGenerator #文字雲套件\n",
    "import re #正規表達式套件\n",
    "freq = {}\n",
    "stop = [\"的\",\"了\",\"好\", \"也\", \"再\", \"有\", \"與\", \"後\", \"記者\", \"報導\", \"是\", \"說\", \"會\", \"為\", \"以\", \"例\", \"都\", \"在\", \"就\", \"於\", \"及\", \"長\", \"對\", \"不\", \"讓\", \"被\", \"或\", \"第\", \"但\", \"到\", \"要\", \"表示\", \"以\", \"等\", \"和\", \"個\"]\n",
    "\n",
    "for i in range(5):\n",
    "    url = requests.get(\"https://news.ltn.com.tw/search/?keyword=%E9%9F%93%E5%9C%8B%E7%91%9C&conditions=and&SYear=2019&SMonth=7&SDay=1&EYear=2019&EMonth=9&EDay=30&page=\" + str(i+1))\n",
    "    soup = BeautifulSoup(url.text, 'html.parser')\n",
    "    t = soup.find_all(\"a\" ,class_=\"tit\") \n",
    "    print(i)\n",
    "    for _ in t:\n",
    "        article = requests.get(\"http://news.ltn.com.tw/\" + _.get(\"href\"))\n",
    "        ap = BeautifulSoup(article.text, 'html.parser')\n",
    "        txt = ap.select('div.text > p')\n",
    "        for q in txt:\n",
    "            words = jieba.cut(str(q), cut_all=False)\n",
    "            words = [word for word in words if word not in stop]\n",
    "            for word in words:\n",
    "                word = re.sub(\"[A-Za-z0-9\\[\\`\\~\\!\\@\\#\\$\\^\\&\\*\\(\\)\\=\\|\\{\\}\\'\\:\\;\\'\\,\\[\\]\\.\\<\\>\\/\\?\\~\\！\\@\\#\\\\\\&\\*\\%\\\"\\'\\／\\。\\〕\\〔\\」\\一\\）\\（\\］\\「\\︶\\？\\’\\ˊ\\ˋ\\、\\`\\‵\\，\\；\\%\\％內容頁點我載點]\", \"\", word)\n",
    "                if word in freq:\n",
    "                    freq[word] = freq[word] + 1\n",
    "                else:\n",
    "                    freq[word] = float(1)\n",
    "        for fr in freq:\n",
    "            if fr == 1:\n",
    "                del fr\n",
    "\n",
    "print(freq)\n",
    "\n",
    "wc = WordCloud(background_color=\"white\",width=1000, height=860, margin=2,font_path =\"C:\\Windows\\Fonts\\kaiu.ttf\")\n",
    "wc.generate_from_frequencies(freq)\n",
    "plt.figure()\n",
    "\n",
    "plt.imshow(wc)\n",
    "plt.axis(\"off\")\n",
    "plt.show()\n",
    "\n",
    "\n",
    "    "
   ]
  },
  {
   "cell_type": "code",
   "execution_count": null,
   "metadata": {},
   "outputs": [],
   "source": []
  }
 ],
 "metadata": {
  "kernelspec": {
   "display_name": "Python 3",
   "language": "python",
   "name": "python3"
  },
  "language_info": {
   "codemirror_mode": {
    "name": "ipython",
    "version": 3
   },
   "file_extension": ".py",
   "mimetype": "text/x-python",
   "name": "python",
   "nbconvert_exporter": "python",
   "pygments_lexer": "ipython3",
   "version": "3.6.4"
  }
 },
 "nbformat": 4,
 "nbformat_minor": 2
}
