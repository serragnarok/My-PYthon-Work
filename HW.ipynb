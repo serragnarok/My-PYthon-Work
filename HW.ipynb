{
 "cells": [
  {
   "cell_type": "code",
   "execution_count": 2,
   "metadata": {},
   "outputs": [
    {
     "name": "stdout",
     "output_type": "stream",
     "text": [
      "Using matplotlib backend: MacOSX\n"
     ]
    }
   ],
   "source": [
    "%matplotlib\n",
    "\n",
    "import numpy as np\n",
    "import matplotlib.pyplot as plt\n",
    "import pandas as pd\n",
    "import random"
   ]
  },
  {
   "cell_type": "markdown",
   "metadata": {},
   "source": [
    "## 作業一 投骰子比大小"
   ]
  },
  {
   "cell_type": "code",
   "execution_count": 3,
   "metadata": {},
   "outputs": [
    {
     "name": "stdout",
     "output_type": "stream",
     "text": [
      "比莊家大還小？\n",
      "莊家點數：5\n",
      "你的點數：4\n"
     ]
    }
   ],
   "source": [
    "diceHost = random.randint(1, 6)\n",
    "diceP1 = random.randint(1, 6)\n",
    "\n",
    "if diceHost == diceP1:\n",
    "    diceHost = random.randint(1, 6)\n",
    "    diceP1 = random.randint(1, 6)\n",
    "\n",
    "ans = input('比莊家大還小？')\n",
    "\n",
    "print('莊家點數：' + str(diceHost) + '\\n' + '你的點數：' + str(diceP1))\n",
    "\n",
    "if ans == '大':\n",
    "    if diceHost > diceP1:\n",
    "        print('you lose')\n",
    "    elif diceHost < diceP1:\n",
    "        print('you win')\n",
    "elif ans == '小':\n",
    "    if diceHost < diceP1:\n",
    "        print('you lose')\n",
    "    elif diceHost > diceP1:\n",
    "        print('you win')"
   ]
  },
  {
   "cell_type": "markdown",
   "metadata": {},
   "source": [
    "## 作業二 麻將骰骰子"
   ]
  },
  {
   "cell_type": "code",
   "execution_count": 4,
   "metadata": {},
   "outputs": [],
   "source": [
    "def dice():\n",
    "    dice1 = random.randint(1, 6)\n",
    "    dice2 = random.randint(1, 6)\n",
    "    dice3 = random.randint(1, 6)\n",
    "\n",
    "    diceSum = dice1 + dice2 + dice3\n",
    "    d = diceSum%4\n",
    "    \n",
    "    print('骰出的點數是' + str(diceSum))\n",
    "    \n",
    "    if d == 0:\n",
    "        print('牌從上家開始抓，抓' + str(diceSum) + '剩' + str(18-diceSum))\n",
    "    elif d == 1:\n",
    "        print('牌從莊家開始抓，抓' + str(diceSum) + '剩' + str(18-diceSum))\n",
    "    elif d == 2:\n",
    "        print('牌從下家開始抓，抓' + str(diceSum) + '剩' + str(18-diceSum))\n",
    "    elif d == 3:\n",
    "        print('牌從對家開始抓，抓' + str(diceSum) + '剩' + str(18-diceSum))"
   ]
  },
  {
   "cell_type": "code",
   "execution_count": 5,
   "metadata": {},
   "outputs": [
    {
     "name": "stdout",
     "output_type": "stream",
     "text": [
      "骰出的點數是12\n",
      "牌從上家開始抓，抓12剩6\n"
     ]
    }
   ],
   "source": [
    "dice()"
   ]
  },
  {
   "cell_type": "markdown",
   "metadata": {},
   "source": [
    "## 作業三 按鈕組件"
   ]
  },
  {
   "cell_type": "code",
   "execution_count": 6,
   "metadata": {},
   "outputs": [],
   "source": [
    "import ipywidgets as widgets\n",
    "from IPython.display import display"
   ]
  },
  {
   "cell_type": "code",
   "execution_count": 16,
   "metadata": {},
   "outputs": [
    {
     "data": {
      "application/vnd.jupyter.widget-view+json": {
       "model_id": "1aa306cd953644fe802dc4819beb804e",
       "version_major": 2,
       "version_minor": 0
      },
      "text/plain": [
       "Button(description='↑', style=ButtonStyle())"
      ]
     },
     "metadata": {},
     "output_type": "display_data"
    },
    {
     "data": {
      "application/vnd.jupyter.widget-view+json": {
       "model_id": "ebf0dec6d2f14fd29c88205f6b21888f",
       "version_major": 2,
       "version_minor": 0
      },
      "text/plain": [
       "Button(description='↓', style=ButtonStyle())"
      ]
     },
     "metadata": {},
     "output_type": "display_data"
    },
    {
     "data": {
      "application/vnd.jupyter.widget-view+json": {
       "model_id": "b4fec9a8f7654ed490ee119437afa02b",
       "version_major": 2,
       "version_minor": 0
      },
      "text/plain": [
       "Output()"
      ]
     },
     "metadata": {},
     "output_type": "display_data"
    }
   ],
   "source": [
    "one = widgets.Button(description = '↑')\n",
    "two = widgets.Button(description = '↓')\n",
    "\n",
    "output = widgets.Output()\n",
    "\n",
    "display(one, two, output)\n",
    "\n",
    "def on_button_clicked1(x):\n",
    "    with output:\n",
    "        print(\"UP\")\n",
    "def on_button_clicked2(x):\n",
    "    with output:\n",
    "        print(\"DOWN\")\n",
    "\n",
    "one.on_click(on_button_clicked1)\n",
    "two.on_click(on_button_clicked2)"
   ]
  },
  {
   "cell_type": "markdown",
   "metadata": {},
   "source": [
    "## 作業四 調色盤"
   ]
  },
  {
   "cell_type": "code",
   "execution_count": 9,
   "metadata": {},
   "outputs": [
    {
     "data": {
      "application/vnd.jupyter.widget-view+json": {
       "model_id": "35d23750e89241d3a5a012f7a4e68254",
       "version_major": 2,
       "version_minor": 0
      },
      "text/plain": [
       "ColorPicker(value='Green', description='Pick a color')"
      ]
     },
     "metadata": {},
     "output_type": "display_data"
    }
   ],
   "source": [
    "widgets.ColorPicker(\n",
    "    concise=False,\n",
    "    description='Pick a color',\n",
    "    value='Green',\n",
    "    disabled=False\n",
    ")"
   ]
  },
  {
   "cell_type": "code",
   "execution_count": null,
   "metadata": {},
   "outputs": [],
   "source": []
  }
 ],
 "metadata": {
  "kernelspec": {
   "display_name": "Python 3",
   "language": "python",
   "name": "python3"
  },
  "language_info": {
   "codemirror_mode": {
    "name": "ipython",
    "version": 3
   },
   "file_extension": ".py",
   "mimetype": "text/x-python",
   "name": "python",
   "nbconvert_exporter": "python",
   "pygments_lexer": "ipython3",
   "version": "3.7.0"
  }
 },
 "nbformat": 4,
 "nbformat_minor": 2
}
