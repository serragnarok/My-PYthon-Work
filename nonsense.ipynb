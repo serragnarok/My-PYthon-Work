{
 "cells": [
  {
   "cell_type": "code",
   "execution_count": 21,
   "metadata": {},
   "outputs": [],
   "source": [
    "%matplotlib inline\n",
    "\n",
    "import numpy as np\n",
    "import matplotlib.pyplot as plt\n",
    "import pandas as pd\n",
    "from numpy.random import randint\n",
    "from numpy.random import sample, choice"
   ]
  },
  {
   "cell_type": "code",
   "execution_count": 23,
   "metadata": {},
   "outputs": [],
   "source": [
    "words = '''10億人\n",
    "都\n",
    "驚呆了\n",
    "竟然\n",
    "想不到\n",
    "藝人\n",
    "月入百萬\n",
    "金盆洗手\n",
    "放下屠刀\n",
    "沉默了\n",
    "80萬人\n",
    "瘋傳\n",
    "這種療效\n",
    "效果驚人\n",
    "震驚\n",
    "全世界\n",
    "找不到\n",
    "第二個\n",
    "不敢想像自己的眼睛\n",
    "膽小的人別看\n",
    "愛作夢的人\n",
    "錯過了就是一輩子\n",
    "你不能不看\n",
    "看完後你會感激\n",
    "第3個\n",
    "太誇張了\n",
    "誰能想像\n",
    "全球禁播的\n",
    "電視新聞不敢告訴你的\n",
    "30個\n",
    "你一定會愛上\n",
    "我從椅子上跌下來\n",
    "我看了十遍都不相信\n",
    "真的看不下去\n",
    "值得收藏一輩子\n",
    "把所有人嚇壞\n",
    "快分享給你身邊的人'''"
   ]
  },
  {
   "cell_type": "code",
   "execution_count": 24,
   "metadata": {},
   "outputs": [],
   "source": [
    "phrase = words.split('\\n')"
   ]
  },
  {
   "cell_type": "code",
   "execution_count": 25,
   "metadata": {},
   "outputs": [
    {
     "name": "stdout",
     "output_type": "stream",
     "text": [
      "想不到 都 找不到 竟然 錯過了就是一輩子 竟然....\n"
     ]
    }
   ],
   "source": [
    "ph = choice(phrase, randint(2, 7))\n",
    "ph1 = ' '.join(ph)\n",
    "print(ph1+'....')  \n",
    "    "
   ]
  },
  {
   "cell_type": "code",
   "execution_count": null,
   "metadata": {},
   "outputs": [],
   "source": []
  }
 ],
 "metadata": {
  "kernelspec": {
   "display_name": "Python 3",
   "language": "python",
   "name": "python3"
  },
  "language_info": {
   "codemirror_mode": {
    "name": "ipython",
    "version": 3
   },
   "file_extension": ".py",
   "mimetype": "text/x-python",
   "name": "python",
   "nbconvert_exporter": "python",
   "pygments_lexer": "ipython3",
   "version": "3.6.4"
  }
 },
 "nbformat": 4,
 "nbformat_minor": 2
}
