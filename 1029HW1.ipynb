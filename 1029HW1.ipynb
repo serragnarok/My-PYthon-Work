{
 "cells": [
  {
   "cell_type": "code",
   "execution_count": 1,
   "metadata": {},
   "outputs": [],
   "source": [
    "import ipywidgets as widgets\n",
    "from IPython.display import display\n",
    "ac = {}"
   ]
  },
  {
   "cell_type": "code",
   "execution_count": null,
   "metadata": {},
   "outputs": [
    {
     "name": "stdout",
     "output_type": "stream",
     "text": [
      "請先輸入帳號密碼後，按enter並確認想執行動作\n"
     ]
    },
    {
     "data": {
      "application/vnd.jupyter.widget-view+json": {
       "model_id": "bc2df281457f48fb92e8d6d72a19b02a",
       "version_major": 2,
       "version_minor": 0
      },
      "text/html": [
       "<p>Failed to display Jupyter Widget of type <code>HBox</code>.</p>\n",
       "<p>\n",
       "  If you're reading this message in the Jupyter Notebook or JupyterLab Notebook, it may mean\n",
       "  that the widgets JavaScript is still loading. If this message persists, it\n",
       "  likely means that the widgets JavaScript library is either not installed or\n",
       "  not enabled. See the <a href=\"https://ipywidgets.readthedocs.io/en/stable/user_install.html\">Jupyter\n",
       "  Widgets Documentation</a> for setup instructions.\n",
       "</p>\n",
       "<p>\n",
       "  If you're reading this message in another frontend (for example, a static\n",
       "  rendering on GitHub or <a href=\"https://nbviewer.jupyter.org/\">NBViewer</a>),\n",
       "  it may mean that your frontend doesn't currently support widgets.\n",
       "</p>\n"
      ],
      "text/plain": [
       "HBox(children=(Button(description='註冊', style=ButtonStyle()), Button(description='登入', style=ButtonStyle()), Output()))"
      ]
     },
     "metadata": {},
     "output_type": "display_data"
    }
   ],
   "source": [
    "\n",
    "print('請先輸入帳號密碼後，按enter並確認想執行動作')\n",
    "reg = widgets.Button(description = '註冊')\n",
    "login = widgets.Button(description = '登入')\n",
    "\n",
    "output = widgets.Output()\n",
    "\n",
    "#display(reg, login, output)\n",
    "a = display(widgets.HBox((reg, login, output)))\n",
    "def regist_button_clicked(x):\n",
    "    with output:\n",
    "        print(\"使用者成功註冊！\")\n",
    "        \n",
    "def login_button_clicked(x):\n",
    "    with output:\n",
    "        print(\"使用者成功登入！\")\n",
    "\n",
    "reg.on_click(regist_button_clicked)\n",
    "login.on_click(login_button_clicked)\n",
    "\n",
    "\n",
    "user = input('請輸入您的帳號')\n",
    "psd = input('請輸入您的密碼')"
   ]
  },
  {
   "cell_type": "code",
   "execution_count": null,
   "metadata": {},
   "outputs": [],
   "source": []
  }
 ],
 "metadata": {
  "kernelspec": {
   "display_name": "Python 3",
   "language": "python",
   "name": "python3"
  },
  "language_info": {
   "codemirror_mode": {
    "name": "ipython",
    "version": 3
   },
   "file_extension": ".py",
   "mimetype": "text/x-python",
   "name": "python",
   "nbconvert_exporter": "python",
   "pygments_lexer": "ipython3",
   "version": "3.6.4"
  }
 },
 "nbformat": 4,
 "nbformat_minor": 2
}
