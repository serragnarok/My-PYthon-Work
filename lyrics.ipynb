{
 "cells": [
  {
   "cell_type": "code",
   "execution_count": 5,
   "metadata": {},
   "outputs": [],
   "source": [
    "%matplotlib inline\n",
    "\n",
    "import numpy as np\n",
    "import matplotlib.pyplot as plt\n",
    "import pandas as pd\n",
    "from numpy.random import randint\n",
    "from numpy.random import sample, choice"
   ]
  },
  {
   "cell_type": "code",
   "execution_count": 10,
   "metadata": {},
   "outputs": [],
   "source": [
    "words = '''沒有了\n",
    "聯絡\n",
    "後來的\n",
    "生活\n",
    "我\n",
    "都是\n",
    "聽\n",
    "別人\n",
    "說\n",
    "妳\n",
    "怎麼了\n",
    "怎麼過\n",
    "放不下\n",
    "的\n",
    "人\n",
    "是\n",
    "人多的時候\n",
    "待在角落\n",
    "就怕別人\n",
    "問起\n",
    "你們\n",
    "低著頭\n",
    "護著\n",
    "連\n",
    "抱怨\n",
    "都沒有\n",
    "電話\n",
    "開始躲\n",
    "從\n",
    "不對我說\n",
    "不習慣\n",
    "一個人\n",
    "生活\n",
    "離開我\n",
    "以後\n",
    "要好好過\n",
    "怕\n",
    "打擾\n",
    "想自由\n",
    "這個時候\n",
    "還在意著\n",
    "怎麼\n",
    "拼命\n",
    "解釋著\n",
    "不是\n",
    "我的錯\n",
    "是妳\n",
    "要走\n",
    "眼看著\n",
    "難過\n",
    "挽留\n",
    "的話\n",
    "卻沒有\n",
    "會\n",
    "微笑放手\n",
    "說好不哭\n",
    "讓我走'''"
   ]
  },
  {
   "cell_type": "code",
   "execution_count": 11,
   "metadata": {},
   "outputs": [],
   "source": [
    "phrase = words.split('\\n')"
   ]
  },
  {
   "cell_type": "code",
   "execution_count": 13,
   "metadata": {},
   "outputs": [
    {
     "name": "stdout",
     "output_type": "stream",
     "text": [
      "護著 難過 人 解釋著\n",
      "都是 要走 解釋著 護著 怕\n",
      "低著頭 不是 沒有了 拼命\n",
      "不習慣 都沒有\n",
      "電話 要走 以後\n",
      "我的錯 難過 都沒有\n",
      "護著 不是\n",
      "離開我 待在角落 生活 離開我 聽\n",
      "要好好過 都是 是 連 一個人\n",
      "都是 要走\n",
      "我的錯 問起 以後 不是 不習慣\n",
      "是妳 放不下 低著頭\n",
      "連 聽 卻沒有 放不下 會\n",
      "妳 還在意著 怎麼了 想自由\n",
      "說好不哭 打擾 是 的話\n",
      "聽 微笑放手 說\n",
      "離開我 讓我走 聽\n",
      "生活 抱怨 電話 一個人 不習慣\n",
      "拼命 不對我說 從\n",
      "待在角落 你們\n",
      "都沒有 護著 離開我 是妳\n",
      "的 就怕別人 都沒有\n",
      "連 低著頭\n",
      "妳 難過 眼看著 你們 怕\n",
      "妳 會\n",
      "都沒有 怎麼\n",
      "不對我說 電話\n",
      "拼命 我 生活 拼命\n",
      "待在角落 護著\n",
      "聯絡 不是 你們 會 拼命\n",
      "怕 護著 要走 怎麼\n",
      "難過 要好好過 怎麼過\n",
      "還在意著 我的錯 解釋著\n",
      "後來的 要走 不習慣 我 你們\n"
     ]
    }
   ],
   "source": [
    "P = []\n",
    "l = randint(20, 35)\n",
    "\n",
    "for i in range(l):\n",
    "    \n",
    "    ph = choice(phrase, randint(2, 6))\n",
    "    ph1 = ' '.join(ph)\n",
    "    print(ph1)  \n",
    "    "
   ]
  },
  {
   "cell_type": "code",
   "execution_count": null,
   "metadata": {},
   "outputs": [],
   "source": []
  }
 ],
 "metadata": {
  "kernelspec": {
   "display_name": "Python 3",
   "language": "python",
   "name": "python3"
  },
  "language_info": {
   "codemirror_mode": {
    "name": "ipython",
    "version": 3
   },
   "file_extension": ".py",
   "mimetype": "text/x-python",
   "name": "python",
   "nbconvert_exporter": "python",
   "pygments_lexer": "ipython3",
   "version": "3.6.4"
  }
 },
 "nbformat": 4,
 "nbformat_minor": 2
}
