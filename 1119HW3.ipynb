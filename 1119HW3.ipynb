{
 "cells": [
  {
   "cell_type": "code",
   "execution_count": 1,
   "metadata": {},
   "outputs": [
    {
     "name": "stderr",
     "output_type": "stream",
     "text": [
      "D:\\Users\\user\\Anaconda3\\lib\\site-packages\\ipykernel_launcher.py:32: wxPyDeprecationWarning: Using deprecated class PySimpleApp. Use :class:`App` instead.\n"
     ]
    }
   ],
   "source": [
    "\n",
    "import wx,string\n",
    "class MySalgar(wx.Frame):\n",
    "\tdef __init__(self):\n",
    "\t\twx.Frame.__init__(self,parent=None,title=u\"薪資試算程式\",size=(250,220))\n",
    "\t\tpanel = wx.Panel(self)\n",
    "\t\twx.StaticText(parent=panel,label=u\"工作幾年？\",pos=(10,10))\n",
    "\t\tself.a = wx.TextCtrl(parent=panel,value=\"3\",pos=(100,10))\n",
    "\t\twx.StaticText(parent=panel,label=u\"一個月多少錢？\",pos=(10,50))\n",
    "\t\tself.b = wx.TextCtrl(parent=panel,pos=(100,50))\n",
    "\t\tself.btn = wx.Button(parent=panel,label=u\"結算薪資\",pos=(10,100))\n",
    " #新增 BtnClick 事件 -- 開始 --\n",
    "\t\tself.Bind(wx.EVT_BUTTON,self.BtnClick,self.btn)\n",
    " #新增 BtnClick 事件 -- 結束 --\n",
    "\t\tself.message1 = wx.StaticText(parent=panel,pos=(10,130))\n",
    "\t\tself.message2 = wx.StaticText(parent=panel,pos=(10,160))\n",
    " #撰寫 BtnClick 事件函式 -- 開始 --\n",
    "\tdef BtnClick(self,event):\n",
    "\t\ta = self.a.GetValue()\n",
    "\t\ta = float(a)\n",
    "\t\tb = self.b.GetValue()\n",
    "\t\tb = float(b)\n",
    "\t\tc = b * 12 * a\n",
    "\t\td = c /(365 * a)\n",
    "\t\tmessage1Str = u'您工作 '+str(a)+u' 年可以獲得 '+str(c)+u' 元'\n",
    "\t\tmessage2Str = u'平均每日獲得 '+str(d)+u' 元'\n",
    "\t\tself.message1.SetLabel(message1Str)\n",
    "\t\tself.message2.SetLabel(message2Str)\n",
    "\t\tself.b.ChangeValue('')\n",
    " \t#撰寫 BtnClick 事件函式 -- 結束 --\n",
    "if __name__ =='__main__':\n",
    "\tapp = wx.PySimpleApp()\n",
    "\tframe = MySalgar()\n",
    "\tframe.Show()\n",
    "\tapp.MainLoop()\n"
   ]
  },
  {
   "cell_type": "code",
   "execution_count": null,
   "metadata": {},
   "outputs": [],
   "source": []
  },
  {
   "cell_type": "code",
   "execution_count": null,
   "metadata": {},
   "outputs": [],
   "source": []
  },
  {
   "cell_type": "code",
   "execution_count": null,
   "metadata": {},
   "outputs": [],
   "source": []
  },
  {
   "cell_type": "code",
   "execution_count": null,
   "metadata": {},
   "outputs": [],
   "source": []
  }
 ],
 "metadata": {
  "kernelspec": {
   "display_name": "Python 3",
   "language": "python",
   "name": "python3"
  },
  "language_info": {
   "codemirror_mode": {
    "name": "ipython",
    "version": 3
   },
   "file_extension": ".py",
   "mimetype": "text/x-python",
   "name": "python",
   "nbconvert_exporter": "python",
   "pygments_lexer": "ipython3",
   "version": "3.6.4"
  }
 },
 "nbformat": 4,
 "nbformat_minor": 2
}
